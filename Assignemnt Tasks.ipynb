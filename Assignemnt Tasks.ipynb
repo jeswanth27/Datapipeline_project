{
 "cells": [
  {
   "cell_type": "code",
   "execution_count": 0,
   "metadata": {
    "application/vnd.databricks.v1+cell": {
     "cellMetadata": {
      "byteLimit": 2048000,
      "rowLimit": 10000
     },
     "inputWidgets": {},
     "nuid": "5a0b5aeb-e84d-4a12-99b8-e75bb25131d3",
     "showTitle": false,
     "title": ""
    }
   },
   "outputs": [
    {
     "output_type": "execute_result",
     "data": {
      "text/html": [
       "\n",
       "            <div>\n",
       "                <p><b>SparkSession - hive</b></p>\n",
       "                \n",
       "        <div>\n",
       "            <p><b>SparkContext</b></p>\n",
       "\n",
       "            <p><a href=\"/?o=4309186218986619#setting/sparkui/0310-044312-t2bia8uh/driver-6104503603946218045\">Spark UI</a></p>\n",
       "\n",
       "            <dl>\n",
       "              <dt>Version</dt>\n",
       "                <dd><code>v3.4.1</code></dd>\n",
       "              <dt>Master</dt>\n",
       "                <dd><code>local[*, 4]</code></dd>\n",
       "              <dt>AppName</dt>\n",
       "                <dd><code>Databricks Shell</code></dd>\n",
       "            </dl>\n",
       "        </div>\n",
       "        \n",
       "            </div>\n",
       "        "
      ],
      "text/plain": [
       "<pyspark.sql.session.SparkSession at 0x7f8727b5c1c0>"
      ]
     },
     "execution_count": 1,
     "metadata": {},
     "output_type": "execute_result"
    }
   ],
   "source": [
    "spark"
   ]
  },
  {
   "cell_type": "code",
   "execution_count": 0,
   "metadata": {
    "application/vnd.databricks.v1+cell": {
     "cellMetadata": {
      "byteLimit": 2048000,
      "rowLimit": 10000
     },
     "inputWidgets": {},
     "nuid": "d01704eb-35a8-4058-be6d-465c7d1bd21c",
     "showTitle": false,
     "title": ""
    }
   },
   "outputs": [
    {
     "output_type": "execute_result",
     "data": {
      "text/plain": [
       "True"
      ]
     },
     "execution_count": 2,
     "metadata": {},
     "output_type": "execute_result"
    }
   ],
   "source": [
    "dbutils.fs.mount(source='wasbs://landing@week17storage.blob.core.windows.net',mount_point='/mnt/week11assignment/landing',\n",
    "extra_configs={'fs.azure.account.key.week17storage.blob.core.windows.net':'DwezHFxwgpDba4/fh4P6oR3TlTZYUoJTggu4PIGhSt5AF23lMRBi9yfG6tfOtR666VhUlFexopS2+AStge7HnQ=='})"
   ]
  },
  {
   "cell_type": "code",
   "execution_count": 0,
   "metadata": {
    "application/vnd.databricks.v1+cell": {
     "cellMetadata": {
      "byteLimit": 2048000,
      "rowLimit": 10000
     },
     "inputWidgets": {},
     "nuid": "d6c7abb1-4db4-4181-bea7-445fcef984ca",
     "showTitle": false,
     "title": ""
    }
   },
   "outputs": [
    {
     "output_type": "execute_result",
     "data": {
      "text/plain": [
       "True"
      ]
     },
     "execution_count": 3,
     "metadata": {},
     "output_type": "execute_result"
    }
   ],
   "source": [
    "dbutils.fs.mount(source='wasbs://reporting@week17storage.blob.core.windows.net',mount_point='/mnt/week11assignment/reporting',\n",
    "extra_configs={'fs.azure.account.key.week17storage.blob.core.windows.net':'DwezHFxwgpDba4/fh4P6oR3TlTZYUoJTggu4PIGhSt5AF23lMRBi9yfG6tfOtR666VhUlFexopS2+AStge7HnQ=='})"
   ]
  },
  {
   "cell_type": "code",
   "execution_count": 0,
   "metadata": {
    "application/vnd.databricks.v1+cell": {
     "cellMetadata": {
      "byteLimit": 2048000,
      "rowLimit": 10000
     },
     "inputWidgets": {},
     "nuid": "af793f47-4864-4a72-9870-09c3a6be090f",
     "showTitle": false,
     "title": ""
    }
   },
   "outputs": [
    {
     "output_type": "execute_result",
     "data": {
      "text/plain": [
       "True"
      ]
     },
     "execution_count": 4,
     "metadata": {},
     "output_type": "execute_result"
    }
   ],
   "source": [
    "dbutils.fs.mount(source='wasbs://staging@week17storage.blob.core.windows.net',mount_point='/mnt/week11assignment/staging',\n",
    "extra_configs={'fs.azure.account.key.week17storage.blob.core.windows.net':'DwezHFxwgpDba4/fh4P6oR3TlTZYUoJTggu4PIGhSt5AF23lMRBi9yfG6tfOtR666VhUlFexopS2+AStge7HnQ=='})"
   ]
  },
  {
   "cell_type": "code",
   "execution_count": 0,
   "metadata": {
    "application/vnd.databricks.v1+cell": {
     "cellMetadata": {
      "byteLimit": 2048000,
      "rowLimit": 10000
     },
     "inputWidgets": {},
     "nuid": "73852818-6cc9-40f0-aa5d-e8c3944c1748",
     "showTitle": false,
     "title": ""
    }
   },
   "outputs": [],
   "source": [
    "order_schema='order_id String,order_date date,order_customer_id String,order_status String'"
   ]
  },
  {
   "cell_type": "code",
   "execution_count": 0,
   "metadata": {
    "application/vnd.databricks.v1+cell": {
     "cellMetadata": {
      "byteLimit": 2048000,
      "rowLimit": 10000
     },
     "inputWidgets": {},
     "nuid": "8fdd5c08-da84-4d6f-a036-273d85dc769f",
     "showTitle": false,
     "title": ""
    }
   },
   "outputs": [
    {
     "output_type": "stream",
     "name": "stdout",
     "output_type": "stream",
     "text": [
      "order_id String,order_date date,order_customer_id String,order_status String\n"
     ]
    }
   ],
   "source": [
    "print(order_schema)"
   ]
  },
  {
   "cell_type": "code",
   "execution_count": 0,
   "metadata": {
    "application/vnd.databricks.v1+cell": {
     "cellMetadata": {
      "byteLimit": 2048000,
      "rowLimit": 10000
     },
     "inputWidgets": {},
     "nuid": "372ee8a9-62e8-4813-9fe1-e6e02f79af2e",
     "showTitle": false,
     "title": ""
    }
   },
   "outputs": [],
   "source": [
    "orders_df=spark.read \\\n",
    "    .format(\"csv\") \\\n",
    "    .schema(order_schema) \\\n",
    "    .load(\"dbfs:/mnt/week11assignment/landing/orders_data.csv\")"
   ]
  },
  {
   "cell_type": "code",
   "execution_count": 0,
   "metadata": {
    "application/vnd.databricks.v1+cell": {
     "cellMetadata": {
      "byteLimit": 2048000,
      "rowLimit": 10000
     },
     "inputWidgets": {},
     "nuid": "3ff6613d-446b-4982-8cb5-ae44da1d118f",
     "showTitle": false,
     "title": ""
    }
   },
   "outputs": [
    {
     "output_type": "stream",
     "name": "stdout",
     "output_type": "stream",
     "text": [
      "root\n |-- order_id: string (nullable = true)\n |-- order_date: date (nullable = true)\n |-- order_customer_id: string (nullable = true)\n |-- order_status: string (nullable = true)\n\n"
     ]
    }
   ],
   "source": [
    "orders_df.printSchema()"
   ]
  },
  {
   "cell_type": "code",
   "execution_count": 0,
   "metadata": {
    "application/vnd.databricks.v1+cell": {
     "cellMetadata": {
      "byteLimit": 2048000,
      "rowLimit": 10000
     },
     "inputWidgets": {},
     "nuid": "537224c0-af08-40e2-a6c6-9c845cc8d4a2",
     "showTitle": false,
     "title": ""
    }
   },
   "outputs": [
    {
     "output_type": "stream",
     "name": "stdout",
     "output_type": "stream",
     "text": [
      "+--------+----------+-----------------+---------------+\n|order_id|order_date|order_customer_id|   order_status|\n+--------+----------+-----------------+---------------+\n|       1|2013-07-25|            11599|         CLOSED|\n|       2|2013-07-25|              256|PENDING_PAYMENT|\n|       3|2013-07-25|            12111|       COMPLETE|\n|       4|2013-07-25|             8827|         CLOSED|\n|       5|2013-07-25|            11318|       COMPLETE|\n+--------+----------+-----------------+---------------+\nonly showing top 5 rows\n\n"
     ]
    }
   ],
   "source": [
    "orders_df.show(5)"
   ]
  },
  {
   "cell_type": "code",
   "execution_count": 0,
   "metadata": {
    "application/vnd.databricks.v1+cell": {
     "cellMetadata": {
      "byteLimit": 2048000,
      "rowLimit": 10000
     },
     "inputWidgets": {},
     "nuid": "a5f62eb7-f64f-46c6-848b-695f3cf8a95b",
     "showTitle": false,
     "title": ""
    }
   },
   "outputs": [],
   "source": [
    "customer_schema='customer_id string,customer_fname string,customer_lname string,customer_email string,customer_password string,customer_street string,customer_city string,customer_state string,customer_zipcode string'"
   ]
  },
  {
   "cell_type": "code",
   "execution_count": 0,
   "metadata": {
    "application/vnd.databricks.v1+cell": {
     "cellMetadata": {
      "byteLimit": 2048000,
      "rowLimit": 10000
     },
     "inputWidgets": {},
     "nuid": "58e22088-0e19-4047-96a0-79fbbc84e4fe",
     "showTitle": false,
     "title": ""
    }
   },
   "outputs": [
    {
     "output_type": "stream",
     "name": "stdout",
     "output_type": "stream",
     "text": [
      "customer_id string,customer_fname string,customer_lname string,customer_email string,customer_password string,customer_street string,customer_city string,customer_state string,customer_zipcode string\n"
     ]
    }
   ],
   "source": [
    "print(customer_schema)"
   ]
  },
  {
   "cell_type": "code",
   "execution_count": 0,
   "metadata": {
    "application/vnd.databricks.v1+cell": {
     "cellMetadata": {
      "byteLimit": 2048000,
      "rowLimit": 10000
     },
     "inputWidgets": {},
     "nuid": "d86258bb-6978-4844-ae88-e60e7506c74c",
     "showTitle": false,
     "title": ""
    }
   },
   "outputs": [],
   "source": [
    "customer_df=spark.read \\\n",
    "    .format(\"csv\") \\\n",
    "    .schema(customer_schema) \\\n",
    "    .load('dbfs:/mnt/week11assignment/landing/customers_data.csv')"
   ]
  },
  {
   "cell_type": "code",
   "execution_count": 0,
   "metadata": {
    "application/vnd.databricks.v1+cell": {
     "cellMetadata": {
      "byteLimit": 2048000,
      "rowLimit": 10000
     },
     "inputWidgets": {},
     "nuid": "392338f6-209d-4926-beb6-72cdcbf37edd",
     "showTitle": false,
     "title": ""
    }
   },
   "outputs": [
    {
     "output_type": "stream",
     "name": "stdout",
     "output_type": "stream",
     "text": [
      "root\n |-- customer_id: string (nullable = true)\n |-- customer_fname: string (nullable = true)\n |-- customer_lname: string (nullable = true)\n |-- customer_email: string (nullable = true)\n |-- customer_password: string (nullable = true)\n |-- customer_street: string (nullable = true)\n |-- customer_city: string (nullable = true)\n |-- customer_state: string (nullable = true)\n |-- customer_zipcode: string (nullable = true)\n\n"
     ]
    }
   ],
   "source": [
    "customer_df.printSchema()"
   ]
  },
  {
   "cell_type": "code",
   "execution_count": 0,
   "metadata": {
    "application/vnd.databricks.v1+cell": {
     "cellMetadata": {
      "byteLimit": 2048000,
      "rowLimit": 10000
     },
     "inputWidgets": {},
     "nuid": "6155c675-6119-42b1-9648-5f18e55eb52b",
     "showTitle": false,
     "title": ""
    }
   },
   "outputs": [],
   "source": [
    "from pyspark.sql.functions import *"
   ]
  },
  {
   "cell_type": "code",
   "execution_count": 0,
   "metadata": {
    "application/vnd.databricks.v1+cell": {
     "cellMetadata": {
      "byteLimit": 2048000,
      "rowLimit": 10000
     },
     "inputWidgets": {},
     "nuid": "fdc6edbc-da78-4d09-8be3-8939301bb9ea",
     "showTitle": false,
     "title": ""
    }
   },
   "outputs": [],
   "source": [
    "orders_new_df=orders_df.withColumn(\"order_year\",year(\"order_date\")).withColumn(\"order_month\",month(\"order_date\"))"
   ]
  },
  {
   "cell_type": "code",
   "execution_count": 0,
   "metadata": {
    "application/vnd.databricks.v1+cell": {
     "cellMetadata": {
      "byteLimit": 2048000,
      "rowLimit": 10000
     },
     "inputWidgets": {},
     "nuid": "e9de444e-c736-4d55-89eb-3589a2c597e7",
     "showTitle": false,
     "title": ""
    }
   },
   "outputs": [
    {
     "output_type": "stream",
     "name": "stdout",
     "output_type": "stream",
     "text": [
      "+--------+----------+-----------------+---------------+----------+-----------+\n|order_id|order_date|order_customer_id|   order_status|order_year|order_month|\n+--------+----------+-----------------+---------------+----------+-----------+\n|       1|2013-07-25|            11599|         CLOSED|      2013|          7|\n|       2|2013-07-25|              256|PENDING_PAYMENT|      2013|          7|\n|       3|2013-07-25|            12111|       COMPLETE|      2013|          7|\n|       4|2013-07-25|             8827|         CLOSED|      2013|          7|\n|       5|2013-07-25|            11318|       COMPLETE|      2013|          7|\n+--------+----------+-----------------+---------------+----------+-----------+\nonly showing top 5 rows\n\n"
     ]
    }
   ],
   "source": [
    "orders_new_df.show(5)"
   ]
  },
  {
   "cell_type": "code",
   "execution_count": 0,
   "metadata": {
    "application/vnd.databricks.v1+cell": {
     "cellMetadata": {
      "byteLimit": 2048000,
      "rowLimit": 10000
     },
     "inputWidgets": {},
     "nuid": "2c2517ba-1c56-4631-b2dd-aec9f99b9d46",
     "showTitle": false,
     "title": ""
    }
   },
   "outputs": [],
   "source": [
    "orders_new_df.write \\\n",
    ". format(\"parquet\") \\\n",
    ". mode(\"overwrite\") \\\n",
    ".partitionBy(\"order_year\",\"order_status\") \\\n",
    ".save(\"/mnt/week11assignment/staging/orders\")"
   ]
  },
  {
   "cell_type": "code",
   "execution_count": 0,
   "metadata": {
    "application/vnd.databricks.v1+cell": {
     "cellMetadata": {
      "byteLimit": 2048000,
      "rowLimit": 10000
     },
     "inputWidgets": {},
     "nuid": "49d182a1-7bff-4c77-ae58-24d482e5c7e2",
     "showTitle": false,
     "title": ""
    }
   },
   "outputs": [],
   "source": [
    "customer_df.write \\\n",
    ".format(\"parquet\") \\\n",
    ".mode(\"overwrite\") \\\n",
    ".partitionBy(\"customer_state\") \\\n",
    ".save(\"/mnt/week11assignment/staging/customers\")"
   ]
  },
  {
   "cell_type": "code",
   "execution_count": 0,
   "metadata": {
    "application/vnd.databricks.v1+cell": {
     "cellMetadata": {
      "byteLimit": 2048000,
      "rowLimit": 10000
     },
     "inputWidgets": {},
     "nuid": "fd64fe55-f3b3-4a2a-a15c-57cdce027303",
     "showTitle": false,
     "title": ""
    }
   },
   "outputs": [],
   "source": [
    "customer_staging_df=spark.read \\\n",
    "    .format(\"parquet\") \\\n",
    "    .schema(customer_schema) \\\n",
    "    .load('dbfs:/mnt/week11assignment/staging/customers')"
   ]
  },
  {
   "cell_type": "code",
   "execution_count": 0,
   "metadata": {
    "application/vnd.databricks.v1+cell": {
     "cellMetadata": {
      "byteLimit": 2048000,
      "rowLimit": 10000
     },
     "inputWidgets": {},
     "nuid": "95dd7f06-6010-4101-9761-58838f673b27",
     "showTitle": false,
     "title": ""
    }
   },
   "outputs": [],
   "source": [
    "orders_staging_df=spark.read \\\n",
    "    .format(\"parquet\") \\\n",
    "    .option(\"header\",True) \\\n",
    "    .load(\"dbfs:/mnt/week11assignment/staging/orders\")"
   ]
  },
  {
   "cell_type": "code",
   "execution_count": 0,
   "metadata": {
    "application/vnd.databricks.v1+cell": {
     "cellMetadata": {
      "byteLimit": 2048000,
      "rowLimit": 10000
     },
     "inputWidgets": {},
     "nuid": "8e4b9e41-3121-44af-b40d-786fbbeef7f0",
     "showTitle": false,
     "title": ""
    }
   },
   "outputs": [
    {
     "output_type": "stream",
     "name": "stdout",
     "output_type": "stream",
     "text": [
      "root\n |-- customer_id: string (nullable = true)\n |-- customer_fname: string (nullable = true)\n |-- customer_lname: string (nullable = true)\n |-- customer_email: string (nullable = true)\n |-- customer_password: string (nullable = true)\n |-- customer_street: string (nullable = true)\n |-- customer_city: string (nullable = true)\n |-- customer_zipcode: string (nullable = true)\n |-- customer_state: string (nullable = true)\n\n"
     ]
    }
   ],
   "source": [
    "customer_staging_df.printSchema()"
   ]
  },
  {
   "cell_type": "code",
   "execution_count": 0,
   "metadata": {
    "application/vnd.databricks.v1+cell": {
     "cellMetadata": {
      "byteLimit": 2048000,
      "rowLimit": 10000
     },
     "inputWidgets": {},
     "nuid": "8ca9e136-dcd9-4aaf-8d29-e8ed15ca0224",
     "showTitle": false,
     "title": ""
    }
   },
   "outputs": [
    {
     "output_type": "stream",
     "name": "stdout",
     "output_type": "stream",
     "text": [
      "root\n |-- order_id: string (nullable = true)\n |-- order_date: date (nullable = true)\n |-- order_customer_id: string (nullable = true)\n |-- order_month: integer (nullable = true)\n |-- order_year: integer (nullable = true)\n |-- order_status: string (nullable = true)\n\n"
     ]
    }
   ],
   "source": [
    "orders_staging_df.printSchema()"
   ]
  },
  {
   "cell_type": "code",
   "execution_count": 0,
   "metadata": {
    "application/vnd.databricks.v1+cell": {
     "cellMetadata": {
      "byteLimit": 2048000,
      "rowLimit": 10000
     },
     "inputWidgets": {},
     "nuid": "a374590e-a93f-4446-8e36-1226edf2a9e7",
     "showTitle": false,
     "title": ""
    }
   },
   "outputs": [],
   "source": [
    "joined_df=orders_staging_df.join(broadcast(customer_staging_df),expr(\"order_customer_id=customer_id\"))"
   ]
  },
  {
   "cell_type": "code",
   "execution_count": 0,
   "metadata": {
    "application/vnd.databricks.v1+cell": {
     "cellMetadata": {
      "byteLimit": 2048000,
      "rowLimit": 10000
     },
     "inputWidgets": {},
     "nuid": "bead529a-16eb-4b68-aabf-67ca78f82054",
     "showTitle": false,
     "title": ""
    }
   },
   "outputs": [
    {
     "output_type": "stream",
     "name": "stdout",
     "output_type": "stream",
     "text": [
      "+--------+----------+-----------------+-----------+----------+------------+-----------+--------------+--------------+--------------+-----------------+--------------------+-------------+----------------+--------------+\n|order_id|order_date|order_customer_id|order_month|order_year|order_status|customer_id|customer_fname|customer_lname|customer_email|customer_password|     customer_street|customer_city|customer_zipcode|customer_state|\n+--------+----------+-----------------+-----------+----------+------------+-----------+--------------+--------------+--------------+-----------------+--------------------+-------------+----------------+--------------+\n|   68883|2014-07-23|             5533|          7|      2014|    COMPLETE|       5533|          Mary|      Harrison|     XXXXXXXXX|        XXXXXXXXX|852 Rocky Brook M...|       Caguas|           00725|            PR|\n|   68880|2014-07-13|             1117|          7|      2014|    COMPLETE|       1117|        Arthur|        Maddox|     XXXXXXXXX|        XXXXXXXXX|     6829 Umber Isle|       Caguas|           00725|            PR|\n|   68879|2014-07-09|              778|          7|      2014|    COMPLETE|        778|          John|       Buckley|     XXXXXXXXX|        XXXXXXXXX|   9598 Cinder Close|       Caguas|           00725|            PR|\n|   68878|2014-07-08|             6753|          7|      2014|    COMPLETE|       6753|        Judith|        Hester|     XXXXXXXXX|        XXXXXXXXX| 690 Quaking By-pass|  Winter Park|           32792|            FL|\n|   68876|2014-07-06|             4124|          7|      2014|    COMPLETE|       4124|         Jerry|        Larsen|     XXXXXXXXX|        XXXXXXXXX|   9611 Thunder Loop|       Caguas|           00725|            PR|\n+--------+----------+-----------------+-----------+----------+------------+-----------+--------------+--------------+--------------+-----------------+--------------------+-------------+----------------+--------------+\nonly showing top 5 rows\n\n"
     ]
    }
   ],
   "source": [
    "joined_df.show(5)"
   ]
  },
  {
   "cell_type": "code",
   "execution_count": 0,
   "metadata": {
    "application/vnd.databricks.v1+cell": {
     "cellMetadata": {
      "byteLimit": 2048000,
      "rowLimit": 10000
     },
     "inputWidgets": {},
     "nuid": "f6b79325-c1b2-469e-b018-36f55187a438",
     "showTitle": false,
     "title": ""
    }
   },
   "outputs": [],
   "source": [
    "report_df=joined_df.select(\"order_id\",\"order_date\",\"order_customer_id\",\"order_month\",\"order_year\",\"order_status\",\"customer_fname\",\"customer_lname\",\"customer_city\",\"customer_zipcode\",\"customer_state\")"
   ]
  },
  {
   "cell_type": "code",
   "execution_count": 0,
   "metadata": {
    "application/vnd.databricks.v1+cell": {
     "cellMetadata": {
      "byteLimit": 2048000,
      "rowLimit": 10000
     },
     "inputWidgets": {},
     "nuid": "df9b6bab-6f55-417a-a6bb-fdbcbaea7689",
     "showTitle": false,
     "title": ""
    }
   },
   "outputs": [
    {
     "output_type": "display_data",
     "data": {
      "text/html": [
       "<style scoped>\n",
       "  .ansiout {\n",
       "    display: block;\n",
       "    unicode-bidi: embed;\n",
       "    white-space: pre-wrap;\n",
       "    word-wrap: break-word;\n",
       "    word-break: break-all;\n",
       "    font-family: \"Menlo\", \"Monaco\", \"Consolas\", \"Ubuntu Mono\", \"Source Code Pro\", monospace;\n",
       "    font-size: 13px;\n",
       "    color: #555;\n",
       "    margin-left: 4px;\n",
       "    line-height: 19px;\n",
       "  }\n",
       "</style>"
      ]
     },
     "metadata": {
      "application/vnd.databricks.v1+output": {
       "arguments": {},
       "data": "",
       "errorSummary": "Cancelled",
       "errorTraceType": "html",
       "metadata": {},
       "type": "ipynbError"
      }
     },
     "output_type": "display_data"
    }
   ],
   "source": [
    "report_df.write \\\n",
    "    .format(\"parquet\") \\\n",
    "    .mode(\"overwrite\") \\\n",
    "    .partitionBy(\"order_year\",\"customer_state\",\"customer_city\",\"order_status\") \\\n",
    "    .save(\"/mnt/week11assignment/reporting\")"
   ]
  },
  {
   "cell_type": "code",
   "execution_count": 0,
   "metadata": {
    "application/vnd.databricks.v1+cell": {
     "cellMetadata": {
      "byteLimit": 2048000,
      "rowLimit": 10000
     },
     "inputWidgets": {},
     "nuid": "dbaa7770-addb-4bb1-8120-8b8a6f9ffe7a",
     "showTitle": false,
     "title": ""
    }
   },
   "outputs": [],
   "source": [
    "report_df.createOrReplaceTempView(\"order_customer\")"
   ]
  },
  {
   "cell_type": "code",
   "execution_count": 0,
   "metadata": {
    "application/vnd.databricks.v1+cell": {
     "cellMetadata": {
      "byteLimit": 2048000,
      "rowLimit": 10000
     },
     "inputWidgets": {},
     "nuid": "a59ff1b0-cec7-4a8c-8af1-3fa5439e8ea0",
     "showTitle": false,
     "title": ""
    }
   },
   "outputs": [],
   "source": [
    "report_new_df=spark.read \\\n",
    "    .format(\"parquet\") \\\n",
    "    .option(\"header\",\"true\") \\\n",
    "    .load(\"/mnt/week11assignment/reporting\")"
   ]
  },
  {
   "cell_type": "code",
   "execution_count": 0,
   "metadata": {
    "application/vnd.databricks.v1+cell": {
     "cellMetadata": {},
     "inputWidgets": {},
     "nuid": "534965f0-2b65-456b-8d1d-de544b52e252",
     "showTitle": false,
     "title": ""
    }
   },
   "outputs": [],
   "source": []
  }
 ],
 "metadata": {
  "application/vnd.databricks.v1+notebook": {
   "dashboards": [],
   "language": "python",
   "notebookMetadata": {
    "pythonIndentUnit": 4
   },
   "notebookName": "Assignemnt Tasks",
   "widgets": {}
  }
 },
 "nbformat": 4,
 "nbformat_minor": 0
}
