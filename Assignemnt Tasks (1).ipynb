{
 "cells": [
  {
   "cell_type": "code",
   "execution_count": 0,
   "metadata": {
    "application/vnd.databricks.v1+cell": {
     "cellMetadata": {
      "byteLimit": 2048000,
      "rowLimit": 10000
     },
     "inputWidgets": {},
     "nuid": "5a0b5aeb-e84d-4a12-99b8-e75bb25131d3",
     "showTitle": false,
     "title": ""
    }
   },
   "outputs": [
    {
     "output_type": "execute_result",
     "data": {
      "text/html": [
       "\n",
       "            <div>\n",
       "                <p><b>SparkSession - hive</b></p>\n",
       "                \n",
       "        <div>\n",
       "            <p><b>SparkContext</b></p>\n",
       "\n",
       "            <p><a href=\"/?o=4309186218986619#setting/sparkui/0310-044312-t2bia8uh/driver-6104503603946218045\">Spark UI</a></p>\n",
       "\n",
       "            <dl>\n",
       "              <dt>Version</dt>\n",
       "                <dd><code>v3.4.1</code></dd>\n",
       "              <dt>Master</dt>\n",
       "                <dd><code>local[*, 4]</code></dd>\n",
       "              <dt>AppName</dt>\n",
       "                <dd><code>Databricks Shell</code></dd>\n",
       "            </dl>\n",
       "        </div>\n",
       "        \n",
       "            </div>\n",
       "        "
      ],
      "text/plain": [
       "<pyspark.sql.session.SparkSession at 0x7f8727b5c1c0>"
      ]
     },
     "execution_count": 1,
     "metadata": {},
     "output_type": "execute_result"
    }
   ],
   "source": [
    "spark"
   ]
  },
  {
   "cell_type": "code",
   "execution_count": 0,
   "metadata": {
    "application/vnd.databricks.v1+cell": {
     "cellMetadata": {
      "byteLimit": 2048000,
      "rowLimit": 10000
     },
     "inputWidgets": {},
     "nuid": "d01704eb-35a8-4058-be6d-465c7d1bd21c",
     "showTitle": false,
     "title": ""
    }
   },
   "outputs": [
    {
     "output_type": "execute_result",
     "data": {
      "text/plain": [
       "True"
      ]
     },
     "execution_count": 2,
     "metadata": {},
     "output_type": "execute_result"
    }
   ],
   "source": [
    "dbutils.fs.mount(source='wasbs://landing@week17storage.blob.core.windows.net',mount_point='/mnt/week11assignment/landing',\n",
    "extra_configs={'fs.azure.account.key.week17storage.blob.core.windows.net':'DwezHFxwgpDba4/fh4P6oR3TlTZYUoJTggu4PIGhSt5AF23lMRBi9yfG6tfOtR666VhUlFexopS2+AStge7HnQ=='})"
   ]
  },
  {
   "cell_type": "code",
   "execution_count": 0,
   "metadata": {
    "application/vnd.databricks.v1+cell": {
     "cellMetadata": {
      "byteLimit": 2048000,
      "rowLimit": 10000
     },
     "inputWidgets": {},
     "nuid": "d6c7abb1-4db4-4181-bea7-445fcef984ca",
     "showTitle": false,
     "title": ""
    }
   },
   "outputs": [
    {
     "output_type": "execute_result",
     "data": {
      "text/plain": [
       "True"
      ]
     },
     "execution_count": 3,
     "metadata": {},
     "output_type": "execute_result"
    }
   ],
   "source": [
    "dbutils.fs.mount(source='wasbs://reporting@week17storage.blob.core.windows.net',mount_point='/mnt/week11assignment/reporting',\n",
    "extra_configs={'fs.azure.account.key.week17storage.blob.core.windows.net':'DwezHFxwgpDba4/fh4P6oR3TlTZYUoJTggu4PIGhSt5AF23lMRBi9yfG6tfOtR666VhUlFexopS2+AStge7HnQ=='})"
   ]
  },
  {
   "cell_type": "code",
   "execution_count": 0,
   "metadata": {
    "application/vnd.databricks.v1+cell": {
     "cellMetadata": {
      "byteLimit": 2048000,
      "rowLimit": 10000
     },
     "inputWidgets": {},
     "nuid": "af793f47-4864-4a72-9870-09c3a6be090f",
     "showTitle": false,
     "title": ""
    }
   },
   "outputs": [
    {
     "output_type": "execute_result",
     "data": {
      "text/plain": [
       "True"
      ]
     },
     "execution_count": 4,
     "metadata": {},
     "output_type": "execute_result"
    }
   ],
   "source": [
    "dbutils.fs.mount(source='wasbs://staging@week17storage.blob.core.windows.net',mount_point='/mnt/week11assignment/staging',\n",
    "extra_configs={'fs.azure.account.key.week17storage.blob.core.windows.net':'DwezHFxwgpDba4/fh4P6oR3TlTZYUoJTggu4PIGhSt5AF23lMRBi9yfG6tfOtR666VhUlFexopS2+AStge7HnQ=='})"
   ]
  },
  {
   "cell_type": "code",
   "execution_count": 0,
   "metadata": {
    "application/vnd.databricks.v1+cell": {
     "cellMetadata": {
      "byteLimit": 2048000,
      "rowLimit": 10000
     },
     "inputWidgets": {},
     "nuid": "73852818-6cc9-40f0-aa5d-e8c3944c1748",
     "showTitle": false,
     "title": ""
    }
   },
   "outputs": [],
   "source": [
    "order_schema='order_id String,order_date date,order_customer_id String,order_status String'"
   ]
  },
  {
   "cell_type": "code",
   "execution_count": 0,
   "metadata": {
    "application/vnd.databricks.v1+cell": {
     "cellMetadata": {
      "byteLimit": 2048000,
      "rowLimit": 10000
     },
     "inputWidgets": {},
     "nuid": "8fdd5c08-da84-4d6f-a036-273d85dc769f",
     "showTitle": false,
     "title": ""
    }
   },
   "outputs": [
    {
     "output_type": "stream",
     "name": "stdout",
     "output_type": "stream",
     "text": [
      "order_id String,order_date date,order_customer_id String,order_status String\n"
     ]
    }
   ],
   "source": [
    "print(order_schema)"
   ]
  },
  {
   "cell_type": "code",
   "execution_count": 0,
   "metadata": {
    "application/vnd.databricks.v1+cell": {
     "cellMetadata": {
      "byteLimit": 2048000,
      "rowLimit": 10000
     },
     "inputWidgets": {},
     "nuid": "372ee8a9-62e8-4813-9fe1-e6e02f79af2e",
     "showTitle": false,
     "title": ""
    }
   },
   "outputs": [],
   "source": [
    "orders_df=spark.read \\\n",
    "    .format(\"csv\") \\\n",
    "    .schema(order_schema) \\\n",
    "    .load(\"dbfs:/mnt/week11assignment/landing/orders_data.csv\")"
   ]
  },
  {
   "cell_type": "code",
   "execution_count": 0,
   "metadata": {
    "application/vnd.databricks.v1+cell": {
     "cellMetadata": {
      "byteLimit": 2048000,
      "rowLimit": 10000
     },
     "inputWidgets": {},
     "nuid": "3ff6613d-446b-4982-8cb5-ae44da1d118f",
     "showTitle": false,
     "title": ""
    }
   },
   "outputs": [
    {
     "output_type": "stream",
     "name": "stdout",
     "output_type": "stream",
     "text": [
      "root\n |-- order_id: string (nullable = true)\n |-- order_date: date (nullable = true)\n |-- order_customer_id: string (nullable = true)\n |-- order_status: string (nullable = true)\n\n"
     ]
    }
   ],
   "source": [
    "orders_df.printSchema()"
   ]
  },
  {
   "cell_type": "code",
   "execution_count": 0,
   "metadata": {
    "application/vnd.databricks.v1+cell": {
     "cellMetadata": {
      "byteLimit": 2048000,
      "rowLimit": 10000
     },
     "inputWidgets": {},
     "nuid": "537224c0-af08-40e2-a6c6-9c845cc8d4a2",
     "showTitle": false,
     "title": ""
    }
   },
   "outputs": [
    {
     "output_type": "stream",
     "name": "stdout",
     "output_type": "stream",
     "text": [
      "+--------+----------+-----------------+---------------+\n|order_id|order_date|order_customer_id|   order_status|\n+--------+----------+-----------------+---------------+\n|       1|2013-07-25|            11599|         CLOSED|\n|       2|2013-07-25|              256|PENDING_PAYMENT|\n|       3|2013-07-25|            12111|       COMPLETE|\n|       4|2013-07-25|             8827|         CLOSED|\n|       5|2013-07-25|            11318|       COMPLETE|\n+--------+----------+-----------------+---------------+\nonly showing top 5 rows\n\n"
     ]
    }
   ],
   "source": [
    "orders_df.show(5)"
   ]
  },
  {
   "cell_type": "code",
   "execution_count": 0,
   "metadata": {
    "application/vnd.databricks.v1+cell": {
     "cellMetadata": {
      "byteLimit": 2048000,
      "rowLimit": 10000
     },
     "inputWidgets": {},
     "nuid": "a5f62eb7-f64f-46c6-848b-695f3cf8a95b",
     "showTitle": false,
     "title": ""
    }
   },
   "outputs": [],
   "source": [
    "customer_schema='customer_id string,customer_fname string,customer_lname string,customer_email string,customer_password string,customer_street string,customer_city string,customer_state string,customer_zipcode string'"
   ]
  },
  {
   "cell_type": "code",
   "execution_count": 0,
   "metadata": {
    "application/vnd.databricks.v1+cell": {
     "cellMetadata": {
      "byteLimit": 2048000,
      "rowLimit": 10000
     },
     "inputWidgets": {},
     "nuid": "58e22088-0e19-4047-96a0-79fbbc84e4fe",
     "showTitle": false,
     "title": ""
    }
   },
   "outputs": [
    {
     "output_type": "stream",
     "name": "stdout",
     "output_type": "stream",
     "text": [
      "customer_id string,customer_fname string,customer_lname string,customer_email string,customer_password string,customer_street string,customer_city string,customer_state string,customer_zipcode string\n"
     ]
    }
   ],
   "source": [
    "print(customer_schema)"
   ]
  },
  {
   "cell_type": "code",
   "execution_count": 0,
   "metadata": {
    "application/vnd.databricks.v1+cell": {
     "cellMetadata": {
      "byteLimit": 2048000,
      "rowLimit": 10000
     },
     "inputWidgets": {},
     "nuid": "d86258bb-6978-4844-ae88-e60e7506c74c",
     "showTitle": false,
     "title": ""
    }
   },
   "outputs": [],
   "source": [
    "customer_df=spark.read \\\n",
    "    .format(\"csv\") \\\n",
    "    .schema(customer_schema) \\\n",
    "    .load('dbfs:/mnt/week11assignment/landing/customers_data.csv')"
   ]
  },
  {
   "cell_type": "code",
   "execution_count": 0,
   "metadata": {
    "application/vnd.databricks.v1+cell": {
     "cellMetadata": {
      "byteLimit": 2048000,
      "rowLimit": 10000
     },
     "inputWidgets": {},
     "nuid": "392338f6-209d-4926-beb6-72cdcbf37edd",
     "showTitle": false,
     "title": ""
    }
   },
   "outputs": [
    {
     "output_type": "stream",
     "name": "stdout",
     "output_type": "stream",
     "text": [
      "root\n |-- customer_id: string (nullable = true)\n |-- customer_fname: string (nullable = true)\n |-- customer_lname: string (nullable = true)\n |-- customer_email: string (nullable = true)\n |-- customer_password: string (nullable = true)\n |-- customer_street: string (nullable = true)\n |-- customer_city: string (nullable = true)\n |-- customer_state: string (nullable = true)\n |-- customer_zipcode: string (nullable = true)\n\n"
     ]
    }
   ],
   "source": [
    "customer_df.printSchema()"
   ]
  },
  {
   "cell_type": "code",
   "execution_count": 0,
   "metadata": {
    "application/vnd.databricks.v1+cell": {
     "cellMetadata": {
      "byteLimit": 2048000,
      "rowLimit": 10000
     },
     "inputWidgets": {},
     "nuid": "6155c675-6119-42b1-9648-5f18e55eb52b",
     "showTitle": false,
     "title": ""
    }
   },
   "outputs": [],
   "source": [
    "from pyspark.sql.functions import *"
   ]
  },
  {
   "cell_type": "code",
   "execution_count": 0,
   "metadata": {
    "application/vnd.databricks.v1+cell": {
     "cellMetadata": {
      "byteLimit": 2048000,
      "rowLimit": 10000
     },
     "inputWidgets": {},
     "nuid": "fdc6edbc-da78-4d09-8be3-8939301bb9ea",
     "showTitle": false,
     "title": ""
    }
   },
   "outputs": [],
   "source": [
    "orders_new_df=orders_df.withColumn(\"order_year\",year(\"order_date\")).withColumn(\"order_month\",month(\"order_date\"))"
   ]
  },
  {
   "cell_type": "code",
   "execution_count": 0,
   "metadata": {
    "application/vnd.databricks.v1+cell": {
     "cellMetadata": {
      "byteLimit": 2048000,
      "rowLimit": 10000
     },
     "inputWidgets": {},
     "nuid": "e9de444e-c736-4d55-89eb-3589a2c597e7",
     "showTitle": false,
     "title": ""
    }
   },
   "outputs": [
    {
     "output_type": "stream",
     "name": "stdout",
     "output_type": "stream",
     "text": [
      "+--------+----------+-----------------+---------------+----------+-----------+\n|order_id|order_date|order_customer_id|   order_status|order_year|order_month|\n+--------+----------+-----------------+---------------+----------+-----------+\n|       1|2013-07-25|            11599|         CLOSED|      2013|          7|\n|       2|2013-07-25|              256|PENDING_PAYMENT|      2013|          7|\n|       3|2013-07-25|            12111|       COMPLETE|      2013|          7|\n|       4|2013-07-25|             8827|         CLOSED|      2013|          7|\n|       5|2013-07-25|            11318|       COMPLETE|      2013|          7|\n+--------+----------+-----------------+---------------+----------+-----------+\nonly showing top 5 rows\n\n"
     ]
    }
   ],
   "source": [
    "orders_new_df.show(5)"
   ]
  },
  {
   "cell_type": "code",
   "execution_count": 0,
   "metadata": {
    "application/vnd.databricks.v1+cell": {
     "cellMetadata": {
      "byteLimit": 2048000,
      "rowLimit": 10000
     },
     "inputWidgets": {},
     "nuid": "2c2517ba-1c56-4631-b2dd-aec9f99b9d46",
     "showTitle": false,
     "title": ""
    }
   },
   "outputs": [],
   "source": [
    "orders_new_df.write \\\n",
    ". format(\"parquet\") \\\n",
    ". mode(\"overwrite\") \\\n",
    ".partitionBy(\"order_year\",\"order_status\") \\\n",
    ".save(\"/mnt/week11assignment/staging/orders\")"
   ]
  },
  {
   "cell_type": "code",
   "execution_count": 0,
   "metadata": {
    "application/vnd.databricks.v1+cell": {
     "cellMetadata": {
      "byteLimit": 2048000,
      "rowLimit": 10000
     },
     "inputWidgets": {},
     "nuid": "49d182a1-7bff-4c77-ae58-24d482e5c7e2",
     "showTitle": false,
     "title": ""
    }
   },
   "outputs": [],
   "source": [
    "customer_df.write \\\n",
    ".format(\"parquet\") \\\n",
    ".mode(\"overwrite\") \\\n",
    ".partitionBy(\"customer_state\") \\\n",
    ".save(\"/mnt/week11assignment/staging/customers\")"
   ]
  },
  {
   "cell_type": "code",
   "execution_count": 0,
   "metadata": {
    "application/vnd.databricks.v1+cell": {
     "cellMetadata": {
      "byteLimit": 2048000,
      "rowLimit": 10000
     },
     "inputWidgets": {},
     "nuid": "fd64fe55-f3b3-4a2a-a15c-57cdce027303",
     "showTitle": false,
     "title": ""
    }
   },
   "outputs": [],
   "source": [
    "customer_staging_df=spark.read \\\n",
    "    .format(\"parquet\") \\\n",
    "    .schema(customer_schema) \\\n",
    "    .load('dbfs:/mnt/week11assignment/staging/customers')"
   ]
  },
  {
   "cell_type": "code",
   "execution_count": 0,
   "metadata": {
    "application/vnd.databricks.v1+cell": {
     "cellMetadata": {
      "byteLimit": 2048000,
      "rowLimit": 10000
     },
     "inputWidgets": {},
     "nuid": "95dd7f06-6010-4101-9761-58838f673b27",
     "showTitle": false,
     "title": ""
    }
   },
   "outputs": [],
   "source": [
    "orders_staging_df=spark.read \\\n",
    "    .format(\"parquet\") \\\n",
    "    .option(\"header\",True) \\\n",
    "    .load(\"dbfs:/mnt/week11assignment/staging/orders\")"
   ]
  },
  {
   "cell_type": "code",
   "execution_count": 0,
   "metadata": {
    "application/vnd.databricks.v1+cell": {
     "cellMetadata": {
      "byteLimit": 2048000,
      "rowLimit": 10000
     },
     "inputWidgets": {},
     "nuid": "8e4b9e41-3121-44af-b40d-786fbbeef7f0",
     "showTitle": false,
     "title": ""
    }
   },
   "outputs": [
    {
     "output_type": "stream",
     "name": "stdout",
     "output_type": "stream",
     "text": [
      "root\n |-- customer_id: string (nullable = true)\n |-- customer_fname: string (nullable = true)\n |-- customer_lname: string (nullable = true)\n |-- customer_email: string (nullable = true)\n |-- customer_password: string (nullable = true)\n |-- customer_street: string (nullable = true)\n |-- customer_city: string (nullable = true)\n |-- customer_zipcode: string (nullable = true)\n |-- customer_state: string (nullable = true)\n\n"
     ]
    }
   ],
   "source": [
    "customer_staging_df.printSchema()"
   ]
  },
  {
   "cell_type": "code",
   "execution_count": 0,
   "metadata": {
    "application/vnd.databricks.v1+cell": {
     "cellMetadata": {
      "byteLimit": 2048000,
      "rowLimit": 10000
     },
     "inputWidgets": {},
     "nuid": "8ca9e136-dcd9-4aaf-8d29-e8ed15ca0224",
     "showTitle": false,
     "title": ""
    }
   },
   "outputs": [
    {
     "output_type": "stream",
     "name": "stdout",
     "output_type": "stream",
     "text": [
      "root\n |-- order_id: string (nullable = true)\n |-- order_date: date (nullable = true)\n |-- order_customer_id: string (nullable = true)\n |-- order_month: integer (nullable = true)\n |-- order_year: integer (nullable = true)\n |-- order_status: string (nullable = true)\n\n"
     ]
    }
   ],
   "source": [
    "orders_staging_df.printSchema()"
   ]
  },
  {
   "cell_type": "code",
   "execution_count": 0,
   "metadata": {
    "application/vnd.databricks.v1+cell": {
     "cellMetadata": {
      "byteLimit": 2048000,
      "rowLimit": 10000
     },
     "inputWidgets": {},
     "nuid": "a374590e-a93f-4446-8e36-1226edf2a9e7",
     "showTitle": false,
     "title": ""
    }
   },
   "outputs": [],
   "source": [
    "joined_df=orders_staging_df.join(broadcast(customer_staging_df),expr(\"order_customer_id=customer_id\"))"
   ]
  },
  {
   "cell_type": "code",
   "execution_count": 0,
   "metadata": {
    "application/vnd.databricks.v1+cell": {
     "cellMetadata": {
      "byteLimit": 2048000,
      "rowLimit": 10000
     },
     "inputWidgets": {},
     "nuid": "bead529a-16eb-4b68-aabf-67ca78f82054",
     "showTitle": false,
     "title": ""
    }
   },
   "outputs": [
    {
     "output_type": "stream",
     "name": "stdout",
     "output_type": "stream",
     "text": [
      "+--------+----------+-----------------+-----------+----------+------------+-----------+--------------+--------------+--------------+-----------------+--------------------+-------------+----------------+--------------+\n|order_id|order_date|order_customer_id|order_month|order_year|order_status|customer_id|customer_fname|customer_lname|customer_email|customer_password|     customer_street|customer_city|customer_zipcode|customer_state|\n+--------+----------+-----------------+-----------+----------+------------+-----------+--------------+--------------+--------------+-----------------+--------------------+-------------+----------------+--------------+\n|   68883|2014-07-23|             5533|          7|      2014|    COMPLETE|       5533|          Mary|      Harrison|     XXXXXXXXX|        XXXXXXXXX|852 Rocky Brook M...|       Caguas|           00725|            PR|\n|   68880|2014-07-13|             1117|          7|      2014|    COMPLETE|       1117|        Arthur|        Maddox|     XXXXXXXXX|        XXXXXXXXX|     6829 Umber Isle|       Caguas|           00725|            PR|\n|   68879|2014-07-09|              778|          7|      2014|    COMPLETE|        778|          John|       Buckley|     XXXXXXXXX|        XXXXXXXXX|   9598 Cinder Close|       Caguas|           00725|            PR|\n|   68878|2014-07-08|             6753|          7|      2014|    COMPLETE|       6753|        Judith|        Hester|     XXXXXXXXX|        XXXXXXXXX| 690 Quaking By-pass|  Winter Park|           32792|            FL|\n|   68876|2014-07-06|             4124|          7|      2014|    COMPLETE|       4124|         Jerry|        Larsen|     XXXXXXXXX|        XXXXXXXXX|   9611 Thunder Loop|       Caguas|           00725|            PR|\n+--------+----------+-----------------+-----------+----------+------------+-----------+--------------+--------------+--------------+-----------------+--------------------+-------------+----------------+--------------+\nonly showing top 5 rows\n\n"
     ]
    }
   ],
   "source": [
    "joined_df.show(5)"
   ]
  },
  {
   "cell_type": "code",
   "execution_count": 0,
   "metadata": {
    "application/vnd.databricks.v1+cell": {
     "cellMetadata": {
      "byteLimit": 2048000,
      "rowLimit": 10000
     },
     "inputWidgets": {},
     "nuid": "f6b79325-c1b2-469e-b018-36f55187a438",
     "showTitle": false,
     "title": ""
    }
   },
   "outputs": [],
   "source": [
    "report_df=joined_df.select(\"order_id\",\"order_date\",\"order_customer_id\",\"order_month\",\"order_year\",\"order_status\",\"customer_fname\",\"customer_lname\",\"customer_city\",\"customer_zipcode\",\"customer_state\")"
   ]
  },
  {
   "cell_type": "code",
   "execution_count": 0,
   "metadata": {
    "application/vnd.databricks.v1+cell": {
     "cellMetadata": {
      "byteLimit": 2048000,
      "rowLimit": 10000
     },
     "inputWidgets": {},
     "nuid": "df9b6bab-6f55-417a-a6bb-fdbcbaea7689",
     "showTitle": false,
     "title": ""
    }
   },
   "outputs": [
    {
     "output_type": "display_data",
     "data": {
      "text/html": [
       "<style scoped>\n",
       "  .ansiout {\n",
       "    display: block;\n",
       "    unicode-bidi: embed;\n",
       "    white-space: pre-wrap;\n",
       "    word-wrap: break-word;\n",
       "    word-break: break-all;\n",
       "    font-family: \"Menlo\", \"Monaco\", \"Consolas\", \"Ubuntu Mono\", \"Source Code Pro\", monospace;\n",
       "    font-size: 13px;\n",
       "    color: #555;\n",
       "    margin-left: 4px;\n",
       "    line-height: 19px;\n",
       "  }\n",
       "</style>"
      ]
     },
     "metadata": {
      "application/vnd.databricks.v1+output": {
       "arguments": {},
       "data": "",
       "errorSummary": "Cancelled",
       "errorTraceType": "html",
       "metadata": {},
       "type": "ipynbError"
      }
     },
     "output_type": "display_data"
    }
   ],
   "source": [
    "report_df.write \\\n",
    "    .format(\"parquet\") \\\n",
    "    .mode(\"overwrite\") \\\n",
    "    .partitionBy(\"order_year\",\"customer_state\",\"customer_city\",\"order_status\") \\\n",
    "    .save(\"/mnt/week11assignment/reporting\")"
   ]
  },
  {
   "cell_type": "code",
   "execution_count": 0,
   "metadata": {
    "application/vnd.databricks.v1+cell": {
     "cellMetadata": {
      "byteLimit": 2048000,
      "rowLimit": 10000
     },
     "inputWidgets": {},
     "nuid": "dbaa7770-addb-4bb1-8120-8b8a6f9ffe7a",
     "showTitle": false,
     "title": ""
    }
   },
   "outputs": [],
   "source": [
    "report_df.createOrReplaceTempView(\"order_customer\")"
   ]
  },
  {
   "cell_type": "code",
   "execution_count": 0,
   "metadata": {
    "application/vnd.databricks.v1+cell": {
     "cellMetadata": {
      "byteLimit": 2048000,
      "rowLimit": 10000
     },
     "inputWidgets": {},
     "nuid": "a59ff1b0-cec7-4a8c-8af1-3fa5439e8ea0",
     "showTitle": false,
     "title": ""
    }
   },
   "outputs": [
    {
     "output_type": "display_data",
     "data": {
      "text/plain": [
       "\u001B[0;31m---------------------------------------------------------------------------\u001B[0m\n",
       "\u001B[0;31mAnalysisException\u001B[0m                         Traceback (most recent call last)\n",
       "File \u001B[0;32m<command-3178365256526096>, line 4\u001B[0m\n",
       "\u001B[1;32m      1\u001B[0m report_new_df\u001B[38;5;241m=\u001B[39m\u001B[43mspark\u001B[49m\u001B[38;5;241;43m.\u001B[39;49m\u001B[43mread\u001B[49m\u001B[43m \u001B[49m\u001B[43m\\\u001B[49m\n",
       "\u001B[1;32m      2\u001B[0m \u001B[43m    \u001B[49m\u001B[38;5;241;43m.\u001B[39;49m\u001B[43mformat\u001B[49m\u001B[43m(\u001B[49m\u001B[38;5;124;43m\"\u001B[39;49m\u001B[38;5;124;43mparquet\u001B[39;49m\u001B[38;5;124;43m\"\u001B[39;49m\u001B[43m)\u001B[49m\u001B[43m \u001B[49m\u001B[43m\\\u001B[49m\n",
       "\u001B[1;32m      3\u001B[0m \u001B[43m    \u001B[49m\u001B[38;5;241;43m.\u001B[39;49m\u001B[43moption\u001B[49m\u001B[43m(\u001B[49m\u001B[38;5;124;43m\"\u001B[39;49m\u001B[38;5;124;43mheader\u001B[39;49m\u001B[38;5;124;43m\"\u001B[39;49m\u001B[43m,\u001B[49m\u001B[38;5;124;43m\"\u001B[39;49m\u001B[38;5;124;43mtrue\u001B[39;49m\u001B[38;5;124;43m\"\u001B[39;49m\u001B[43m)\u001B[49m\u001B[43m \u001B[49m\u001B[43m\\\u001B[49m\n",
       "\u001B[0;32m----> 4\u001B[0m \u001B[43m    \u001B[49m\u001B[38;5;241;43m.\u001B[39;49m\u001B[43mload\u001B[49m\u001B[43m(\u001B[49m\u001B[38;5;124;43m\"\u001B[39;49m\u001B[38;5;124;43m/mnt/week11assignment/reporting\u001B[39;49m\u001B[38;5;124;43m\"\u001B[39;49m\u001B[43m)\u001B[49m\n",
       "\n",
       "File \u001B[0;32m/databricks/spark/python/pyspark/instrumentation_utils.py:48\u001B[0m, in \u001B[0;36m_wrap_function.<locals>.wrapper\u001B[0;34m(*args, **kwargs)\u001B[0m\n",
       "\u001B[1;32m     46\u001B[0m start \u001B[38;5;241m=\u001B[39m time\u001B[38;5;241m.\u001B[39mperf_counter()\n",
       "\u001B[1;32m     47\u001B[0m \u001B[38;5;28;01mtry\u001B[39;00m:\n",
       "\u001B[0;32m---> 48\u001B[0m     res \u001B[38;5;241m=\u001B[39m \u001B[43mfunc\u001B[49m\u001B[43m(\u001B[49m\u001B[38;5;241;43m*\u001B[39;49m\u001B[43margs\u001B[49m\u001B[43m,\u001B[49m\u001B[43m \u001B[49m\u001B[38;5;241;43m*\u001B[39;49m\u001B[38;5;241;43m*\u001B[39;49m\u001B[43mkwargs\u001B[49m\u001B[43m)\u001B[49m\n",
       "\u001B[1;32m     49\u001B[0m     logger\u001B[38;5;241m.\u001B[39mlog_success(\n",
       "\u001B[1;32m     50\u001B[0m         module_name, class_name, function_name, time\u001B[38;5;241m.\u001B[39mperf_counter() \u001B[38;5;241m-\u001B[39m start, signature\n",
       "\u001B[1;32m     51\u001B[0m     )\n",
       "\u001B[1;32m     52\u001B[0m     \u001B[38;5;28;01mreturn\u001B[39;00m res\n",
       "\n",
       "File \u001B[0;32m/databricks/spark/python/pyspark/sql/readwriter.py:307\u001B[0m, in \u001B[0;36mDataFrameReader.load\u001B[0;34m(self, path, format, schema, **options)\u001B[0m\n",
       "\u001B[1;32m    305\u001B[0m \u001B[38;5;28mself\u001B[39m\u001B[38;5;241m.\u001B[39moptions(\u001B[38;5;241m*\u001B[39m\u001B[38;5;241m*\u001B[39moptions)\n",
       "\u001B[1;32m    306\u001B[0m \u001B[38;5;28;01mif\u001B[39;00m \u001B[38;5;28misinstance\u001B[39m(path, \u001B[38;5;28mstr\u001B[39m):\n",
       "\u001B[0;32m--> 307\u001B[0m     \u001B[38;5;28;01mreturn\u001B[39;00m \u001B[38;5;28mself\u001B[39m\u001B[38;5;241m.\u001B[39m_df(\u001B[38;5;28;43mself\u001B[39;49m\u001B[38;5;241;43m.\u001B[39;49m\u001B[43m_jreader\u001B[49m\u001B[38;5;241;43m.\u001B[39;49m\u001B[43mload\u001B[49m\u001B[43m(\u001B[49m\u001B[43mpath\u001B[49m\u001B[43m)\u001B[49m)\n",
       "\u001B[1;32m    308\u001B[0m \u001B[38;5;28;01melif\u001B[39;00m path \u001B[38;5;129;01mis\u001B[39;00m \u001B[38;5;129;01mnot\u001B[39;00m \u001B[38;5;28;01mNone\u001B[39;00m:\n",
       "\u001B[1;32m    309\u001B[0m     \u001B[38;5;28;01mif\u001B[39;00m \u001B[38;5;28mtype\u001B[39m(path) \u001B[38;5;241m!=\u001B[39m \u001B[38;5;28mlist\u001B[39m:\n",
       "\n",
       "File \u001B[0;32m/databricks/spark/python/lib/py4j-0.10.9.7-src.zip/py4j/java_gateway.py:1322\u001B[0m, in \u001B[0;36mJavaMember.__call__\u001B[0;34m(self, *args)\u001B[0m\n",
       "\u001B[1;32m   1316\u001B[0m command \u001B[38;5;241m=\u001B[39m proto\u001B[38;5;241m.\u001B[39mCALL_COMMAND_NAME \u001B[38;5;241m+\u001B[39m\\\n",
       "\u001B[1;32m   1317\u001B[0m     \u001B[38;5;28mself\u001B[39m\u001B[38;5;241m.\u001B[39mcommand_header \u001B[38;5;241m+\u001B[39m\\\n",
       "\u001B[1;32m   1318\u001B[0m     args_command \u001B[38;5;241m+\u001B[39m\\\n",
       "\u001B[1;32m   1319\u001B[0m     proto\u001B[38;5;241m.\u001B[39mEND_COMMAND_PART\n",
       "\u001B[1;32m   1321\u001B[0m answer \u001B[38;5;241m=\u001B[39m \u001B[38;5;28mself\u001B[39m\u001B[38;5;241m.\u001B[39mgateway_client\u001B[38;5;241m.\u001B[39msend_command(command)\n",
       "\u001B[0;32m-> 1322\u001B[0m return_value \u001B[38;5;241m=\u001B[39m \u001B[43mget_return_value\u001B[49m\u001B[43m(\u001B[49m\n",
       "\u001B[1;32m   1323\u001B[0m \u001B[43m    \u001B[49m\u001B[43manswer\u001B[49m\u001B[43m,\u001B[49m\u001B[43m \u001B[49m\u001B[38;5;28;43mself\u001B[39;49m\u001B[38;5;241;43m.\u001B[39;49m\u001B[43mgateway_client\u001B[49m\u001B[43m,\u001B[49m\u001B[43m \u001B[49m\u001B[38;5;28;43mself\u001B[39;49m\u001B[38;5;241;43m.\u001B[39;49m\u001B[43mtarget_id\u001B[49m\u001B[43m,\u001B[49m\u001B[43m \u001B[49m\u001B[38;5;28;43mself\u001B[39;49m\u001B[38;5;241;43m.\u001B[39;49m\u001B[43mname\u001B[49m\u001B[43m)\u001B[49m\n",
       "\u001B[1;32m   1325\u001B[0m \u001B[38;5;28;01mfor\u001B[39;00m temp_arg \u001B[38;5;129;01min\u001B[39;00m temp_args:\n",
       "\u001B[1;32m   1326\u001B[0m     \u001B[38;5;28;01mif\u001B[39;00m \u001B[38;5;28mhasattr\u001B[39m(temp_arg, \u001B[38;5;124m\"\u001B[39m\u001B[38;5;124m_detach\u001B[39m\u001B[38;5;124m\"\u001B[39m):\n",
       "\n",
       "File \u001B[0;32m/databricks/spark/python/pyspark/errors/exceptions/captured.py:194\u001B[0m, in \u001B[0;36mcapture_sql_exception.<locals>.deco\u001B[0;34m(*a, **kw)\u001B[0m\n",
       "\u001B[1;32m    190\u001B[0m converted \u001B[38;5;241m=\u001B[39m convert_exception(e\u001B[38;5;241m.\u001B[39mjava_exception)\n",
       "\u001B[1;32m    191\u001B[0m \u001B[38;5;28;01mif\u001B[39;00m \u001B[38;5;129;01mnot\u001B[39;00m \u001B[38;5;28misinstance\u001B[39m(converted, UnknownException):\n",
       "\u001B[1;32m    192\u001B[0m     \u001B[38;5;66;03m# Hide where the exception came from that shows a non-Pythonic\u001B[39;00m\n",
       "\u001B[1;32m    193\u001B[0m     \u001B[38;5;66;03m# JVM exception message.\u001B[39;00m\n",
       "\u001B[0;32m--> 194\u001B[0m     \u001B[38;5;28;01mraise\u001B[39;00m converted \u001B[38;5;28;01mfrom\u001B[39;00m \u001B[38;5;28mNone\u001B[39m\n",
       "\u001B[1;32m    195\u001B[0m \u001B[38;5;28;01melse\u001B[39;00m:\n",
       "\u001B[1;32m    196\u001B[0m     \u001B[38;5;28;01mraise\u001B[39;00m\n",
       "\n",
       "\u001B[0;31mAnalysisException\u001B[0m: [UNABLE_TO_INFER_SCHEMA] Unable to infer schema for Parquet. It must be specified manually."
      ]
     },
     "metadata": {
      "application/vnd.databricks.v1+output": {
       "arguments": {},
       "data": "\u001B[0;31m---------------------------------------------------------------------------\u001B[0m\n\u001B[0;31mAnalysisException\u001B[0m                         Traceback (most recent call last)\nFile \u001B[0;32m<command-3178365256526096>, line 4\u001B[0m\n\u001B[1;32m      1\u001B[0m report_new_df\u001B[38;5;241m=\u001B[39m\u001B[43mspark\u001B[49m\u001B[38;5;241;43m.\u001B[39;49m\u001B[43mread\u001B[49m\u001B[43m \u001B[49m\u001B[43m\\\u001B[49m\n\u001B[1;32m      2\u001B[0m \u001B[43m    \u001B[49m\u001B[38;5;241;43m.\u001B[39;49m\u001B[43mformat\u001B[49m\u001B[43m(\u001B[49m\u001B[38;5;124;43m\"\u001B[39;49m\u001B[38;5;124;43mparquet\u001B[39;49m\u001B[38;5;124;43m\"\u001B[39;49m\u001B[43m)\u001B[49m\u001B[43m \u001B[49m\u001B[43m\\\u001B[49m\n\u001B[1;32m      3\u001B[0m \u001B[43m    \u001B[49m\u001B[38;5;241;43m.\u001B[39;49m\u001B[43moption\u001B[49m\u001B[43m(\u001B[49m\u001B[38;5;124;43m\"\u001B[39;49m\u001B[38;5;124;43mheader\u001B[39;49m\u001B[38;5;124;43m\"\u001B[39;49m\u001B[43m,\u001B[49m\u001B[38;5;124;43m\"\u001B[39;49m\u001B[38;5;124;43mtrue\u001B[39;49m\u001B[38;5;124;43m\"\u001B[39;49m\u001B[43m)\u001B[49m\u001B[43m \u001B[49m\u001B[43m\\\u001B[49m\n\u001B[0;32m----> 4\u001B[0m \u001B[43m    \u001B[49m\u001B[38;5;241;43m.\u001B[39;49m\u001B[43mload\u001B[49m\u001B[43m(\u001B[49m\u001B[38;5;124;43m\"\u001B[39;49m\u001B[38;5;124;43m/mnt/week11assignment/reporting\u001B[39;49m\u001B[38;5;124;43m\"\u001B[39;49m\u001B[43m)\u001B[49m\n\nFile \u001B[0;32m/databricks/spark/python/pyspark/instrumentation_utils.py:48\u001B[0m, in \u001B[0;36m_wrap_function.<locals>.wrapper\u001B[0;34m(*args, **kwargs)\u001B[0m\n\u001B[1;32m     46\u001B[0m start \u001B[38;5;241m=\u001B[39m time\u001B[38;5;241m.\u001B[39mperf_counter()\n\u001B[1;32m     47\u001B[0m \u001B[38;5;28;01mtry\u001B[39;00m:\n\u001B[0;32m---> 48\u001B[0m     res \u001B[38;5;241m=\u001B[39m \u001B[43mfunc\u001B[49m\u001B[43m(\u001B[49m\u001B[38;5;241;43m*\u001B[39;49m\u001B[43margs\u001B[49m\u001B[43m,\u001B[49m\u001B[43m \u001B[49m\u001B[38;5;241;43m*\u001B[39;49m\u001B[38;5;241;43m*\u001B[39;49m\u001B[43mkwargs\u001B[49m\u001B[43m)\u001B[49m\n\u001B[1;32m     49\u001B[0m     logger\u001B[38;5;241m.\u001B[39mlog_success(\n\u001B[1;32m     50\u001B[0m         module_name, class_name, function_name, time\u001B[38;5;241m.\u001B[39mperf_counter() \u001B[38;5;241m-\u001B[39m start, signature\n\u001B[1;32m     51\u001B[0m     )\n\u001B[1;32m     52\u001B[0m     \u001B[38;5;28;01mreturn\u001B[39;00m res\n\nFile \u001B[0;32m/databricks/spark/python/pyspark/sql/readwriter.py:307\u001B[0m, in \u001B[0;36mDataFrameReader.load\u001B[0;34m(self, path, format, schema, **options)\u001B[0m\n\u001B[1;32m    305\u001B[0m \u001B[38;5;28mself\u001B[39m\u001B[38;5;241m.\u001B[39moptions(\u001B[38;5;241m*\u001B[39m\u001B[38;5;241m*\u001B[39moptions)\n\u001B[1;32m    306\u001B[0m \u001B[38;5;28;01mif\u001B[39;00m \u001B[38;5;28misinstance\u001B[39m(path, \u001B[38;5;28mstr\u001B[39m):\n\u001B[0;32m--> 307\u001B[0m     \u001B[38;5;28;01mreturn\u001B[39;00m \u001B[38;5;28mself\u001B[39m\u001B[38;5;241m.\u001B[39m_df(\u001B[38;5;28;43mself\u001B[39;49m\u001B[38;5;241;43m.\u001B[39;49m\u001B[43m_jreader\u001B[49m\u001B[38;5;241;43m.\u001B[39;49m\u001B[43mload\u001B[49m\u001B[43m(\u001B[49m\u001B[43mpath\u001B[49m\u001B[43m)\u001B[49m)\n\u001B[1;32m    308\u001B[0m \u001B[38;5;28;01melif\u001B[39;00m path \u001B[38;5;129;01mis\u001B[39;00m \u001B[38;5;129;01mnot\u001B[39;00m \u001B[38;5;28;01mNone\u001B[39;00m:\n\u001B[1;32m    309\u001B[0m     \u001B[38;5;28;01mif\u001B[39;00m \u001B[38;5;28mtype\u001B[39m(path) \u001B[38;5;241m!=\u001B[39m \u001B[38;5;28mlist\u001B[39m:\n\nFile \u001B[0;32m/databricks/spark/python/lib/py4j-0.10.9.7-src.zip/py4j/java_gateway.py:1322\u001B[0m, in \u001B[0;36mJavaMember.__call__\u001B[0;34m(self, *args)\u001B[0m\n\u001B[1;32m   1316\u001B[0m command \u001B[38;5;241m=\u001B[39m proto\u001B[38;5;241m.\u001B[39mCALL_COMMAND_NAME \u001B[38;5;241m+\u001B[39m\\\n\u001B[1;32m   1317\u001B[0m     \u001B[38;5;28mself\u001B[39m\u001B[38;5;241m.\u001B[39mcommand_header \u001B[38;5;241m+\u001B[39m\\\n\u001B[1;32m   1318\u001B[0m     args_command \u001B[38;5;241m+\u001B[39m\\\n\u001B[1;32m   1319\u001B[0m     proto\u001B[38;5;241m.\u001B[39mEND_COMMAND_PART\n\u001B[1;32m   1321\u001B[0m answer \u001B[38;5;241m=\u001B[39m \u001B[38;5;28mself\u001B[39m\u001B[38;5;241m.\u001B[39mgateway_client\u001B[38;5;241m.\u001B[39msend_command(command)\n\u001B[0;32m-> 1322\u001B[0m return_value \u001B[38;5;241m=\u001B[39m \u001B[43mget_return_value\u001B[49m\u001B[43m(\u001B[49m\n\u001B[1;32m   1323\u001B[0m \u001B[43m    \u001B[49m\u001B[43manswer\u001B[49m\u001B[43m,\u001B[49m\u001B[43m \u001B[49m\u001B[38;5;28;43mself\u001B[39;49m\u001B[38;5;241;43m.\u001B[39;49m\u001B[43mgateway_client\u001B[49m\u001B[43m,\u001B[49m\u001B[43m \u001B[49m\u001B[38;5;28;43mself\u001B[39;49m\u001B[38;5;241;43m.\u001B[39;49m\u001B[43mtarget_id\u001B[49m\u001B[43m,\u001B[49m\u001B[43m \u001B[49m\u001B[38;5;28;43mself\u001B[39;49m\u001B[38;5;241;43m.\u001B[39;49m\u001B[43mname\u001B[49m\u001B[43m)\u001B[49m\n\u001B[1;32m   1325\u001B[0m \u001B[38;5;28;01mfor\u001B[39;00m temp_arg \u001B[38;5;129;01min\u001B[39;00m temp_args:\n\u001B[1;32m   1326\u001B[0m     \u001B[38;5;28;01mif\u001B[39;00m \u001B[38;5;28mhasattr\u001B[39m(temp_arg, \u001B[38;5;124m\"\u001B[39m\u001B[38;5;124m_detach\u001B[39m\u001B[38;5;124m\"\u001B[39m):\n\nFile \u001B[0;32m/databricks/spark/python/pyspark/errors/exceptions/captured.py:194\u001B[0m, in \u001B[0;36mcapture_sql_exception.<locals>.deco\u001B[0;34m(*a, **kw)\u001B[0m\n\u001B[1;32m    190\u001B[0m converted \u001B[38;5;241m=\u001B[39m convert_exception(e\u001B[38;5;241m.\u001B[39mjava_exception)\n\u001B[1;32m    191\u001B[0m \u001B[38;5;28;01mif\u001B[39;00m \u001B[38;5;129;01mnot\u001B[39;00m \u001B[38;5;28misinstance\u001B[39m(converted, UnknownException):\n\u001B[1;32m    192\u001B[0m     \u001B[38;5;66;03m# Hide where the exception came from that shows a non-Pythonic\u001B[39;00m\n\u001B[1;32m    193\u001B[0m     \u001B[38;5;66;03m# JVM exception message.\u001B[39;00m\n\u001B[0;32m--> 194\u001B[0m     \u001B[38;5;28;01mraise\u001B[39;00m converted \u001B[38;5;28;01mfrom\u001B[39;00m \u001B[38;5;28mNone\u001B[39m\n\u001B[1;32m    195\u001B[0m \u001B[38;5;28;01melse\u001B[39;00m:\n\u001B[1;32m    196\u001B[0m     \u001B[38;5;28;01mraise\u001B[39;00m\n\n\u001B[0;31mAnalysisException\u001B[0m: [UNABLE_TO_INFER_SCHEMA] Unable to infer schema for Parquet. It must be specified manually.",
       "errorSummary": "<span class='ansi-red-fg'>AnalysisException</span>: [UNABLE_TO_INFER_SCHEMA] Unable to infer schema for Parquet. It must be specified manually.",
       "errorTraceType": "ansi",
       "metadata": {},
       "type": "ipynbError"
      }
     },
     "output_type": "display_data"
    }
   ],
   "source": [
    "report_new_df=spark.read \\\n",
    "    .format(\"parquet\") \\\n",
    "    .option(\"header\",\"true\") \\\n",
    "    .load(\"/mnt/week11assignment/reporting\")"
   ]
  },
  {
   "cell_type": "code",
   "execution_count": 0,
   "metadata": {
    "application/vnd.databricks.v1+cell": {
     "cellMetadata": {
      "byteLimit": 2048000,
      "rowLimit": 10000
     },
     "inputWidgets": {},
     "nuid": "534965f0-2b65-456b-8d1d-de544b52e252",
     "showTitle": false,
     "title": ""
    }
   },
   "outputs": [],
   "source": [
    "report_df.select(expr(\"order_customer_id\").alias(\"customer_id\"),expr(\"concat(customer_fname,'',customer_lname)\").alias(\"customer_name\"),\"order_date\",\"customer_city\",\"customer_state\",\"order_status\",\"order_year\",\"order_month\").createOrReplaceTempView(\"order_cust_vw\")"
   ]
  },
  {
   "cell_type": "code",
   "execution_count": 0,
   "metadata": {
    "application/vnd.databricks.v1+cell": {
     "cellMetadata": {
      "byteLimit": 2048000,
      "rowLimit": 10000
     },
     "inputWidgets": {},
     "nuid": "95914416-9b8b-434a-b7e8-42792a4409b5",
     "showTitle": false,
     "title": ""
    }
   },
   "outputs": [
    {
     "output_type": "stream",
     "name": "stdout",
     "output_type": "stream",
     "text": [
      "+-----------+-------------+----------+-------------+--------------+------------+----------+-----------+\n|customer_id|customer_name|order_date|customer_city|customer_state|order_status|order_year|order_month|\n+-----------+-------------+----------+-------------+--------------+------------+----------+-----------+\n|       5533| MaryHarrison|2014-07-23|       Caguas|            PR|    COMPLETE|      2014|          7|\n|       1117| ArthurMaddox|2014-07-13|       Caguas|            PR|    COMPLETE|      2014|          7|\n|        778|  JohnBuckley|2014-07-09|       Caguas|            PR|    COMPLETE|      2014|          7|\n|       6753| JudithHester|2014-07-08|  Winter Park|            FL|    COMPLETE|      2014|          7|\n|       4124|  JerryLarsen|2014-07-06|       Caguas|            PR|    COMPLETE|      2014|          7|\n|       1601|  MarkPadilla|2014-07-03|       Caguas|            PR|    COMPLETE|      2014|          7|\n|       3354|RussellFlores|2014-06-29|       Caguas|            PR|    COMPLETE|      2014|          6|\n|       3343| VincentSmith|2014-06-26|       Caguas|            PR|    COMPLETE|      2014|          6|\n|       1428|    MaryClark|2014-06-11|    Frankfort|            KY|    COMPLETE|      2014|          6|\n|      10744|SamanthaSmith|2014-06-06|     Palatine|            IL|    COMPLETE|      2014|          6|\n+-----------+-------------+----------+-------------+--------------+------------+----------+-----------+\n\n"
     ]
    }
   ],
   "source": [
    "spark.sql(\"select * from order_cust_vw limit 10\").show()"
   ]
  },
  {
   "cell_type": "code",
   "execution_count": 0,
   "metadata": {
    "application/vnd.databricks.v1+cell": {
     "cellMetadata": {
      "byteLimit": 2048000,
      "rowLimit": 10000
     },
     "inputWidgets": {},
     "nuid": "4001a79d-5f50-4a53-9b81-a8ff25ee07a5",
     "showTitle": false,
     "title": ""
    }
   },
   "outputs": [
    {
     "output_type": "execute_result",
     "data": {
      "text/plain": [
       "DataFrame[]"
      ]
     },
     "execution_count": 49,
     "metadata": {},
     "output_type": "execute_result"
    }
   ],
   "source": [
    "spark.sql(\"cache table order_cust_vw\")"
   ]
  },
  {
   "cell_type": "code",
   "execution_count": 0,
   "metadata": {
    "application/vnd.databricks.v1+cell": {
     "cellMetadata": {
      "byteLimit": 2048000,
      "implicitDf": true,
      "rowLimit": 10000
     },
     "inputWidgets": {},
     "nuid": "cf359898-1abc-4a85-976b-0229039cddf8",
     "showTitle": false,
     "title": ""
    }
   },
   "outputs": [
    {
     "output_type": "display_data",
     "data": {
      "text/html": [
       "<style scoped>\n",
       "  .table-result-container {\n",
       "    max-height: 300px;\n",
       "    overflow: auto;\n",
       "  }\n",
       "  table, th, td {\n",
       "    border: 1px solid black;\n",
       "    border-collapse: collapse;\n",
       "  }\n",
       "  th, td {\n",
       "    padding: 5px;\n",
       "  }\n",
       "  th {\n",
       "    text-align: left;\n",
       "  }\n",
       "</style><div class='table-result-container'><table class='table-result'><thead style='background-color: white'><tr><th>customer_id</th><th>customer_name</th><th>order_date</th><th>customer_city</th><th>customer_state</th><th>order_status</th><th>order_year</th><th>order_month</th></tr></thead><tbody><tr><td>312</td><td>JackSmith</td><td>2014-06-04</td><td>Houston</td><td>TX</td><td>COMPLETE</td><td>2014</td><td>6</td></tr><tr><td>8451</td><td>JaniceNovak</td><td>2014-05-25</td><td>Houston</td><td>TX</td><td>COMPLETE</td><td>2014</td><td>5</td></tr><tr><td>2564</td><td>PhillipSmith</td><td>2014-04-05</td><td>Amarillo</td><td>TX</td><td>COMPLETE</td><td>2014</td><td>4</td></tr><tr><td>2163</td><td>NicholasWright</td><td>2014-07-10</td><td>Irving</td><td>TX</td><td>COMPLETE</td><td>2014</td><td>7</td></tr><tr><td>5259</td><td>DennisSmith</td><td>2014-06-27</td><td>Houston</td><td>TX</td><td>COMPLETE</td><td>2014</td><td>6</td></tr><tr><td>10433</td><td>ElizabethBall</td><td>2014-06-26</td><td>Houston</td><td>TX</td><td>COMPLETE</td><td>2014</td><td>6</td></tr><tr><td>8952</td><td>JosephBrooks</td><td>2014-06-11</td><td>Mission</td><td>TX</td><td>COMPLETE</td><td>2014</td><td>6</td></tr><tr><td>2202</td><td>MarySmith</td><td>2014-06-05</td><td>Mesquite</td><td>TX</td><td>COMPLETE</td><td>2014</td><td>6</td></tr><tr><td>9263</td><td>JoeSmith</td><td>2014-04-28</td><td>Dallas</td><td>TX</td><td>COMPLETE</td><td>2014</td><td>4</td></tr><tr><td>8391</td><td>RobertSmith</td><td>2014-04-21</td><td>Amarillo</td><td>TX</td><td>COMPLETE</td><td>2014</td><td>4</td></tr><tr><td>1392</td><td>MaryHardy</td><td>2014-04-04</td><td>Amarillo</td><td>TX</td><td>COMPLETE</td><td>2014</td><td>4</td></tr><tr><td>775</td><td>DonnaBautista</td><td>2014-03-28</td><td>College Station</td><td>TX</td><td>COMPLETE</td><td>2014</td><td>3</td></tr><tr><td>1498</td><td>PeterBray</td><td>2014-03-08</td><td>Houston</td><td>TX</td><td>COMPLETE</td><td>2014</td><td>3</td></tr><tr><td>7602</td><td>BrianMitchell</td><td>2014-02-15</td><td>Harlingen</td><td>TX</td><td>COMPLETE</td><td>2014</td><td>2</td></tr><tr><td>11094</td><td>RoseWyatt</td><td>2014-01-23</td><td>Mission</td><td>TX</td><td>COMPLETE</td><td>2014</td><td>1</td></tr><tr><td>5987</td><td>MarySmith</td><td>2014-01-23</td><td>Houston</td><td>TX</td><td>COMPLETE</td><td>2014</td><td>1</td></tr><tr><td>254</td><td>DianaHale</td><td>2014-01-20</td><td>San Antonio</td><td>TX</td><td>COMPLETE</td><td>2014</td><td>1</td></tr><tr><td>2641</td><td>BettySpears</td><td>2014-07-22</td><td>Carrollton</td><td>TX</td><td>COMPLETE</td><td>2014</td><td>7</td></tr><tr><td>2692</td><td>MarySmith</td><td>2014-07-21</td><td>Pharr</td><td>TX</td><td>COMPLETE</td><td>2014</td><td>7</td></tr><tr><td>7316</td><td>MarilynWu</td><td>2014-07-20</td><td>Baytown</td><td>TX</td><td>COMPLETE</td><td>2014</td><td>7</td></tr><tr><td>9798</td><td>BrittanyFrench</td><td>2014-07-18</td><td>Houston</td><td>TX</td><td>COMPLETE</td><td>2014</td><td>7</td></tr><tr><td>3887</td><td>MaryBerry</td><td>2014-07-17</td><td>Garland</td><td>TX</td><td>COMPLETE</td><td>2014</td><td>7</td></tr><tr><td>7071</td><td>AmberAnderson</td><td>2014-07-17</td><td>North Richland Hills</td><td>TX</td><td>COMPLETE</td><td>2014</td><td>7</td></tr><tr><td>10345</td><td>ElizabethMcpherson</td><td>2014-07-16</td><td>Richmond</td><td>TX</td><td>COMPLETE</td><td>2014</td><td>7</td></tr><tr><td>1870</td><td>TiffanyGreer</td><td>2014-07-15</td><td>Amarillo</td><td>TX</td><td>COMPLETE</td><td>2014</td><td>7</td></tr><tr><td>9798</td><td>BrittanyFrench</td><td>2014-07-13</td><td>Houston</td><td>TX</td><td>COMPLETE</td><td>2014</td><td>7</td></tr><tr><td>12302</td><td>DonaldSampson</td><td>2014-07-11</td><td>Austin</td><td>TX</td><td>COMPLETE</td><td>2014</td><td>7</td></tr><tr><td>549</td><td>MarySmith</td><td>2014-07-09</td><td>Sugar Land</td><td>TX</td><td>COMPLETE</td><td>2014</td><td>7</td></tr><tr><td>2308</td><td>MaryMorgan</td><td>2014-07-06</td><td>Austin</td><td>TX</td><td>COMPLETE</td><td>2014</td><td>7</td></tr><tr><td>5324</td><td>MaryPatterson</td><td>2014-07-06</td><td>Houston</td><td>TX</td><td>COMPLETE</td><td>2014</td><td>7</td></tr><tr><td>2592</td><td>KyleEdwards</td><td>2014-07-05</td><td>San Marcos</td><td>TX</td><td>COMPLETE</td><td>2014</td><td>7</td></tr><tr><td>11400</td><td>FrancesHolmes</td><td>2014-07-05</td><td>Fort Worth</td><td>TX</td><td>COMPLETE</td><td>2014</td><td>7</td></tr><tr><td>1561</td><td>HaroldJohnson</td><td>2014-07-04</td><td>Lewisville</td><td>TX</td><td>COMPLETE</td><td>2014</td><td>7</td></tr><tr><td>3783</td><td>AlbertSmith</td><td>2014-06-29</td><td>El Paso</td><td>TX</td><td>COMPLETE</td><td>2014</td><td>6</td></tr><tr><td>8727</td><td>JamesColeman</td><td>2014-06-25</td><td>San Antonio</td><td>TX</td><td>COMPLETE</td><td>2014</td><td>6</td></tr><tr><td>12150</td><td>PaulHancock</td><td>2014-06-23</td><td>Dallas</td><td>TX</td><td>COMPLETE</td><td>2014</td><td>6</td></tr><tr><td>7598</td><td>MaryGonzalez</td><td>2014-06-22</td><td>San Benito</td><td>TX</td><td>COMPLETE</td><td>2014</td><td>6</td></tr><tr><td>10433</td><td>ElizabethBall</td><td>2014-06-19</td><td>Houston</td><td>TX</td><td>COMPLETE</td><td>2014</td><td>6</td></tr><tr><td>4159</td><td>MaryCastillo</td><td>2014-06-04</td><td>Laredo</td><td>TX</td><td>COMPLETE</td><td>2014</td><td>6</td></tr><tr><td>10459</td><td>JasonSmith</td><td>2014-06-04</td><td>El Paso</td><td>TX</td><td>COMPLETE</td><td>2014</td><td>6</td></tr><tr><td>4022</td><td>MaryHarding</td><td>2014-06-02</td><td>Garland</td><td>TX</td><td>COMPLETE</td><td>2014</td><td>6</td></tr><tr><td>7476</td><td>BenjaminCole</td><td>2014-05-31</td><td>Austin</td><td>TX</td><td>COMPLETE</td><td>2014</td><td>5</td></tr><tr><td>8071</td><td>GaryBaker</td><td>2014-05-28</td><td>Plano</td><td>TX</td><td>COMPLETE</td><td>2014</td><td>5</td></tr><tr><td>6906</td><td>RebeccaWatkins</td><td>2014-05-23</td><td>Dallas</td><td>TX</td><td>COMPLETE</td><td>2014</td><td>5</td></tr><tr><td>3660</td><td>RogerSmith</td><td>2014-05-21</td><td>Del Rio</td><td>TX</td><td>COMPLETE</td><td>2014</td><td>5</td></tr><tr><td>3292</td><td>RuthSmith</td><td>2014-05-20</td><td>Arlington</td><td>TX</td><td>COMPLETE</td><td>2014</td><td>5</td></tr><tr><td>7645</td><td>BrandonStephens</td><td>2014-05-20</td><td>Laredo</td><td>TX</td><td>COMPLETE</td><td>2014</td><td>5</td></tr><tr><td>9756</td><td>MaryWhite</td><td>2014-05-17</td><td>Dallas</td><td>TX</td><td>COMPLETE</td><td>2014</td><td>5</td></tr><tr><td>8774</td><td>FrancesSmith</td><td>2014-05-16</td><td>Dallas</td><td>TX</td><td>COMPLETE</td><td>2014</td><td>5</td></tr><tr><td>12115</td><td>LawrenceSmith</td><td>2014-05-11</td><td>Mission</td><td>TX</td><td>COMPLETE</td><td>2014</td><td>5</td></tr><tr><td>996</td><td>AmandaSmith</td><td>2014-05-11</td><td>Austin</td><td>TX</td><td>COMPLETE</td><td>2014</td><td>5</td></tr><tr><td>11965</td><td>EmmaNoble</td><td>2014-05-11</td><td>North Richland Hills</td><td>TX</td><td>COMPLETE</td><td>2014</td><td>5</td></tr><tr><td>5369</td><td>MaryShort</td><td>2014-05-09</td><td>North Richland Hills</td><td>TX</td><td>COMPLETE</td><td>2014</td><td>5</td></tr><tr><td>3786</td><td>MaryMoody</td><td>2014-05-08</td><td>Irving</td><td>TX</td><td>COMPLETE</td><td>2014</td><td>5</td></tr><tr><td>4933</td><td>MarySmith</td><td>2014-05-04</td><td>Laredo</td><td>TX</td><td>COMPLETE</td><td>2014</td><td>5</td></tr><tr><td>8822</td><td>DorothySmith</td><td>2014-05-01</td><td>Dallas</td><td>TX</td><td>COMPLETE</td><td>2014</td><td>5</td></tr><tr><td>9849</td><td>MarySmith</td><td>2014-04-28</td><td>Dallas</td><td>TX</td><td>COMPLETE</td><td>2014</td><td>4</td></tr><tr><td>5658</td><td>MichaelWiley</td><td>2014-04-28</td><td>Harlingen</td><td>TX</td><td>COMPLETE</td><td>2014</td><td>4</td></tr><tr><td>7661</td><td>LindaRojas</td><td>2014-04-27</td><td>Dallas</td><td>TX</td><td>COMPLETE</td><td>2014</td><td>4</td></tr><tr><td>8538</td><td>MaryNewman</td><td>2014-04-23</td><td>Laredo</td><td>TX</td><td>COMPLETE</td><td>2014</td><td>4</td></tr><tr><td>9190</td><td>AndrewRasmussen</td><td>2014-04-22</td><td>Dallas</td><td>TX</td><td>COMPLETE</td><td>2014</td><td>4</td></tr><tr><td>1028</td><td>VirginiaSanders</td><td>2014-04-21</td><td>Austin</td><td>TX</td><td>COMPLETE</td><td>2014</td><td>4</td></tr><tr><td>10800</td><td>MaryDunn</td><td>2014-04-19</td><td>Arlington</td><td>TX</td><td>COMPLETE</td><td>2014</td><td>4</td></tr><tr><td>5031</td><td>MaryGeorge</td><td>2014-04-19</td><td>San Antonio</td><td>TX</td><td>COMPLETE</td><td>2014</td><td>4</td></tr><tr><td>2870</td><td>RonaldSmith</td><td>2014-04-15</td><td>El Paso</td><td>TX</td><td>COMPLETE</td><td>2014</td><td>4</td></tr><tr><td>9295</td><td>JaneSmith</td><td>2014-04-15</td><td>College Station</td><td>TX</td><td>COMPLETE</td><td>2014</td><td>4</td></tr><tr><td>8843</td><td>JuanSmith</td><td>2014-04-15</td><td>Houston</td><td>TX</td><td>COMPLETE</td><td>2014</td><td>4</td></tr><tr><td>1063</td><td>MaryFriedman</td><td>2014-04-13</td><td>Dallas</td><td>TX</td><td>COMPLETE</td><td>2014</td><td>4</td></tr><tr><td>12178</td><td>MaryMcgee</td><td>2014-04-11</td><td>Irving</td><td>TX</td><td>COMPLETE</td><td>2014</td><td>4</td></tr><tr><td>2591</td><td>PatriciaSmith</td><td>2014-04-10</td><td>Dallas</td><td>TX</td><td>COMPLETE</td><td>2014</td><td>4</td></tr><tr><td>8582</td><td>EdwardSmith</td><td>2014-04-09</td><td>Houston</td><td>TX</td><td>COMPLETE</td><td>2014</td><td>4</td></tr><tr><td>10816</td><td>HenryTurner</td><td>2014-04-07</td><td>Dallas</td><td>TX</td><td>COMPLETE</td><td>2014</td><td>4</td></tr><tr><td>2843</td><td>MaryChung</td><td>2014-04-06</td><td>Sugar Land</td><td>TX</td><td>COMPLETE</td><td>2014</td><td>4</td></tr><tr><td>371</td><td>AdamMarquez</td><td>2014-04-06</td><td>San Antonio</td><td>TX</td><td>COMPLETE</td><td>2014</td><td>4</td></tr><tr><td>9963</td><td>RoyMerritt</td><td>2014-04-05</td><td>Brownsville</td><td>TX</td><td>COMPLETE</td><td>2014</td><td>4</td></tr><tr><td>6945</td><td>MarySmith</td><td>2014-04-03</td><td>Richmond</td><td>TX</td><td>COMPLETE</td><td>2014</td><td>4</td></tr><tr><td>1028</td><td>VirginiaSanders</td><td>2014-04-02</td><td>Austin</td><td>TX</td><td>COMPLETE</td><td>2014</td><td>4</td></tr><tr><td>8382</td><td>JoshuaMullins</td><td>2014-04-01</td><td>Fort Worth</td><td>TX</td><td>COMPLETE</td><td>2014</td><td>4</td></tr><tr><td>9646</td><td>MaryRoberts</td><td>2014-03-31</td><td>Laredo</td><td>TX</td><td>COMPLETE</td><td>2014</td><td>3</td></tr><tr><td>7641</td><td>StephenSmith</td><td>2014-03-28</td><td>Houston</td><td>TX</td><td>COMPLETE</td><td>2014</td><td>3</td></tr><tr><td>4619</td><td>MaryNelson</td><td>2014-03-18</td><td>Richmond</td><td>TX</td><td>COMPLETE</td><td>2014</td><td>3</td></tr><tr><td>2292</td><td>AshleySmith</td><td>2014-03-12</td><td>San Benito</td><td>TX</td><td>COMPLETE</td><td>2014</td><td>3</td></tr><tr><td>12115</td><td>LawrenceSmith</td><td>2014-03-07</td><td>Mission</td><td>TX</td><td>COMPLETE</td><td>2014</td><td>3</td></tr><tr><td>312</td><td>JackSmith</td><td>2014-02-24</td><td>Houston</td><td>TX</td><td>COMPLETE</td><td>2014</td><td>2</td></tr><tr><td>583</td><td>MaryWright</td><td>2014-02-14</td><td>San Marcos</td><td>TX</td><td>COMPLETE</td><td>2014</td><td>2</td></tr><tr><td>6168</td><td>ArthurLi</td><td>2014-02-13</td><td>Pharr</td><td>TX</td><td>COMPLETE</td><td>2014</td><td>2</td></tr><tr><td>8727</td><td>JamesColeman</td><td>2014-02-12</td><td>San Antonio</td><td>TX</td><td>COMPLETE</td><td>2014</td><td>2</td></tr><tr><td>2200</td><td>EvelynWilson</td><td>2014-02-04</td><td>Fort Worth</td><td>TX</td><td>COMPLETE</td><td>2014</td><td>2</td></tr><tr><td>10776</td><td>AmyCompton</td><td>2014-02-04</td><td>Fort Worth</td><td>TX</td><td>COMPLETE</td><td>2014</td><td>2</td></tr><tr><td>6436</td><td>MaryPayne</td><td>2014-02-03</td><td>Dallas</td><td>TX</td><td>COMPLETE</td><td>2014</td><td>2</td></tr><tr><td>1806</td><td>RogerSmith</td><td>2014-02-03</td><td>El Paso</td><td>TX</td><td>COMPLETE</td><td>2014</td><td>2</td></tr><tr><td>7917</td><td>AshleyPalmer</td><td>2014-01-29</td><td>Dallas</td><td>TX</td><td>COMPLETE</td><td>2014</td><td>1</td></tr><tr><td>11376</td><td>CharlesMason</td><td>2014-01-29</td><td>Houston</td><td>TX</td><td>COMPLETE</td><td>2014</td><td>1</td></tr><tr><td>5960</td><td>MargaretSmith</td><td>2014-01-29</td><td>Round Rock</td><td>TX</td><td>COMPLETE</td><td>2014</td><td>1</td></tr><tr><td>11376</td><td>CharlesMason</td><td>2014-01-24</td><td>Houston</td><td>TX</td><td>COMPLETE</td><td>2014</td><td>1</td></tr><tr><td>2346</td><td>MaryBishop</td><td>2014-01-20</td><td>Mesquite</td><td>TX</td><td>COMPLETE</td><td>2014</td><td>1</td></tr><tr><td>2420</td><td>MarySmith</td><td>2014-01-19</td><td>Weslaco</td><td>TX</td><td>COMPLETE</td><td>2014</td><td>1</td></tr><tr><td>7661</td><td>LindaRojas</td><td>2014-01-15</td><td>Dallas</td><td>TX</td><td>COMPLETE</td><td>2014</td><td>1</td></tr><tr><td>5859</td><td>RonaldWilson</td><td>2014-01-09</td><td>San Antonio</td><td>TX</td><td>COMPLETE</td><td>2014</td><td>1</td></tr><tr><td>5658</td><td>MichaelWiley</td><td>2014-01-04</td><td>Harlingen</td><td>TX</td><td>COMPLETE</td><td>2014</td><td>1</td></tr><tr><td>5031</td><td>MaryGeorge</td><td>2014-01-01</td><td>San Antonio</td><td>TX</td><td>COMPLETE</td><td>2014</td><td>1</td></tr><tr><td>10152</td><td>WalterHughes</td><td>2014-01-01</td><td>Houston</td><td>TX</td><td>COMPLETE</td><td>2014</td><td>1</td></tr><tr><td>1249</td><td>DonaldOdom</td><td>2014-07-24</td><td>San Antonio</td><td>TX</td><td>COMPLETE</td><td>2014</td><td>7</td></tr><tr><td>2688</td><td>MaryRoss</td><td>2014-07-23</td><td>Irving</td><td>TX</td><td>COMPLETE</td><td>2014</td><td>7</td></tr><tr><td>7836</td><td>MaryHerman</td><td>2014-07-22</td><td>College Station</td><td>TX</td><td>COMPLETE</td><td>2014</td><td>7</td></tr><tr><td>9276</td><td>MarySmith</td><td>2014-07-22</td><td>Dallas</td><td>TX</td><td>COMPLETE</td><td>2014</td><td>7</td></tr><tr><td>9761</td><td>HelenSmith</td><td>2014-07-22</td><td>Brownsville</td><td>TX</td><td>COMPLETE</td><td>2014</td><td>7</td></tr><tr><td>9303</td><td>MaryBentley</td><td>2014-07-22</td><td>Dallas</td><td>TX</td><td>COMPLETE</td><td>2014</td><td>7</td></tr><tr><td>2692</td><td>MarySmith</td><td>2014-07-22</td><td>Pharr</td><td>TX</td><td>COMPLETE</td><td>2014</td><td>7</td></tr><tr><td>11896</td><td>MarySmith</td><td>2014-07-22</td><td>San Antonio</td><td>TX</td><td>COMPLETE</td><td>2014</td><td>7</td></tr><tr><td>9018</td><td>MarySmith</td><td>2014-07-22</td><td>Dallas</td><td>TX</td><td>COMPLETE</td><td>2014</td><td>7</td></tr><tr><td>2371</td><td>BarbaraSmith</td><td>2014-07-21</td><td>Baytown</td><td>TX</td><td>COMPLETE</td><td>2014</td><td>7</td></tr><tr><td>549</td><td>MarySmith</td><td>2014-07-21</td><td>Sugar Land</td><td>TX</td><td>COMPLETE</td><td>2014</td><td>7</td></tr><tr><td>312</td><td>JackSmith</td><td>2014-07-21</td><td>Houston</td><td>TX</td><td>COMPLETE</td><td>2014</td><td>7</td></tr><tr><td>6654</td><td>MarySimmons</td><td>2014-07-21</td><td>Irving</td><td>TX</td><td>COMPLETE</td><td>2014</td><td>7</td></tr><tr><td>4563</td><td>MelissaPowell</td><td>2014-07-21</td><td>Dallas</td><td>TX</td><td>COMPLETE</td><td>2014</td><td>7</td></tr><tr><td>2641</td><td>BettySpears</td><td>2014-07-21</td><td>Carrollton</td><td>TX</td><td>COMPLETE</td><td>2014</td><td>7</td></tr><tr><td>3051</td><td>JohnJohnson</td><td>2014-07-21</td><td>Sugar Land</td><td>TX</td><td>COMPLETE</td><td>2014</td><td>7</td></tr><tr><td>10108</td><td>JoseSmith</td><td>2014-07-21</td><td>El Paso</td><td>TX</td><td>COMPLETE</td><td>2014</td><td>7</td></tr><tr><td>6500</td><td>JoyceLeblanc</td><td>2014-07-20</td><td>Mesquite</td><td>TX</td><td>COMPLETE</td><td>2014</td><td>7</td></tr><tr><td>2592</td><td>KyleEdwards</td><td>2014-07-20</td><td>San Marcos</td><td>TX</td><td>COMPLETE</td><td>2014</td><td>7</td></tr><tr><td>7450</td><td>MaryRobertson</td><td>2014-07-20</td><td>Pharr</td><td>TX</td><td>COMPLETE</td><td>2014</td><td>7</td></tr><tr><td>8279</td><td>JoseCasey</td><td>2014-07-20</td><td>Fort Worth</td><td>TX</td><td>COMPLETE</td><td>2014</td><td>7</td></tr><tr><td>1675</td><td>MaryMoore</td><td>2014-07-20</td><td>Sugar Land</td><td>TX</td><td>COMPLETE</td><td>2014</td><td>7</td></tr><tr><td>3982</td><td>RogerOliver</td><td>2014-07-20</td><td>Dallas</td><td>TX</td><td>COMPLETE</td><td>2014</td><td>7</td></tr><tr><td>8261</td><td>MarySmith</td><td>2014-07-19</td><td>Dallas</td><td>TX</td><td>COMPLETE</td><td>2014</td><td>7</td></tr><tr><td>1209</td><td>MaryWebb</td><td>2014-07-19</td><td>San Marcos</td><td>TX</td><td>COMPLETE</td><td>2014</td><td>7</td></tr><tr><td>3322</td><td>JoyceSmith</td><td>2014-07-19</td><td>Del Rio</td><td>TX</td><td>COMPLETE</td><td>2014</td><td>7</td></tr><tr><td>5984</td><td>JanetNorton</td><td>2014-07-18</td><td>Dallas</td><td>TX</td><td>COMPLETE</td><td>2014</td><td>7</td></tr><tr><td>5324</td><td>MaryPatterson</td><td>2014-07-17</td><td>Houston</td><td>TX</td><td>COMPLETE</td><td>2014</td><td>7</td></tr><tr><td>7605</td><td>HenryRoman</td><td>2014-07-17</td><td>San Marcos</td><td>TX</td><td>COMPLETE</td><td>2014</td><td>7</td></tr><tr><td>7063</td><td>MarySmith</td><td>2014-07-17</td><td>Brownsville</td><td>TX</td><td>COMPLETE</td><td>2014</td><td>7</td></tr><tr><td>11554</td><td>HannahMarshall</td><td>2014-07-16</td><td>San Benito</td><td>TX</td><td>COMPLETE</td><td>2014</td><td>7</td></tr><tr><td>5754</td><td>CarolSmith</td><td>2014-07-16</td><td>San Antonio</td><td>TX</td><td>COMPLETE</td><td>2014</td><td>7</td></tr><tr><td>8192</td><td>KathrynMarshall</td><td>2014-07-16</td><td>Houston</td><td>TX</td><td>COMPLETE</td><td>2014</td><td>7</td></tr><tr><td>6168</td><td>ArthurLi</td><td>2014-07-15</td><td>Pharr</td><td>TX</td><td>COMPLETE</td><td>2014</td><td>7</td></tr><tr><td>10029</td><td>MarySilva</td><td>2014-07-15</td><td>Carrollton</td><td>TX</td><td>COMPLETE</td><td>2014</td><td>7</td></tr><tr><td>300</td><td>MaryKey</td><td>2014-07-15</td><td>Plano</td><td>TX</td><td>COMPLETE</td><td>2014</td><td>7</td></tr><tr><td>9692</td><td>CarolynPrice</td><td>2014-07-13</td><td>Laredo</td><td>TX</td><td>COMPLETE</td><td>2014</td><td>7</td></tr><tr><td>6180</td><td>MarySmith</td><td>2014-07-13</td><td>North Richland Hills</td><td>TX</td><td>COMPLETE</td><td>2014</td><td>7</td></tr><tr><td>12169</td><td>MaryKrueger</td><td>2014-07-13</td><td>Mesquite</td><td>TX</td><td>COMPLETE</td><td>2014</td><td>7</td></tr><tr><td>3234</td><td>JacobSmith</td><td>2014-07-13</td><td>El Paso</td><td>TX</td><td>COMPLETE</td><td>2014</td><td>7</td></tr><tr><td>1675</td><td>MaryMoore</td><td>2014-07-13</td><td>Sugar Land</td><td>TX</td><td>COMPLETE</td><td>2014</td><td>7</td></tr><tr><td>8765</td><td>GarySmith</td><td>2014-07-10</td><td>College Station</td><td>TX</td><td>COMPLETE</td><td>2014</td><td>7</td></tr><tr><td>4840</td><td>MaryMarshall</td><td>2014-07-10</td><td>Irving</td><td>TX</td><td>COMPLETE</td><td>2014</td><td>7</td></tr><tr><td>1702</td><td>MarySmith</td><td>2014-07-09</td><td>Austin</td><td>TX</td><td>COMPLETE</td><td>2014</td><td>7</td></tr><tr><td>632</td><td>GeorgeSmith</td><td>2014-07-09</td><td>Grand Prairie</td><td>TX</td><td>COMPLETE</td><td>2014</td><td>7</td></tr><tr><td>2015</td><td>MarySmith</td><td>2014-07-09</td><td>San Antonio</td><td>TX</td><td>COMPLETE</td><td>2014</td><td>7</td></tr><tr><td>3234</td><td>JacobSmith</td><td>2014-07-08</td><td>El Paso</td><td>TX</td><td>COMPLETE</td><td>2014</td><td>7</td></tr><tr><td>10116</td><td>AshleySmith</td><td>2014-07-08</td><td>El Paso</td><td>TX</td><td>COMPLETE</td><td>2014</td><td>7</td></tr><tr><td>8003</td><td>DianeZimmerman</td><td>2014-07-08</td><td>El Paso</td><td>TX</td><td>COMPLETE</td><td>2014</td><td>7</td></tr><tr><td>8279</td><td>JoseCasey</td><td>2014-07-08</td><td>Fort Worth</td><td>TX</td><td>COMPLETE</td><td>2014</td><td>7</td></tr><tr><td>1076</td><td>TylerThompson</td><td>2014-07-08</td><td>Fort Worth</td><td>TX</td><td>COMPLETE</td><td>2014</td><td>7</td></tr><tr><td>6907</td><td>TimothySmith</td><td>2014-07-08</td><td>El Paso</td><td>TX</td><td>COMPLETE</td><td>2014</td><td>7</td></tr><tr><td>996</td><td>AmandaSmith</td><td>2014-07-08</td><td>Austin</td><td>TX</td><td>COMPLETE</td><td>2014</td><td>7</td></tr><tr><td>8084</td><td>MarySmith</td><td>2014-07-07</td><td>Houston</td><td>TX</td><td>COMPLETE</td><td>2014</td><td>7</td></tr><tr><td>9276</td><td>MarySmith</td><td>2014-07-05</td><td>Dallas</td><td>TX</td><td>COMPLETE</td><td>2014</td><td>7</td></tr><tr><td>2346</td><td>MaryBishop</td><td>2014-07-04</td><td>Mesquite</td><td>TX</td><td>COMPLETE</td><td>2014</td><td>7</td></tr><tr><td>1561</td><td>HaroldJohnson</td><td>2014-07-04</td><td>Lewisville</td><td>TX</td><td>COMPLETE</td><td>2014</td><td>7</td></tr><tr><td>2351</td><td>MaryFuller</td><td>2014-07-04</td><td>Houston</td><td>TX</td><td>COMPLETE</td><td>2014</td><td>7</td></tr><tr><td>5658</td><td>MichaelWiley</td><td>2014-07-03</td><td>Harlingen</td><td>TX</td><td>COMPLETE</td><td>2014</td><td>7</td></tr><tr><td>10301</td><td>JeremySmith</td><td>2014-07-03</td><td>Edinburg</td><td>TX</td><td>COMPLETE</td><td>2014</td><td>7</td></tr><tr><td>5869</td><td>MarySmith</td><td>2014-07-03</td><td>Plano</td><td>TX</td><td>COMPLETE</td><td>2014</td><td>7</td></tr><tr><td>3631</td><td>MarySmith</td><td>2014-07-02</td><td>Laredo</td><td>TX</td><td>COMPLETE</td><td>2014</td><td>7</td></tr><tr><td>10326</td><td>JoshuaSmith</td><td>2014-07-02</td><td>Grand Prairie</td><td>TX</td><td>COMPLETE</td><td>2014</td><td>7</td></tr><tr><td>4798</td><td>MarySmith</td><td>2014-07-02</td><td>Plano</td><td>TX</td><td>COMPLETE</td><td>2014</td><td>7</td></tr><tr><td>6700</td><td>VirginiaWalker</td><td>2014-07-01</td><td>Eagle Pass</td><td>TX</td><td>COMPLETE</td><td>2014</td><td>7</td></tr><tr><td>10943</td><td>MaryChapman</td><td>2014-06-30</td><td>Plano</td><td>TX</td><td>COMPLETE</td><td>2014</td><td>6</td></tr><tr><td>1303</td><td>MaryContreras</td><td>2014-06-29</td><td>Dallas</td><td>TX</td><td>COMPLETE</td><td>2014</td><td>6</td></tr><tr><td>10135</td><td>EdwardSmith</td><td>2014-06-28</td><td>Dallas</td><td>TX</td><td>COMPLETE</td><td>2014</td><td>6</td></tr><tr><td>2337</td><td>MarySmith</td><td>2014-06-28</td><td>El Paso</td><td>TX</td><td>COMPLETE</td><td>2014</td><td>6</td></tr><tr><td>7902</td><td>MarySmith</td><td>2014-06-28</td><td>El Paso</td><td>TX</td><td>COMPLETE</td><td>2014</td><td>6</td></tr><tr><td>9997</td><td>JohnFuentes</td><td>2014-06-27</td><td>Irving</td><td>TX</td><td>COMPLETE</td><td>2014</td><td>6</td></tr><tr><td>7442</td><td>BrendaEvans</td><td>2014-06-27</td><td>Denton</td><td>TX</td><td>COMPLETE</td><td>2014</td><td>6</td></tr><tr><td>11315</td><td>KimberlyCampos</td><td>2014-06-27</td><td>College Station</td><td>TX</td><td>COMPLETE</td><td>2014</td><td>6</td></tr><tr><td>5829</td><td>MarySmith</td><td>2014-06-27</td><td>Houston</td><td>TX</td><td>COMPLETE</td><td>2014</td><td>6</td></tr><tr><td>10082</td><td>AnnaSmith</td><td>2014-06-27</td><td>Brownsville</td><td>TX</td><td>COMPLETE</td><td>2014</td><td>6</td></tr><tr><td>10033</td><td>MaryGutierrez</td><td>2014-06-26</td><td>San Marcos</td><td>TX</td><td>COMPLETE</td><td>2014</td><td>6</td></tr><tr><td>7928</td><td>MadisonSmith</td><td>2014-06-26</td><td>Irving</td><td>TX</td><td>COMPLETE</td><td>2014</td><td>6</td></tr><tr><td>1028</td><td>VirginiaSanders</td><td>2014-06-25</td><td>Austin</td><td>TX</td><td>COMPLETE</td><td>2014</td><td>6</td></tr><tr><td>151</td><td>LisaShaw</td><td>2014-06-22</td><td>Richmond</td><td>TX</td><td>COMPLETE</td><td>2014</td><td>6</td></tr><tr><td>6926</td><td>AshleyPowell</td><td>2014-06-22</td><td>Harlingen</td><td>TX</td><td>COMPLETE</td><td>2014</td><td>6</td></tr><tr><td>2420</td><td>MarySmith</td><td>2014-06-20</td><td>Weslaco</td><td>TX</td><td>COMPLETE</td><td>2014</td><td>6</td></tr><tr><td>4464</td><td>MaryJohnson</td><td>2014-06-20</td><td>Amarillo</td><td>TX</td><td>COMPLETE</td><td>2014</td><td>6</td></tr><tr><td>576</td><td>ArthurFisher</td><td>2014-06-20</td><td>Houston</td><td>TX</td><td>COMPLETE</td><td>2014</td><td>6</td></tr><tr><td>11632</td><td>MarySmith</td><td>2014-06-19</td><td>San Antonio</td><td>TX</td><td>COMPLETE</td><td>2014</td><td>6</td></tr><tr><td>10135</td><td>EdwardSmith</td><td>2014-06-19</td><td>Dallas</td><td>TX</td><td>COMPLETE</td><td>2014</td><td>6</td></tr><tr><td>10618</td><td>MaryOrtega</td><td>2014-06-19</td><td>Dallas</td><td>TX</td><td>COMPLETE</td><td>2014</td><td>6</td></tr><tr><td>3864</td><td>DavidSmith</td><td>2014-06-19</td><td>Laredo</td><td>TX</td><td>COMPLETE</td><td>2014</td><td>6</td></tr><tr><td>2308</td><td>MaryMorgan</td><td>2014-06-19</td><td>Austin</td><td>TX</td><td>COMPLETE</td><td>2014</td><td>6</td></tr><tr><td>480</td><td>MarySmith</td><td>2014-06-18</td><td>Austin</td><td>TX</td><td>COMPLETE</td><td>2014</td><td>6</td></tr><tr><td>7738</td><td>MarySmith</td><td>2014-06-18</td><td>Pharr</td><td>TX</td><td>COMPLETE</td><td>2014</td><td>6</td></tr><tr><td>189</td><td>AngelaPeterson</td><td>2014-06-18</td><td>San Marcos</td><td>TX</td><td>COMPLETE</td><td>2014</td><td>6</td></tr><tr><td>7836</td><td>MaryHerman</td><td>2014-06-17</td><td>College Station</td><td>TX</td><td>COMPLETE</td><td>2014</td><td>6</td></tr><tr><td>9609</td><td>MaryLucero</td><td>2014-06-17</td><td>Houston</td><td>TX</td><td>COMPLETE</td><td>2014</td><td>6</td></tr><tr><td>8192</td><td>KathrynMarshall</td><td>2014-06-16</td><td>Houston</td><td>TX</td><td>COMPLETE</td><td>2014</td><td>6</td></tr><tr><td>5168</td><td>MarySmith</td><td>2014-06-16</td><td>Fort Worth</td><td>TX</td><td>COMPLETE</td><td>2014</td><td>6</td></tr><tr><td>3406</td><td>MarySmith</td><td>2014-06-14</td><td>El Paso</td><td>TX</td><td>COMPLETE</td><td>2014</td><td>6</td></tr><tr><td>11457</td><td>JonathanSmith</td><td>2014-06-14</td><td>San Benito</td><td>TX</td><td>COMPLETE</td><td>2014</td><td>6</td></tr><tr><td>11708</td><td>LauraSmith</td><td>2014-06-14</td><td>Plano</td><td>TX</td><td>COMPLETE</td><td>2014</td><td>6</td></tr><tr><td>1733</td><td>MargaretSmith</td><td>2014-06-14</td><td>Pharr</td><td>TX</td><td>COMPLETE</td><td>2014</td><td>6</td></tr><tr><td>4159</td><td>MaryCastillo</td><td>2014-06-14</td><td>Laredo</td><td>TX</td><td>COMPLETE</td><td>2014</td><td>6</td></tr><tr><td>9609</td><td>MaryLucero</td><td>2014-06-13</td><td>Houston</td><td>TX</td><td>COMPLETE</td><td>2014</td><td>6</td></tr><tr><td>10108</td><td>JoseSmith</td><td>2014-06-12</td><td>El Paso</td><td>TX</td><td>COMPLETE</td><td>2014</td><td>6</td></tr><tr><td>4711</td><td>RyanSmith</td><td>2014-06-12</td><td>Pharr</td><td>TX</td><td>COMPLETE</td><td>2014</td><td>6</td></tr><tr><td>3571</td><td>LauraSmith</td><td>2014-06-12</td><td>Harlingen</td><td>TX</td><td>COMPLETE</td><td>2014</td><td>6</td></tr><tr><td>9303</td><td>MaryBentley</td><td>2014-06-12</td><td>Dallas</td><td>TX</td><td>COMPLETE</td><td>2014</td><td>6</td></tr><tr><td>8321</td><td>KennethSmith</td><td>2014-06-12</td><td>Sugar Land</td><td>TX</td><td>COMPLETE</td><td>2014</td><td>6</td></tr><tr><td>8235</td><td>BruceHorton</td><td>2014-06-12</td><td>Sugar Land</td><td>TX</td><td>COMPLETE</td><td>2014</td><td>6</td></tr><tr><td>9271</td><td>ChristopherSmith</td><td>2014-06-11</td><td>Fort Worth</td><td>TX</td><td>COMPLETE</td><td>2014</td><td>6</td></tr><tr><td>11475</td><td>MaryGarner</td><td>2014-06-11</td><td>Houston</td><td>TX</td><td>COMPLETE</td><td>2014</td><td>6</td></tr><tr><td>2010</td><td>MarySmith</td><td>2014-06-11</td><td>San Antonio</td><td>TX</td><td>COMPLETE</td><td>2014</td><td>6</td></tr><tr><td>252</td><td>MaryFrazier</td><td>2014-06-11</td><td>Richardson</td><td>TX</td><td>COMPLETE</td><td>2014</td><td>6</td></tr><tr><td>7637</td><td>DouglasWashington</td><td>2014-06-10</td><td>Mesquite</td><td>TX</td><td>COMPLETE</td><td>2014</td><td>6</td></tr><tr><td>1076</td><td>TylerThompson</td><td>2014-06-09</td><td>Fort Worth</td><td>TX</td><td>COMPLETE</td><td>2014</td><td>6</td></tr><tr><td>8835</td><td>MarySmith</td><td>2014-06-08</td><td>Richmond</td><td>TX</td><td>COMPLETE</td><td>2014</td><td>6</td></tr><tr><td>3430</td><td>AliceRusso</td><td>2014-06-08</td><td>Houston</td><td>TX</td><td>COMPLETE</td><td>2014</td><td>6</td></tr><tr><td>6658</td><td>MarySmith</td><td>2014-06-07</td><td>Plano</td><td>TX</td><td>COMPLETE</td><td>2014</td><td>6</td></tr><tr><td>5168</td><td>MarySmith</td><td>2014-06-07</td><td>Fort Worth</td><td>TX</td><td>COMPLETE</td><td>2014</td><td>6</td></tr><tr><td>7577</td><td>MaryBauer</td><td>2014-06-06</td><td>North Richland Hills</td><td>TX</td><td>COMPLETE</td><td>2014</td><td>6</td></tr><tr><td>9666</td><td>MaryCollins</td><td>2014-06-06</td><td>College Station</td><td>TX</td><td>COMPLETE</td><td>2014</td><td>6</td></tr><tr><td>11387</td><td>LarrySmith</td><td>2014-06-04</td><td>San Antonio</td><td>TX</td><td>COMPLETE</td><td>2014</td><td>6</td></tr><tr><td>5017</td><td>JoyceSmith</td><td>2014-06-03</td><td>Dallas</td><td>TX</td><td>COMPLETE</td><td>2014</td><td>6</td></tr><tr><td>4613</td><td>AshleyGordon</td><td>2014-06-02</td><td>Richmond</td><td>TX</td><td>COMPLETE</td><td>2014</td><td>6</td></tr><tr><td>7814</td><td>NicolePowers</td><td>2014-06-02</td><td>Dallas</td><td>TX</td><td>COMPLETE</td><td>2014</td><td>6</td></tr><tr><td>1590</td><td>MarySmith</td><td>2014-06-02</td><td>Katy</td><td>TX</td><td>COMPLETE</td><td>2014</td><td>6</td></tr><tr><td>4508</td><td>EmmaCalderon</td><td>2014-06-02</td><td>Austin</td><td>TX</td><td>COMPLETE</td><td>2014</td><td>6</td></tr><tr><td>3109</td><td>JackJames</td><td>2014-06-02</td><td>Fort Worth</td><td>TX</td><td>COMPLETE</td><td>2014</td><td>6</td></tr><tr><td>6500</td><td>JoyceLeblanc</td><td>2014-06-02</td><td>Mesquite</td><td>TX</td><td>COMPLETE</td><td>2014</td><td>6</td></tr><tr><td>8579</td><td>MaryConrad</td><td>2014-06-02</td><td>Fort Worth</td><td>TX</td><td>COMPLETE</td><td>2014</td><td>6</td></tr><tr><td>4014</td><td>MarySmith</td><td>2014-06-01</td><td>Dallas</td><td>TX</td><td>COMPLETE</td><td>2014</td><td>6</td></tr><tr><td>5307</td><td>NicholasHerman</td><td>2014-06-01</td><td>New Braunfels</td><td>TX</td><td>COMPLETE</td><td>2014</td><td>6</td></tr><tr><td>4159</td><td>MaryCastillo</td><td>2014-06-01</td><td>Laredo</td><td>TX</td><td>COMPLETE</td><td>2014</td><td>6</td></tr><tr><td>6168</td><td>ArthurLi</td><td>2014-06-01</td><td>Pharr</td><td>TX</td><td>COMPLETE</td><td>2014</td><td>6</td></tr><tr><td>2970</td><td>KennethSmith</td><td>2014-05-31</td><td>Brownsville</td><td>TX</td><td>COMPLETE</td><td>2014</td><td>5</td></tr><tr><td>3153</td><td>MarySmith</td><td>2014-05-31</td><td>Grand Prairie</td><td>TX</td><td>COMPLETE</td><td>2014</td><td>5</td></tr><tr><td>10029</td><td>MarySilva</td><td>2014-05-31</td><td>Carrollton</td><td>TX</td><td>COMPLETE</td><td>2014</td><td>5</td></tr><tr><td>7316</td><td>MarilynWu</td><td>2014-05-30</td><td>Baytown</td><td>TX</td><td>COMPLETE</td><td>2014</td><td>5</td></tr><tr><td>7244</td><td>JeremyWashington</td><td>2014-05-30</td><td>College Station</td><td>TX</td><td>COMPLETE</td><td>2014</td><td>5</td></tr><tr><td>4170</td><td>DebraSmith</td><td>2014-05-29</td><td>Amarillo</td><td>TX</td><td>COMPLETE</td><td>2014</td><td>5</td></tr><tr><td>1870</td><td>TiffanyGreer</td><td>2014-05-29</td><td>Amarillo</td><td>TX</td><td>COMPLETE</td><td>2014</td><td>5</td></tr><tr><td>12323</td><td>StevenSmith</td><td>2014-05-28</td><td>San Antonio</td><td>TX</td><td>COMPLETE</td><td>2014</td><td>5</td></tr><tr><td>340</td><td>TheresaWiggins</td><td>2014-05-28</td><td>Denton</td><td>TX</td><td>COMPLETE</td><td>2014</td><td>5</td></tr><tr><td>86</td><td>JohnSmith</td><td>2014-05-28</td><td>Fort Worth</td><td>TX</td><td>COMPLETE</td><td>2014</td><td>5</td></tr><tr><td>10776</td><td>AmyCompton</td><td>2014-05-28</td><td>Fort Worth</td><td>TX</td><td>COMPLETE</td><td>2014</td><td>5</td></tr><tr><td>8038</td><td>DonaldSmith</td><td>2014-05-28</td><td>Denton</td><td>TX</td><td>COMPLETE</td><td>2014</td><td>5</td></tr><tr><td>2497</td><td>WayneHardy</td><td>2014-05-27</td><td>Mesquite</td><td>TX</td><td>COMPLETE</td><td>2014</td><td>5</td></tr><tr><td>2321</td><td>MaryPatel</td><td>2014-05-26</td><td>Houston</td><td>TX</td><td>COMPLETE</td><td>2014</td><td>5</td></tr><tr><td>2292</td><td>AshleySmith</td><td>2014-05-26</td><td>San Benito</td><td>TX</td><td>COMPLETE</td><td>2014</td><td>5</td></tr><tr><td>5369</td><td>MaryShort</td><td>2014-05-26</td><td>North Richland Hills</td><td>TX</td><td>COMPLETE</td><td>2014</td><td>5</td></tr><tr><td>9263</td><td>JoeSmith</td><td>2014-05-26</td><td>Dallas</td><td>TX</td><td>COMPLETE</td><td>2014</td><td>5</td></tr><tr><td>6342</td><td>KimberlyBlair</td><td>2014-05-26</td><td>El Paso</td><td>TX</td><td>COMPLETE</td><td>2014</td><td>5</td></tr><tr><td>5259</td><td>DennisSmith</td><td>2014-05-25</td><td>Houston</td><td>TX</td><td>COMPLETE</td><td>2014</td><td>5</td></tr><tr><td>3153</td><td>MarySmith</td><td>2014-05-25</td><td>Grand Prairie</td><td>TX</td><td>COMPLETE</td><td>2014</td><td>5</td></tr><tr><td>4014</td><td>MarySmith</td><td>2014-05-25</td><td>Dallas</td><td>TX</td><td>COMPLETE</td><td>2014</td><td>5</td></tr><tr><td>2247</td><td>AliceWerner</td><td>2014-05-24</td><td>Laredo</td><td>TX</td><td>COMPLETE</td><td>2014</td><td>5</td></tr><tr><td>6948</td><td>MarySmith</td><td>2014-05-24</td><td>Round Rock</td><td>TX</td><td>COMPLETE</td><td>2014</td><td>5</td></tr><tr><td>2641</td><td>BettySpears</td><td>2014-05-24</td><td>Carrollton</td><td>TX</td><td>COMPLETE</td><td>2014</td><td>5</td></tr><tr><td>1836</td><td>HowardLee</td><td>2014-05-24</td><td>Dallas</td><td>TX</td><td>COMPLETE</td><td>2014</td><td>5</td></tr><tr><td>82</td><td>JonathanCook</td><td>2014-05-24</td><td>San Antonio</td><td>TX</td><td>COMPLETE</td><td>2014</td><td>5</td></tr><tr><td>5384</td><td>ChristopherSmith</td><td>2014-05-24</td><td>Houston</td><td>TX</td><td>COMPLETE</td><td>2014</td><td>5</td></tr><tr><td>10051</td><td>KathrynSmith</td><td>2014-05-23</td><td>Weslaco</td><td>TX</td><td>COMPLETE</td><td>2014</td><td>5</td></tr><tr><td>8391</td><td>RobertSmith</td><td>2014-05-23</td><td>Amarillo</td><td>TX</td><td>COMPLETE</td><td>2014</td><td>5</td></tr><tr><td>4531</td><td>GaryShaffer</td><td>2014-05-22</td><td>Laredo</td><td>TX</td><td>COMPLETE</td><td>2014</td><td>5</td></tr><tr><td>1716</td><td>SandraSmith</td><td>2014-05-22</td><td>Houston</td><td>TX</td><td>COMPLETE</td><td>2014</td><td>5</td></tr><tr><td>10256</td><td>MaryLittle</td><td>2014-05-21</td><td>Dallas</td><td>TX</td><td>COMPLETE</td><td>2014</td><td>5</td></tr><tr><td>11450</td><td>DonaldNelson</td><td>2014-05-21</td><td>Laredo</td><td>TX</td><td>COMPLETE</td><td>2014</td><td>5</td></tr><tr><td>126</td><td>AustinSmith</td><td>2014-05-20</td><td>Amarillo</td><td>TX</td><td>COMPLETE</td><td>2014</td><td>5</td></tr><tr><td>11554</td><td>HannahMarshall</td><td>2014-05-20</td><td>San Benito</td><td>TX</td><td>COMPLETE</td><td>2014</td><td>5</td></tr><tr><td>3982</td><td>RogerOliver</td><td>2014-05-20</td><td>Dallas</td><td>TX</td><td>COMPLETE</td><td>2014</td><td>5</td></tr><tr><td>10448</td><td>NancyGilbert</td><td>2014-05-20</td><td>Dallas</td><td>TX</td><td>COMPLETE</td><td>2014</td><td>5</td></tr><tr><td>4288</td><td>MaryAvery</td><td>2014-05-19</td><td>Carrollton</td><td>TX</td><td>COMPLETE</td><td>2014</td><td>5</td></tr><tr><td>10503</td><td>JaniceSmith</td><td>2014-05-19</td><td>Dallas</td><td>TX</td><td>COMPLETE</td><td>2014</td><td>5</td></tr><tr><td>940</td><td>StevenSmith</td><td>2014-05-18</td><td>El Paso</td><td>TX</td><td>COMPLETE</td><td>2014</td><td>5</td></tr><tr><td>12063</td><td>LarryHenderson</td><td>2014-05-18</td><td>Fort Worth</td><td>TX</td><td>COMPLETE</td><td>2014</td><td>5</td></tr><tr><td>2315</td><td>PaulShelton</td><td>2014-05-18</td><td>Weslaco</td><td>TX</td><td>COMPLETE</td><td>2014</td><td>5</td></tr><tr><td>2364</td><td>ThomasWhitney</td><td>2014-05-18</td><td>Katy</td><td>TX</td><td>COMPLETE</td><td>2014</td><td>5</td></tr><tr><td>9018</td><td>MarySmith</td><td>2014-05-17</td><td>Dallas</td><td>TX</td><td>COMPLETE</td><td>2014</td><td>5</td></tr><tr><td>6988</td><td>WayneBryant</td><td>2014-05-17</td><td>Denton</td><td>TX</td><td>COMPLETE</td><td>2014</td><td>5</td></tr><tr><td>7606</td><td>MaryKhan</td><td>2014-05-17</td><td>San Antonio</td><td>TX</td><td>COMPLETE</td><td>2014</td><td>5</td></tr><tr><td>9908</td><td>BenjaminSmith</td><td>2014-05-16</td><td>Baytown</td><td>TX</td><td>COMPLETE</td><td>2014</td><td>5</td></tr><tr><td>7623</td><td>MatthewSmith</td><td>2014-05-16</td><td>San Antonio</td><td>TX</td><td>COMPLETE</td><td>2014</td><td>5</td></tr><tr><td>4954</td><td>MarySmith</td><td>2014-05-16</td><td>Houston</td><td>TX</td><td>COMPLETE</td><td>2014</td><td>5</td></tr><tr><td>8238</td><td>JesseSmith</td><td>2014-05-16</td><td>Mesquite</td><td>TX</td><td>COMPLETE</td><td>2014</td><td>5</td></tr><tr><td>9626</td><td>DorothyFrye</td><td>2014-05-16</td><td>El Paso</td><td>TX</td><td>COMPLETE</td><td>2014</td><td>5</td></tr><tr><td>8001</td><td>MarySmith</td><td>2014-05-16</td><td>Houston</td><td>TX</td><td>COMPLETE</td><td>2014</td><td>5</td></tr><tr><td>7645</td><td>BrandonStephens</td><td>2014-05-16</td><td>Laredo</td><td>TX</td><td>COMPLETE</td><td>2014</td><td>5</td></tr><tr><td>1006</td><td>MaryLittle</td><td>2014-05-16</td><td>Laredo</td><td>TX</td><td>COMPLETE</td><td>2014</td><td>5</td></tr><tr><td>7606</td><td>MaryKhan</td><td>2014-05-15</td><td>San Antonio</td><td>TX</td><td>COMPLETE</td><td>2014</td><td>5</td></tr><tr><td>6090</td><td>MarySmith</td><td>2014-05-14</td><td>Houston</td><td>TX</td><td>COMPLETE</td><td>2014</td><td>5</td></tr><tr><td>9609</td><td>MaryLucero</td><td>2014-05-14</td><td>Houston</td><td>TX</td><td>COMPLETE</td><td>2014</td><td>5</td></tr><tr><td>7537</td><td>StephenLee</td><td>2014-05-14</td><td>San Antonio</td><td>TX</td><td>COMPLETE</td><td>2014</td><td>5</td></tr><tr><td>1985</td><td>LisaHudson</td><td>2014-05-13</td><td>San Antonio</td><td>TX</td><td>COMPLETE</td><td>2014</td><td>5</td></tr><tr><td>7606</td><td>MaryKhan</td><td>2014-05-12</td><td>San Antonio</td><td>TX</td><td>COMPLETE</td><td>2014</td><td>5</td></tr><tr><td>8582</td><td>EdwardSmith</td><td>2014-05-11</td><td>Houston</td><td>TX</td><td>COMPLETE</td><td>2014</td><td>5</td></tr><tr><td>7602</td><td>BrianMitchell</td><td>2014-05-11</td><td>Harlingen</td><td>TX</td><td>COMPLETE</td><td>2014</td><td>5</td></tr><tr><td>12169</td><td>MaryKrueger</td><td>2014-05-11</td><td>Mesquite</td><td>TX</td><td>COMPLETE</td><td>2014</td><td>5</td></tr><tr><td>6513</td><td>MarySmith</td><td>2014-05-11</td><td>Sugar Land</td><td>TX</td><td>COMPLETE</td><td>2014</td><td>5</td></tr><tr><td>4698</td><td>MaryCollier</td><td>2014-05-10</td><td>College Station</td><td>TX</td><td>COMPLETE</td><td>2014</td><td>5</td></tr><tr><td>11324</td><td>MarthaBurnett</td><td>2014-05-10</td><td>Dallas</td><td>TX</td><td>COMPLETE</td><td>2014</td><td>5</td></tr><tr><td>1343</td><td>JuliaSmith</td><td>2014-05-10</td><td>Del Rio</td><td>TX</td><td>COMPLETE</td><td>2014</td><td>5</td></tr><tr><td>7606</td><td>MaryKhan</td><td>2014-05-10</td><td>San Antonio</td><td>TX</td><td>COMPLETE</td><td>2014</td><td>5</td></tr><tr><td>7523</td><td>MargaretVilla</td><td>2014-05-09</td><td>San Antonio</td><td>TX</td><td>COMPLETE</td><td>2014</td><td>5</td></tr><tr><td>4963</td><td>MarySmith</td><td>2014-05-09</td><td>Brownsville</td><td>TX</td><td>COMPLETE</td><td>2014</td><td>5</td></tr><tr><td>7013</td><td>AmberSmith</td><td>2014-05-09</td><td>Amarillo</td><td>TX</td><td>COMPLETE</td><td>2014</td><td>5</td></tr><tr><td>11437</td><td>JasonDalton</td><td>2014-05-09</td><td>Dallas</td><td>TX</td><td>COMPLETE</td><td>2014</td><td>5</td></tr><tr><td>5987</td><td>MarySmith</td><td>2014-05-09</td><td>Houston</td><td>TX</td><td>COMPLETE</td><td>2014</td><td>5</td></tr><tr><td>11618</td><td>TammySmith</td><td>2014-05-09</td><td>Houston</td><td>TX</td><td>COMPLETE</td><td>2014</td><td>5</td></tr><tr><td>1258</td><td>MaryDyer</td><td>2014-05-08</td><td>Houston</td><td>TX</td><td>COMPLETE</td><td>2014</td><td>5</td></tr><tr><td>9692</td><td>CarolynPrice</td><td>2014-05-07</td><td>Laredo</td><td>TX</td><td>COMPLETE</td><td>2014</td><td>5</td></tr><tr><td>5303</td><td>DianaShepherd</td><td>2014-05-06</td><td>Carrollton</td><td>TX</td><td>COMPLETE</td><td>2014</td><td>5</td></tr><tr><td>2430</td><td>MichelleSmith</td><td>2014-05-06</td><td>Dallas</td><td>TX</td><td>COMPLETE</td><td>2014</td><td>5</td></tr><tr><td>12302</td><td>DonaldSampson</td><td>2014-05-06</td><td>Austin</td><td>TX</td><td>COMPLETE</td><td>2014</td><td>5</td></tr><tr><td>4945</td><td>MaryMeza</td><td>2014-05-06</td><td>Brownsville</td><td>TX</td><td>COMPLETE</td><td>2014</td><td>5</td></tr><tr><td>996</td><td>AmandaSmith</td><td>2014-05-06</td><td>Austin</td><td>TX</td><td>COMPLETE</td><td>2014</td><td>5</td></tr><tr><td>3404</td><td>BillyThompson</td><td>2014-05-05</td><td>College Station</td><td>TX</td><td>COMPLETE</td><td>2014</td><td>5</td></tr><tr><td>4413</td><td>JamesSmith</td><td>2014-05-05</td><td>Sugar Land</td><td>TX</td><td>COMPLETE</td><td>2014</td><td>5</td></tr><tr><td>7244</td><td>JeremyWashington</td><td>2014-05-05</td><td>College Station</td><td>TX</td><td>COMPLETE</td><td>2014</td><td>5</td></tr><tr><td>5829</td><td>MarySmith</td><td>2014-05-03</td><td>Houston</td><td>TX</td><td>COMPLETE</td><td>2014</td><td>5</td></tr><tr><td>7714</td><td>CarolynSmith</td><td>2014-05-03</td><td>Houston</td><td>TX</td><td>COMPLETE</td><td>2014</td><td>5</td></tr><tr><td>3430</td><td>AliceRusso</td><td>2014-05-03</td><td>Houston</td><td>TX</td><td>COMPLETE</td><td>2014</td><td>5</td></tr><tr><td>1756</td><td>JasonDixon</td><td>2014-05-03</td><td>Dallas</td><td>TX</td><td>COMPLETE</td><td>2014</td><td>5</td></tr><tr><td>7738</td><td>MarySmith</td><td>2014-05-02</td><td>Pharr</td><td>TX</td><td>COMPLETE</td><td>2014</td><td>5</td></tr><tr><td>7621</td><td>JackSmith</td><td>2014-05-02</td><td>College Station</td><td>TX</td><td>COMPLETE</td><td>2014</td><td>5</td></tr><tr><td>1168</td><td>ElizabethMccann</td><td>2014-05-02</td><td>Edinburg</td><td>TX</td><td>COMPLETE</td><td>2014</td><td>5</td></tr><tr><td>7905</td><td>CynthiaGarcia</td><td>2014-05-02</td><td>Brownsville</td><td>TX</td><td>COMPLETE</td><td>2014</td><td>5</td></tr><tr><td>5902</td><td>MaryJones</td><td>2014-05-02</td><td>Mission</td><td>TX</td><td>COMPLETE</td><td>2014</td><td>5</td></tr><tr><td>4500</td><td>JesseFields</td><td>2014-05-01</td><td>Edinburg</td><td>TX</td><td>COMPLETE</td><td>2014</td><td>5</td></tr><tr><td>5395</td><td>MaryBell</td><td>2014-05-01</td><td>San Antonio</td><td>TX</td><td>COMPLETE</td><td>2014</td><td>5</td></tr><tr><td>2532</td><td>CharlesSmith</td><td>2014-05-01</td><td>Carrollton</td><td>TX</td><td>COMPLETE</td><td>2014</td><td>5</td></tr><tr><td>1716</td><td>SandraSmith</td><td>2014-04-30</td><td>Houston</td><td>TX</td><td>COMPLETE</td><td>2014</td><td>4</td></tr><tr><td>8534</td><td>MaryRose</td><td>2014-04-29</td><td>San Antonio</td><td>TX</td><td>COMPLETE</td><td>2014</td><td>4</td></tr><tr><td>5749</td><td>MarySmith</td><td>2014-04-29</td><td>Houston</td><td>TX</td><td>COMPLETE</td><td>2014</td><td>4</td></tr><tr><td>7917</td><td>AshleyPalmer</td><td>2014-04-29</td><td>Dallas</td><td>TX</td><td>COMPLETE</td><td>2014</td><td>4</td></tr><tr><td>6342</td><td>KimberlyBlair</td><td>2014-04-29</td><td>El Paso</td><td>TX</td><td>COMPLETE</td><td>2014</td><td>4</td></tr><tr><td>766</td><td>MarySmith</td><td>2014-04-28</td><td>Austin</td><td>TX</td><td>COMPLETE</td><td>2014</td><td>4</td></tr><tr><td>2321</td><td>MaryPatel</td><td>2014-04-28</td><td>Houston</td><td>TX</td><td>COMPLETE</td><td>2014</td><td>4</td></tr><tr><td>1659</td><td>MarySmith</td><td>2014-04-28</td><td>Weslaco</td><td>TX</td><td>COMPLETE</td><td>2014</td><td>4</td></tr><tr><td>12103</td><td>MarySmith</td><td>2014-04-28</td><td>San Benito</td><td>TX</td><td>COMPLETE</td><td>2014</td><td>4</td></tr><tr><td>10641</td><td>MaryHodges</td><td>2014-04-26</td><td>Irving</td><td>TX</td><td>COMPLETE</td><td>2014</td><td>4</td></tr><tr><td>8221</td><td>JanetSampson</td><td>2014-04-26</td><td>New Braunfels</td><td>TX</td><td>COMPLETE</td><td>2014</td><td>4</td></tr><tr><td>6143</td><td>DeborahBarber</td><td>2014-04-26</td><td>Irving</td><td>TX</td><td>COMPLETE</td><td>2014</td><td>4</td></tr><tr><td>8975</td><td>NancyMata</td><td>2014-04-26</td><td>Fort Worth</td><td>TX</td><td>COMPLETE</td><td>2014</td><td>4</td></tr><tr><td>2247</td><td>AliceWerner</td><td>2014-04-25</td><td>Laredo</td><td>TX</td><td>COMPLETE</td><td>2014</td><td>4</td></tr><tr><td>8382</td><td>JoshuaMullins</td><td>2014-04-25</td><td>Fort Worth</td><td>TX</td><td>COMPLETE</td><td>2014</td><td>4</td></tr><tr><td>5324</td><td>MaryPatterson</td><td>2014-04-25</td><td>Houston</td><td>TX</td><td>COMPLETE</td><td>2014</td><td>4</td></tr><tr><td>5902</td><td>MaryJones</td><td>2014-04-25</td><td>Mission</td><td>TX</td><td>COMPLETE</td><td>2014</td><td>4</td></tr><tr><td>4563</td><td>MelissaPowell</td><td>2014-04-25</td><td>Dallas</td><td>TX</td><td>COMPLETE</td><td>2014</td><td>4</td></tr><tr><td>7212</td><td>MaryHoward</td><td>2014-04-25</td><td>Fort Worth</td><td>TX</td><td>COMPLETE</td><td>2014</td><td>4</td></tr><tr><td>2882</td><td>MaryDecker</td><td>2014-04-24</td><td>Amarillo</td><td>TX</td><td>COMPLETE</td><td>2014</td><td>4</td></tr><tr><td>7333</td><td>JuliaSmith</td><td>2014-04-24</td><td>Richardson</td><td>TX</td><td>COMPLETE</td><td>2014</td><td>4</td></tr><tr><td>11428</td><td>RaymondSantana</td><td>2014-04-23</td><td>Fort Worth</td><td>TX</td><td>COMPLETE</td><td>2014</td><td>4</td></tr><tr><td>854</td><td>DanielSmith</td><td>2014-04-23</td><td>Del Rio</td><td>TX</td><td>COMPLETE</td><td>2014</td><td>4</td></tr><tr><td>8811</td><td>ChristineRodriguez</td><td>2014-04-23</td><td>Houston</td><td>TX</td><td>COMPLETE</td><td>2014</td><td>4</td></tr><tr><td>3911</td><td>MargaretMelton</td><td>2014-04-23</td><td>El Paso</td><td>TX</td><td>COMPLETE</td><td>2014</td><td>4</td></tr><tr><td>4945</td><td>MaryMeza</td><td>2014-04-23</td><td>Brownsville</td><td>TX</td><td>COMPLETE</td><td>2014</td><td>4</td></tr><tr><td>6907</td><td>TimothySmith</td><td>2014-04-23</td><td>El Paso</td><td>TX</td><td>COMPLETE</td><td>2014</td><td>4</td></tr><tr><td>9849</td><td>MarySmith</td><td>2014-04-22</td><td>Dallas</td><td>TX</td><td>COMPLETE</td><td>2014</td><td>4</td></tr><tr><td>420</td><td>JoseWright</td><td>2014-04-22</td><td>Round Rock</td><td>TX</td><td>COMPLETE</td><td>2014</td><td>4</td></tr><tr><td>9532</td><td>AnnSmith</td><td>2014-04-22</td><td>Amarillo</td><td>TX</td><td>COMPLETE</td><td>2014</td><td>4</td></tr><tr><td>11632</td><td>MarySmith</td><td>2014-04-22</td><td>San Antonio</td><td>TX</td><td>COMPLETE</td><td>2014</td><td>4</td></tr><tr><td>808</td><td>MarySmith</td><td>2014-04-22</td><td>San Benito</td><td>TX</td><td>COMPLETE</td><td>2014</td><td>4</td></tr><tr><td>1731</td><td>MichelleBennett</td><td>2014-04-22</td><td>Spring</td><td>TX</td><td>COMPLETE</td><td>2014</td><td>4</td></tr><tr><td>2532</td><td>CharlesSmith</td><td>2014-04-22</td><td>Carrollton</td><td>TX</td><td>COMPLETE</td><td>2014</td><td>4</td></tr><tr><td>9585</td><td>FrancesSmith</td><td>2014-04-21</td><td>Sugar Land</td><td>TX</td><td>COMPLETE</td><td>2014</td><td>4</td></tr><tr><td>9761</td><td>HelenSmith</td><td>2014-04-21</td><td>Brownsville</td><td>TX</td><td>COMPLETE</td><td>2014</td><td>4</td></tr><tr><td>6168</td><td>ArthurLi</td><td>2014-04-21</td><td>Pharr</td><td>TX</td><td>COMPLETE</td><td>2014</td><td>4</td></tr><tr><td>2805</td><td>WillieSmith</td><td>2014-04-21</td><td>Houston</td><td>TX</td><td>COMPLETE</td><td>2014</td><td>4</td></tr><tr><td>9666</td><td>MaryCollins</td><td>2014-04-21</td><td>College Station</td><td>TX</td><td>COMPLETE</td><td>2014</td><td>4</td></tr><tr><td>9763</td><td>MaryDean</td><td>2014-04-21</td><td>Irving</td><td>TX</td><td>COMPLETE</td><td>2014</td><td>4</td></tr><tr><td>8534</td><td>MaryRose</td><td>2014-04-20</td><td>San Antonio</td><td>TX</td><td>COMPLETE</td><td>2014</td><td>4</td></tr><tr><td>1848</td><td>MaryBrown</td><td>2014-04-19</td><td>Dallas</td><td>TX</td><td>COMPLETE</td><td>2014</td><td>4</td></tr><tr><td>11565</td><td>RosePena</td><td>2014-04-18</td><td>Harlingen</td><td>TX</td><td>COMPLETE</td><td>2014</td><td>4</td></tr><tr><td>7947</td><td>MaryAndrews</td><td>2014-04-18</td><td>Richardson</td><td>TX</td><td>COMPLETE</td><td>2014</td><td>4</td></tr><tr><td>7645</td><td>BrandonStephens</td><td>2014-04-18</td><td>Laredo</td><td>TX</td><td>COMPLETE</td><td>2014</td><td>4</td></tr><tr><td>7431</td><td>MaryFry</td><td>2014-04-18</td><td>Houston</td><td>TX</td><td>COMPLETE</td><td>2014</td><td>4</td></tr><tr><td>12146</td><td>MaryMitchell</td><td>2014-04-18</td><td>Houston</td><td>TX</td><td>COMPLETE</td><td>2014</td><td>4</td></tr><tr><td>1119</td><td>BryanRamos</td><td>2014-04-17</td><td>North Richland Hills</td><td>TX</td><td>COMPLETE</td><td>2014</td><td>4</td></tr><tr><td>2195</td><td>WalterSmith</td><td>2014-04-17</td><td>Dallas</td><td>TX</td><td>COMPLETE</td><td>2014</td><td>4</td></tr><tr><td>7928</td><td>MadisonSmith</td><td>2014-04-16</td><td>Irving</td><td>TX</td><td>COMPLETE</td><td>2014</td><td>4</td></tr><tr><td>1806</td><td>RogerSmith</td><td>2014-04-16</td><td>El Paso</td><td>TX</td><td>COMPLETE</td><td>2014</td><td>4</td></tr><tr><td>2564</td><td>PhillipSmith</td><td>2014-04-15</td><td>Amarillo</td><td>TX</td><td>COMPLETE</td><td>2014</td><td>4</td></tr><tr><td>4694</td><td>MaryRivera</td><td>2014-04-15</td><td>Del Rio</td><td>TX</td><td>COMPLETE</td><td>2014</td><td>4</td></tr><tr><td>1076</td><td>TylerThompson</td><td>2014-04-14</td><td>Fort Worth</td><td>TX</td><td>COMPLETE</td><td>2014</td><td>4</td></tr><tr><td>3850</td><td>ChristinaNelson</td><td>2014-04-14</td><td>El Paso</td><td>TX</td><td>COMPLETE</td><td>2014</td><td>4</td></tr><tr><td>6075</td><td>MarySmith</td><td>2014-04-14</td><td>Austin</td><td>TX</td><td>COMPLETE</td><td>2014</td><td>4</td></tr><tr><td>12302</td><td>DonaldSampson</td><td>2014-04-14</td><td>Austin</td><td>TX</td><td>COMPLETE</td><td>2014</td><td>4</td></tr><tr><td>6387</td><td>JohnJacobs</td><td>2014-04-13</td><td>San Benito</td><td>TX</td><td>COMPLETE</td><td>2014</td><td>4</td></tr><tr><td>9681</td><td>MarySweeney</td><td>2014-04-13</td><td>Dallas</td><td>TX</td><td>COMPLETE</td><td>2014</td><td>4</td></tr><tr><td>4054</td><td>MarySmith</td><td>2014-04-12</td><td>Austin</td><td>TX</td><td>COMPLETE</td><td>2014</td><td>4</td></tr><tr><td>8141</td><td>RoySmith</td><td>2014-04-12</td><td>Houston</td><td>TX</td><td>COMPLETE</td><td>2014</td><td>4</td></tr><tr><td>248</td><td>ChristinaWalsh</td><td>2014-04-12</td><td>Houston</td><td>TX</td><td>COMPLETE</td><td>2014</td><td>4</td></tr><tr><td>1303</td><td>MaryContreras</td><td>2014-04-12</td><td>Dallas</td><td>TX</td><td>COMPLETE</td><td>2014</td><td>4</td></tr><tr><td>7105</td><td>AngelaSmith</td><td>2014-04-11</td><td>El Paso</td><td>TX</td><td>COMPLETE</td><td>2014</td><td>4</td></tr><tr><td>10082</td><td>AnnaSmith</td><td>2014-04-10</td><td>Brownsville</td><td>TX</td><td>COMPLETE</td><td>2014</td><td>4</td></tr><tr><td>12302</td><td>DonaldSampson</td><td>2014-04-10</td><td>Austin</td><td>TX</td><td>COMPLETE</td><td>2014</td><td>4</td></tr><tr><td>11632</td><td>MarySmith</td><td>2014-04-10</td><td>San Antonio</td><td>TX</td><td>COMPLETE</td><td>2014</td><td>4</td></tr><tr><td>11953</td><td>WillieGalvan</td><td>2014-04-10</td><td>Mission</td><td>TX</td><td>COMPLETE</td><td>2014</td><td>4</td></tr><tr><td>7638</td><td>MarySmith</td><td>2014-04-10</td><td>El Paso</td><td>TX</td><td>COMPLETE</td><td>2014</td><td>4</td></tr><tr><td>3850</td><td>ChristinaNelson</td><td>2014-04-10</td><td>El Paso</td><td>TX</td><td>COMPLETE</td><td>2014</td><td>4</td></tr><tr><td>386</td><td>JanetWallace</td><td>2014-04-09</td><td>Richmond</td><td>TX</td><td>COMPLETE</td><td>2014</td><td>4</td></tr><tr><td>8238</td><td>JesseSmith</td><td>2014-04-09</td><td>Mesquite</td><td>TX</td><td>COMPLETE</td><td>2014</td><td>4</td></tr><tr><td>5984</td><td>JanetNorton</td><td>2014-04-09</td><td>Dallas</td><td>TX</td><td>COMPLETE</td><td>2014</td><td>4</td></tr><tr><td>2351</td><td>MaryFuller</td><td>2014-04-08</td><td>Houston</td><td>TX</td><td>COMPLETE</td><td>2014</td><td>4</td></tr><tr><td>11148</td><td>LisaKeith</td><td>2014-04-08</td><td>San Antonio</td><td>TX</td><td>COMPLETE</td><td>2014</td><td>4</td></tr><tr><td>8074</td><td>MaryHarris</td><td>2014-04-08</td><td>College Station</td><td>TX</td><td>COMPLETE</td><td>2014</td><td>4</td></tr><tr><td>1932</td><td>ShirleyPerez</td><td>2014-04-07</td><td>Irving</td><td>TX</td><td>COMPLETE</td><td>2014</td><td>4</td></tr><tr><td>979</td><td>MarySmith</td><td>2014-04-06</td><td>Austin</td><td>TX</td><td>COMPLETE</td><td>2014</td><td>4</td></tr><tr><td>9367</td><td>RyanSmith</td><td>2014-04-06</td><td>San Benito</td><td>TX</td><td>COMPLETE</td><td>2014</td><td>4</td></tr><tr><td>2348</td><td>MaryWelch</td><td>2014-04-05</td><td>El Paso</td><td>TX</td><td>COMPLETE</td><td>2014</td><td>4</td></tr><tr><td>7602</td><td>BrianMitchell</td><td>2014-04-05</td><td>Harlingen</td><td>TX</td><td>COMPLETE</td><td>2014</td><td>4</td></tr><tr><td>7623</td><td>MatthewSmith</td><td>2014-04-05</td><td>San Antonio</td><td>TX</td><td>COMPLETE</td><td>2014</td><td>4</td></tr><tr><td>8417</td><td>MarySmith</td><td>2014-04-04</td><td>Houston</td><td>TX</td><td>COMPLETE</td><td>2014</td><td>4</td></tr><tr><td>6058</td><td>LaurenSmith</td><td>2014-04-03</td><td>San Antonio</td><td>TX</td><td>COMPLETE</td><td>2014</td><td>4</td></tr><tr><td>10405</td><td>MaryDurham</td><td>2014-04-03</td><td>Houston</td><td>TX</td><td>COMPLETE</td><td>2014</td><td>4</td></tr><tr><td>4014</td><td>MarySmith</td><td>2014-04-02</td><td>Dallas</td><td>TX</td><td>COMPLETE</td><td>2014</td><td>4</td></tr><tr><td>5778</td><td>EvelynSmith</td><td>2014-04-02</td><td>Eagle Pass</td><td>TX</td><td>COMPLETE</td><td>2014</td><td>4</td></tr><tr><td>86</td><td>JohnSmith</td><td>2014-04-02</td><td>Fort Worth</td><td>TX</td><td>COMPLETE</td><td>2014</td><td>4</td></tr><tr><td>1716</td><td>SandraSmith</td><td>2014-04-01</td><td>Houston</td><td>TX</td><td>COMPLETE</td><td>2014</td><td>4</td></tr><tr><td>2489</td><td>AmandaSmith</td><td>2014-04-01</td><td>San Antonio</td><td>TX</td><td>COMPLETE</td><td>2014</td><td>4</td></tr><tr><td>11457</td><td>JonathanSmith</td><td>2014-04-01</td><td>San Benito</td><td>TX</td><td>COMPLETE</td><td>2014</td><td>4</td></tr><tr><td>2154</td><td>MaryAndrews</td><td>2014-04-01</td><td>Laredo</td><td>TX</td><td>COMPLETE</td><td>2014</td><td>4</td></tr><tr><td>1716</td><td>SandraSmith</td><td>2014-03-31</td><td>Houston</td><td>TX</td><td>COMPLETE</td><td>2014</td><td>3</td></tr><tr><td>9658</td><td>MaryJimenez</td><td>2014-03-31</td><td>Houston</td><td>TX</td><td>COMPLETE</td><td>2014</td><td>3</td></tr><tr><td>252</td><td>MaryFrazier</td><td>2014-03-31</td><td>Richardson</td><td>TX</td><td>COMPLETE</td><td>2014</td><td>3</td></tr><tr><td>6561</td><td>JaneDay</td><td>2014-03-31</td><td>San Benito</td><td>TX</td><td>COMPLETE</td><td>2014</td><td>3</td></tr><tr><td>2970</td><td>KennethSmith</td><td>2014-03-31</td><td>Brownsville</td><td>TX</td><td>COMPLETE</td><td>2014</td><td>3</td></tr><tr><td>91</td><td>AshleySmith</td><td>2014-03-30</td><td>Spring</td><td>TX</td><td>COMPLETE</td><td>2014</td><td>3</td></tr><tr><td>7551</td><td>RobertRichardson</td><td>2014-03-30</td><td>El Paso</td><td>TX</td><td>COMPLETE</td><td>2014</td><td>3</td></tr><tr><td>7666</td><td>CynthiaSmith</td><td>2014-03-30</td><td>Pharr</td><td>TX</td><td>COMPLETE</td><td>2014</td><td>3</td></tr><tr><td>9127</td><td>MaryNolan</td><td>2014-03-30</td><td>Dallas</td><td>TX</td><td>COMPLETE</td><td>2014</td><td>3</td></tr><tr><td>1046</td><td>MarySmith</td><td>2014-03-30</td><td>San Antonio</td><td>TX</td><td>COMPLETE</td><td>2014</td><td>3</td></tr><tr><td>9798</td><td>BrittanyFrench</td><td>2014-03-30</td><td>Houston</td><td>TX</td><td>COMPLETE</td><td>2014</td><td>3</td></tr><tr><td>954</td><td>BrandonFitzgerald</td><td>2014-03-30</td><td>Richmond</td><td>TX</td><td>COMPLETE</td><td>2014</td><td>3</td></tr><tr><td>8003</td><td>DianeZimmerman</td><td>2014-03-29</td><td>El Paso</td><td>TX</td><td>COMPLETE</td><td>2014</td><td>3</td></tr><tr><td>6963</td><td>MarySmith</td><td>2014-03-29</td><td>Harlingen</td><td>TX</td><td>COMPLETE</td><td>2014</td><td>3</td></tr><tr><td>3489</td><td>LarryWaller</td><td>2014-03-29</td><td>Austin</td><td>TX</td><td>COMPLETE</td><td>2014</td><td>3</td></tr><tr><td>2130</td><td>MarySmith</td><td>2014-03-29</td><td>Austin</td><td>TX</td><td>COMPLETE</td><td>2014</td><td>3</td></tr><tr><td>8835</td><td>MarySmith</td><td>2014-03-29</td><td>Richmond</td><td>TX</td><td>COMPLETE</td><td>2014</td><td>3</td></tr><tr><td>2353</td><td>MarySmith</td><td>2014-03-27</td><td>Dallas</td><td>TX</td><td>COMPLETE</td><td>2014</td><td>3</td></tr><tr><td>3037</td><td>ChristopherSmith</td><td>2014-03-27</td><td>Houston</td><td>TX</td><td>COMPLETE</td><td>2014</td><td>3</td></tr><tr><td>11033</td><td>MatthewFields</td><td>2014-03-27</td><td>Laredo</td><td>TX</td><td>COMPLETE</td><td>2014</td><td>3</td></tr><tr><td>7414</td><td>DorothySmith</td><td>2014-03-27</td><td>Laredo</td><td>TX</td><td>COMPLETE</td><td>2014</td><td>3</td></tr><tr><td>4619</td><td>MaryNelson</td><td>2014-03-27</td><td>Richmond</td><td>TX</td><td>COMPLETE</td><td>2014</td><td>3</td></tr><tr><td>8221</td><td>JanetSampson</td><td>2014-03-27</td><td>New Braunfels</td><td>TX</td><td>COMPLETE</td><td>2014</td><td>3</td></tr><tr><td>4195</td><td>KatherineLawrence</td><td>2014-03-27</td><td>Dallas</td><td>TX</td><td>COMPLETE</td><td>2014</td><td>3</td></tr><tr><td>82</td><td>JonathanCook</td><td>2014-03-26</td><td>San Antonio</td><td>TX</td><td>COMPLETE</td><td>2014</td><td>3</td></tr><tr><td>3153</td><td>MarySmith</td><td>2014-03-26</td><td>Grand Prairie</td><td>TX</td><td>COMPLETE</td><td>2014</td><td>3</td></tr><tr><td>3149</td><td>EdwardDennis</td><td>2014-03-26</td><td>Dallas</td><td>TX</td><td>COMPLETE</td><td>2014</td><td>3</td></tr><tr><td>126</td><td>AustinSmith</td><td>2014-03-25</td><td>Amarillo</td><td>TX</td><td>COMPLETE</td><td>2014</td><td>3</td></tr><tr><td>1702</td><td>MarySmith</td><td>2014-03-24</td><td>Austin</td><td>TX</td><td>COMPLETE</td><td>2014</td><td>3</td></tr><tr><td>9622</td><td>RoySmith</td><td>2014-03-24</td><td>Mission</td><td>TX</td><td>COMPLETE</td><td>2014</td><td>3</td></tr><tr><td>11315</td><td>KimberlyCampos</td><td>2014-03-23</td><td>College Station</td><td>TX</td><td>COMPLETE</td><td>2014</td><td>3</td></tr><tr><td>8003</td><td>DianeZimmerman</td><td>2014-03-23</td><td>El Paso</td><td>TX</td><td>COMPLETE</td><td>2014</td><td>3</td></tr><tr><td>3651</td><td>MarySanders</td><td>2014-03-23</td><td>San Antonio</td><td>TX</td><td>COMPLETE</td><td>2014</td><td>3</td></tr><tr><td>6926</td><td>AshleyPowell</td><td>2014-03-22</td><td>Harlingen</td><td>TX</td><td>COMPLETE</td><td>2014</td><td>3</td></tr><tr><td>11708</td><td>LauraSmith</td><td>2014-03-22</td><td>Plano</td><td>TX</td><td>COMPLETE</td><td>2014</td><td>3</td></tr><tr><td>5369</td><td>MaryShort</td><td>2014-03-22</td><td>North Richland Hills</td><td>TX</td><td>COMPLETE</td><td>2014</td><td>3</td></tr><tr><td>3181</td><td>MaryHopkins</td><td>2014-03-22</td><td>Del Rio</td><td>TX</td><td>COMPLETE</td><td>2014</td><td>3</td></tr><tr><td>8321</td><td>KennethSmith</td><td>2014-03-21</td><td>Sugar Land</td><td>TX</td><td>COMPLETE</td><td>2014</td><td>3</td></tr><tr><td>7738</td><td>MarySmith</td><td>2014-03-20</td><td>Pharr</td><td>TX</td><td>COMPLETE</td><td>2014</td><td>3</td></tr><tr><td>12146</td><td>MaryMitchell</td><td>2014-03-20</td><td>Houston</td><td>TX</td><td>COMPLETE</td><td>2014</td><td>3</td></tr><tr><td>3322</td><td>JoyceSmith</td><td>2014-03-19</td><td>Del Rio</td><td>TX</td><td>COMPLETE</td><td>2014</td><td>3</td></tr><tr><td>9502</td><td>MatthewLove</td><td>2014-03-19</td><td>El Paso</td><td>TX</td><td>COMPLETE</td><td>2014</td><td>3</td></tr><tr><td>10943</td><td>MaryChapman</td><td>2014-03-18</td><td>Plano</td><td>TX</td><td>COMPLETE</td><td>2014</td><td>3</td></tr><tr><td>10256</td><td>MaryLittle</td><td>2014-03-18</td><td>Dallas</td><td>TX</td><td>COMPLETE</td><td>2014</td><td>3</td></tr><tr><td>10100</td><td>SeanNavarro</td><td>2014-03-18</td><td>Sugar Land</td><td>TX</td><td>COMPLETE</td><td>2014</td><td>3</td></tr><tr><td>1929</td><td>KathrynSmith</td><td>2014-03-17</td><td>San Antonio</td><td>TX</td><td>COMPLETE</td><td>2014</td><td>3</td></tr><tr><td>626</td><td>MaryWeeks</td><td>2014-03-16</td><td>Dallas</td><td>TX</td><td>COMPLETE</td><td>2014</td><td>3</td></tr><tr><td>2925</td><td>MaryBaird</td><td>2014-03-16</td><td>Houston</td><td>TX</td><td>COMPLETE</td><td>2014</td><td>3</td></tr><tr><td>2547</td><td>WalterFuller</td><td>2014-03-16</td><td>North Richland Hills</td><td>TX</td><td>COMPLETE</td><td>2014</td><td>3</td></tr><tr><td>2064</td><td>DavidGarrison</td><td>2014-03-16</td><td>Dallas</td><td>TX</td><td>COMPLETE</td><td>2014</td><td>3</td></tr><tr><td>9502</td><td>MatthewLove</td><td>2014-03-15</td><td>El Paso</td><td>TX</td><td>COMPLETE</td><td>2014</td><td>3</td></tr><tr><td>6513</td><td>MarySmith</td><td>2014-03-15</td><td>Sugar Land</td><td>TX</td><td>COMPLETE</td><td>2014</td><td>3</td></tr><tr><td>2688</td><td>MaryRoss</td><td>2014-03-14</td><td>Irving</td><td>TX</td><td>COMPLETE</td><td>2014</td><td>3</td></tr><tr><td>10212</td><td>MaryWright</td><td>2014-03-12</td><td>Irving</td><td>TX</td><td>COMPLETE</td><td>2014</td><td>3</td></tr><tr><td>12427</td><td>MarySmith</td><td>2014-03-12</td><td>Plano</td><td>TX</td><td>COMPLETE</td><td>2014</td><td>3</td></tr><tr><td>396</td><td>DeborahSmith</td><td>2014-03-11</td><td>Richmond</td><td>TX</td><td>COMPLETE</td><td>2014</td><td>3</td></tr><tr><td>2641</td><td>BettySpears</td><td>2014-03-11</td><td>Carrollton</td><td>TX</td><td>COMPLETE</td><td>2014</td><td>3</td></tr><tr><td>1249</td><td>DonaldOdom</td><td>2014-03-11</td><td>San Antonio</td><td>TX</td><td>COMPLETE</td><td>2014</td><td>3</td></tr><tr><td>10245</td><td>MaryMclaughlin</td><td>2014-03-11</td><td>Dallas</td><td>TX</td><td>COMPLETE</td><td>2014</td><td>3</td></tr><tr><td>2315</td><td>PaulShelton</td><td>2014-03-11</td><td>Weslaco</td><td>TX</td><td>COMPLETE</td><td>2014</td><td>3</td></tr><tr><td>358</td><td>MeganLynch</td><td>2014-03-10</td><td>San Antonio</td><td>TX</td><td>COMPLETE</td><td>2014</td><td>3</td></tr><tr><td>3153</td><td>MarySmith</td><td>2014-03-10</td><td>Grand Prairie</td><td>TX</td><td>COMPLETE</td><td>2014</td><td>3</td></tr><tr><td>12063</td><td>LarryHenderson</td><td>2014-03-10</td><td>Fort Worth</td><td>TX</td><td>COMPLETE</td><td>2014</td><td>3</td></tr><tr><td>12040</td><td>ThomasMoore</td><td>2014-03-10</td><td>Harlingen</td><td>TX</td><td>COMPLETE</td><td>2014</td><td>3</td></tr><tr><td>1165</td><td>EdwardSmith</td><td>2014-03-10</td><td>Houston</td><td>TX</td><td>COMPLETE</td><td>2014</td><td>3</td></tr><tr><td>9622</td><td>RoySmith</td><td>2014-03-10</td><td>Mission</td><td>TX</td><td>COMPLETE</td><td>2014</td><td>3</td></tr><tr><td>353</td><td>MarySmith</td><td>2014-03-10</td><td>San Antonio</td><td>TX</td><td>COMPLETE</td><td>2014</td><td>3</td></tr><tr><td>892</td><td>LauraSmith</td><td>2014-03-10</td><td>Mesquite</td><td>TX</td><td>COMPLETE</td><td>2014</td><td>3</td></tr><tr><td>5373</td><td>PatriciaSerrano</td><td>2014-03-08</td><td>Houston</td><td>TX</td><td>COMPLETE</td><td>2014</td><td>3</td></tr><tr><td>1087</td><td>HeatherRomero</td><td>2014-03-07</td><td>Richardson</td><td>TX</td><td>COMPLETE</td><td>2014</td><td>3</td></tr><tr><td>9271</td><td>ChristopherSmith</td><td>2014-03-06</td><td>Fort Worth</td><td>TX</td><td>COMPLETE</td><td>2014</td><td>3</td></tr><tr><td>151</td><td>LisaShaw</td><td>2014-03-06</td><td>Richmond</td><td>TX</td><td>COMPLETE</td><td>2014</td><td>3</td></tr><tr><td>9432</td><td>HannahSmith</td><td>2014-03-05</td><td>Sugar Land</td><td>TX</td><td>COMPLETE</td><td>2014</td><td>3</td></tr><tr><td>11287</td><td>RichardRichmond</td><td>2014-03-05</td><td>Houston</td><td>TX</td><td>COMPLETE</td><td>2014</td><td>3</td></tr><tr><td>1590</td><td>MarySmith</td><td>2014-03-05</td><td>Katy</td><td>TX</td><td>COMPLETE</td><td>2014</td><td>3</td></tr><tr><td>9646</td><td>MaryRoberts</td><td>2014-03-05</td><td>Laredo</td><td>TX</td><td>COMPLETE</td><td>2014</td><td>3</td></tr><tr><td>3864</td><td>DavidSmith</td><td>2014-03-05</td><td>Laredo</td><td>TX</td><td>COMPLETE</td><td>2014</td><td>3</td></tr><tr><td>11078</td><td>DonnaHoover</td><td>2014-03-04</td><td>New Braunfels</td><td>TX</td><td>COMPLETE</td><td>2014</td><td>3</td></tr><tr><td>1583</td><td>SeanSmith</td><td>2014-03-04</td><td>Sugar Land</td><td>TX</td><td>COMPLETE</td><td>2014</td><td>3</td></tr><tr><td>9018</td><td>MarySmith</td><td>2014-03-04</td><td>Dallas</td><td>TX</td><td>COMPLETE</td><td>2014</td><td>3</td></tr><tr><td>10245</td><td>MaryMclaughlin</td><td>2014-03-03</td><td>Dallas</td><td>TX</td><td>COMPLETE</td><td>2014</td><td>3</td></tr><tr><td>5233</td><td>MarySandoval</td><td>2014-03-03</td><td>Houston</td><td>TX</td><td>COMPLETE</td><td>2014</td><td>3</td></tr><tr><td>6561</td><td>JaneDay</td><td>2014-03-03</td><td>San Benito</td><td>TX</td><td>COMPLETE</td><td>2014</td><td>3</td></tr><tr><td>6075</td><td>MarySmith</td><td>2014-03-03</td><td>Austin</td><td>TX</td><td>COMPLETE</td><td>2014</td><td>3</td></tr><tr><td>6988</td><td>WayneBryant</td><td>2014-03-03</td><td>Denton</td><td>TX</td><td>COMPLETE</td><td>2014</td><td>3</td></tr><tr><td>4170</td><td>DebraSmith</td><td>2014-03-01</td><td>Amarillo</td><td>TX</td><td>COMPLETE</td><td>2014</td><td>3</td></tr><tr><td>1498</td><td>PeterBray</td><td>2014-03-01</td><td>Houston</td><td>TX</td><td>COMPLETE</td><td>2014</td><td>3</td></tr><tr><td>11704</td><td>JohnSmith</td><td>2014-03-01</td><td>Katy</td><td>TX</td><td>COMPLETE</td><td>2014</td><td>3</td></tr><tr><td>9692</td><td>CarolynPrice</td><td>2014-03-01</td><td>Laredo</td><td>TX</td><td>COMPLETE</td><td>2014</td><td>3</td></tr><tr><td>10618</td><td>MaryOrtega</td><td>2014-02-28</td><td>Dallas</td><td>TX</td><td>COMPLETE</td><td>2014</td><td>2</td></tr><tr><td>7113</td><td>MaryShepherd</td><td>2014-02-28</td><td>North Richland Hills</td><td>TX</td><td>COMPLETE</td><td>2014</td><td>2</td></tr><tr><td>6578</td><td>RogerSmith</td><td>2014-02-28</td><td>Laredo</td><td>TX</td><td>COMPLETE</td><td>2014</td><td>2</td></tr><tr><td>11471</td><td>ChristopherSmith</td><td>2014-02-28</td><td>Round Rock</td><td>TX</td><td>COMPLETE</td><td>2014</td><td>2</td></tr><tr><td>4963</td><td>MarySmith</td><td>2014-02-27</td><td>Brownsville</td><td>TX</td><td>COMPLETE</td><td>2014</td><td>2</td></tr><tr><td>2547</td><td>WalterFuller</td><td>2014-02-27</td><td>North Richland Hills</td><td>TX</td><td>COMPLETE</td><td>2014</td><td>2</td></tr><tr><td>6901</td><td>MaryKaiser</td><td>2014-02-27</td><td>Garland</td><td>TX</td><td>COMPLETE</td><td>2014</td><td>2</td></tr><tr><td>9564</td><td>MaryGriffith</td><td>2014-02-26</td><td>Dallas</td><td>TX</td><td>COMPLETE</td><td>2014</td><td>2</td></tr><tr><td>4023</td><td>PhillipSmith</td><td>2014-02-26</td><td>Round Rock</td><td>TX</td><td>COMPLETE</td><td>2014</td><td>2</td></tr><tr><td>8038</td><td>DonaldSmith</td><td>2014-02-26</td><td>Denton</td><td>TX</td><td>COMPLETE</td><td>2014</td><td>2</td></tr><tr><td>7248</td><td>MarilynDiaz</td><td>2014-02-25</td><td>Houston</td><td>TX</td><td>COMPLETE</td><td>2014</td><td>2</td></tr><tr><td>7738</td><td>MarySmith</td><td>2014-02-25</td><td>Pharr</td><td>TX</td><td>COMPLETE</td><td>2014</td><td>2</td></tr><tr><td>7476</td><td>BenjaminCole</td><td>2014-02-25</td><td>Austin</td><td>TX</td><td>COMPLETE</td><td>2014</td><td>2</td></tr><tr><td>7316</td><td>MarilynWu</td><td>2014-02-25</td><td>Baytown</td><td>TX</td><td>COMPLETE</td><td>2014</td><td>2</td></tr><tr><td>8307</td><td>KimberlyIrwin</td><td>2014-02-24</td><td>Dallas</td><td>TX</td><td>COMPLETE</td><td>2014</td><td>2</td></tr><tr><td>6143</td><td>DeborahBarber</td><td>2014-02-23</td><td>Irving</td><td>TX</td><td>COMPLETE</td><td>2014</td><td>2</td></tr><tr><td>5749</td><td>MarySmith</td><td>2014-02-23</td><td>Houston</td><td>TX</td><td>COMPLETE</td><td>2014</td><td>2</td></tr><tr><td>7248</td><td>MarilynDiaz</td><td>2014-02-23</td><td>Houston</td><td>TX</td><td>COMPLETE</td><td>2014</td><td>2</td></tr><tr><td>5373</td><td>PatriciaSerrano</td><td>2014-02-22</td><td>Houston</td><td>TX</td><td>COMPLETE</td><td>2014</td><td>2</td></tr><tr><td>2360</td><td>DeniseSmith</td><td>2014-02-22</td><td>San Antonio</td><td>TX</td><td>COMPLETE</td><td>2014</td><td>2</td></tr><tr><td>8538</td><td>MaryNewman</td><td>2014-02-22</td><td>Laredo</td><td>TX</td><td>COMPLETE</td><td>2014</td><td>2</td></tr><tr><td>8116</td><td>MelissaSmith</td><td>2014-02-22</td><td>Dallas</td><td>TX</td><td>COMPLETE</td><td>2014</td><td>2</td></tr><tr><td>7212</td><td>MaryHoward</td><td>2014-02-21</td><td>Fort Worth</td><td>TX</td><td>COMPLETE</td><td>2014</td><td>2</td></tr><tr><td>4950</td><td>BrittanyHenry</td><td>2014-02-21</td><td>Amarillo</td><td>TX</td><td>COMPLETE</td><td>2014</td><td>2</td></tr><tr><td>10503</td><td>JaniceSmith</td><td>2014-02-21</td><td>Dallas</td><td>TX</td><td>COMPLETE</td><td>2014</td><td>2</td></tr><tr><td>7414</td><td>DorothySmith</td><td>2014-02-21</td><td>Laredo</td><td>TX</td><td>COMPLETE</td><td>2014</td><td>2</td></tr><tr><td>7836</td><td>MaryHerman</td><td>2014-02-21</td><td>College Station</td><td>TX</td><td>COMPLETE</td><td>2014</td><td>2</td></tr><tr><td>8615</td><td>MarySmith</td><td>2014-02-20</td><td>San Antonio</td><td>TX</td><td>COMPLETE</td><td>2014</td><td>2</td></tr><tr><td>12115</td><td>LawrenceSmith</td><td>2014-02-20</td><td>Mission</td><td>TX</td><td>COMPLETE</td><td>2014</td><td>2</td></tr><tr><td>7928</td><td>MadisonSmith</td><td>2014-02-20</td><td>Irving</td><td>TX</td><td>COMPLETE</td><td>2014</td><td>2</td></tr><tr><td>3386</td><td>JustinSmith</td><td>2014-02-19</td><td>Laredo</td><td>TX</td><td>COMPLETE</td><td>2014</td><td>2</td></tr><tr><td>5324</td><td>MaryPatterson</td><td>2014-02-19</td><td>Houston</td><td>TX</td><td>COMPLETE</td><td>2014</td><td>2</td></tr><tr><td>1702</td><td>MarySmith</td><td>2014-02-19</td><td>Austin</td><td>TX</td><td>COMPLETE</td><td>2014</td><td>2</td></tr><tr><td>8382</td><td>JoshuaMullins</td><td>2014-02-19</td><td>Fort Worth</td><td>TX</td><td>COMPLETE</td><td>2014</td><td>2</td></tr><tr><td>10942</td><td>DonaldSmith</td><td>2014-02-19</td><td>Brownsville</td><td>TX</td><td>COMPLETE</td><td>2014</td><td>2</td></tr><tr><td>3181</td><td>MaryHopkins</td><td>2014-02-19</td><td>Del Rio</td><td>TX</td><td>COMPLETE</td><td>2014</td><td>2</td></tr><tr><td>7892</td><td>MichaelHayes</td><td>2014-02-19</td><td>Dallas</td><td>TX</td><td>COMPLETE</td><td>2014</td><td>2</td></tr><tr><td>8162</td><td>PhillipSmith</td><td>2014-02-19</td><td>Fort Worth</td><td>TX</td><td>COMPLETE</td><td>2014</td><td>2</td></tr><tr><td>10152</td><td>WalterHughes</td><td>2014-02-18</td><td>Houston</td><td>TX</td><td>COMPLETE</td><td>2014</td><td>2</td></tr><tr><td>4810</td><td>MarySmith</td><td>2014-02-18</td><td>El Paso</td><td>TX</td><td>COMPLETE</td><td>2014</td><td>2</td></tr><tr><td>12427</td><td>MarySmith</td><td>2014-02-18</td><td>Plano</td><td>TX</td><td>COMPLETE</td><td>2014</td><td>2</td></tr><tr><td>10459</td><td>JasonSmith</td><td>2014-02-17</td><td>El Paso</td><td>TX</td><td>COMPLETE</td><td>2014</td><td>2</td></tr><tr><td>9271</td><td>ChristopherSmith</td><td>2014-02-17</td><td>Fort Worth</td><td>TX</td><td>COMPLETE</td><td>2014</td><td>2</td></tr><tr><td>2159</td><td>KimberlySweeney</td><td>2014-02-16</td><td>North Richland Hills</td><td>TX</td><td>COMPLETE</td><td>2014</td><td>2</td></tr><tr><td>6963</td><td>MarySmith</td><td>2014-02-15</td><td>Harlingen</td><td>TX</td><td>COMPLETE</td><td>2014</td><td>2</td></tr><tr><td>8688</td><td>MichelleRose</td><td>2014-02-15</td><td>Eagle Pass</td><td>TX</td><td>COMPLETE</td><td>2014</td><td>2</td></tr><tr><td>1782</td><td>RobertSmith</td><td>2014-02-15</td><td>Fort Worth</td><td>TX</td><td>COMPLETE</td><td>2014</td><td>2</td></tr><tr><td>2351</td><td>MaryFuller</td><td>2014-02-15</td><td>Houston</td><td>TX</td><td>COMPLETE</td><td>2014</td><td>2</td></tr><tr><td>8235</td><td>BruceHorton</td><td>2014-02-15</td><td>Sugar Land</td><td>TX</td><td>COMPLETE</td><td>2014</td><td>2</td></tr><tr><td>12020</td><td>DorothySmith</td><td>2014-02-15</td><td>Pharr</td><td>TX</td><td>COMPLETE</td><td>2014</td><td>2</td></tr><tr><td>10405</td><td>MaryDurham</td><td>2014-02-15</td><td>Houston</td><td>TX</td><td>COMPLETE</td><td>2014</td><td>2</td></tr><tr><td>940</td><td>StevenSmith</td><td>2014-02-14</td><td>El Paso</td><td>TX</td><td>COMPLETE</td><td>2014</td><td>2</td></tr><tr><td>5080</td><td>MarySmith</td><td>2014-02-14</td><td>Houston</td><td>TX</td><td>COMPLETE</td><td>2014</td><td>2</td></tr><tr><td>3631</td><td>MarySmith</td><td>2014-02-14</td><td>Laredo</td><td>TX</td><td>COMPLETE</td><td>2014</td><td>2</td></tr><tr><td>1119</td><td>BryanRamos</td><td>2014-02-13</td><td>North Richland Hills</td><td>TX</td><td>COMPLETE</td><td>2014</td><td>2</td></tr><tr><td>5460</td><td>LoriSmith</td><td>2014-02-13</td><td>Houston</td><td>TX</td><td>COMPLETE</td><td>2014</td><td>2</td></tr><tr><td>11953</td><td>WillieGalvan</td><td>2014-02-12</td><td>Mission</td><td>TX</td><td>COMPLETE</td><td>2014</td><td>2</td></tr><tr><td>6839</td><td>BobbyBean</td><td>2014-02-12</td><td>Austin</td><td>TX</td><td>COMPLETE</td><td>2014</td><td>2</td></tr><tr><td>8071</td><td>GaryBaker</td><td>2014-02-12</td><td>Plano</td><td>TX</td><td>COMPLETE</td><td>2014</td><td>2</td></tr><tr><td>2351</td><td>MaryFuller</td><td>2014-02-12</td><td>Houston</td><td>TX</td><td>COMPLETE</td><td>2014</td><td>2</td></tr><tr><td>3783</td><td>AlbertSmith</td><td>2014-02-11</td><td>El Paso</td><td>TX</td><td>COMPLETE</td><td>2014</td><td>2</td></tr><tr><td>3633</td><td>MaryBurch</td><td>2014-02-11</td><td>El Paso</td><td>TX</td><td>COMPLETE</td><td>2014</td><td>2</td></tr><tr><td>6058</td><td>LaurenSmith</td><td>2014-02-11</td><td>San Antonio</td><td>TX</td><td>COMPLETE</td><td>2014</td><td>2</td></tr><tr><td>8084</td><td>MarySmith</td><td>2014-02-10</td><td>Houston</td><td>TX</td><td>COMPLETE</td><td>2014</td><td>2</td></tr><tr><td>2966</td><td>ChristinaEwing</td><td>2014-02-10</td><td>Lewisville</td><td>TX</td><td>COMPLETE</td><td>2014</td><td>2</td></tr><tr><td>8377</td><td>JackChristian</td><td>2014-02-10</td><td>Irving</td><td>TX</td><td>COMPLETE</td><td>2014</td><td>2</td></tr><tr><td>10026</td><td>MaryWilson</td><td>2014-02-09</td><td>Mcallen</td><td>TX</td><td>COMPLETE</td><td>2014</td><td>2</td></tr><tr><td>12060</td><td>MaryRobinson</td><td>2014-02-09</td><td>San Antonio</td><td>TX</td><td>COMPLETE</td><td>2014</td><td>2</td></tr><tr><td>8088</td><td>MaryMorris</td><td>2014-02-08</td><td>San Marcos</td><td>TX</td><td>COMPLETE</td><td>2014</td><td>2</td></tr><tr><td>10460</td><td>MaryMorrison</td><td>2014-02-08</td><td>New Braunfels</td><td>TX</td><td>COMPLETE</td><td>2014</td><td>2</td></tr><tr><td>9681</td><td>MarySweeney</td><td>2014-02-08</td><td>Dallas</td><td>TX</td><td>COMPLETE</td><td>2014</td><td>2</td></tr><tr><td>3406</td><td>MarySmith</td><td>2014-02-08</td><td>El Paso</td><td>TX</td><td>COMPLETE</td><td>2014</td><td>2</td></tr><tr><td>626</td><td>MaryWeeks</td><td>2014-02-08</td><td>Dallas</td><td>TX</td><td>COMPLETE</td><td>2014</td><td>2</td></tr><tr><td>7537</td><td>StephenLee</td><td>2014-02-08</td><td>San Antonio</td><td>TX</td><td>COMPLETE</td><td>2014</td><td>2</td></tr><tr><td>11439</td><td>MatthewSmith</td><td>2014-02-08</td><td>El Paso</td><td>TX</td><td>COMPLETE</td><td>2014</td><td>2</td></tr><tr><td>1249</td><td>DonaldOdom</td><td>2014-02-07</td><td>San Antonio</td><td>TX</td><td>COMPLETE</td><td>2014</td><td>2</td></tr><tr><td>5729</td><td>LouisSmith</td><td>2014-02-06</td><td>Mission</td><td>TX</td><td>COMPLETE</td><td>2014</td><td>2</td></tr><tr><td>1278</td><td>MarySmith</td><td>2014-02-06</td><td>San Antonio</td><td>TX</td><td>COMPLETE</td><td>2014</td><td>2</td></tr><tr><td>7212</td><td>MaryHoward</td><td>2014-02-06</td><td>Fort Worth</td><td>TX</td><td>COMPLETE</td><td>2014</td><td>2</td></tr><tr><td>7421</td><td>MaryReyes</td><td>2014-02-05</td><td>Dallas</td><td>TX</td><td>COMPLETE</td><td>2014</td><td>2</td></tr><tr><td>2360</td><td>DeniseSmith</td><td>2014-02-03</td><td>San Antonio</td><td>TX</td><td>COMPLETE</td><td>2014</td><td>2</td></tr><tr><td>2064</td><td>DavidGarrison</td><td>2014-02-03</td><td>Dallas</td><td>TX</td><td>COMPLETE</td><td>2014</td><td>2</td></tr><tr><td>8848</td><td>MaryWatson</td><td>2014-02-02</td><td>Katy</td><td>TX</td><td>COMPLETE</td><td>2014</td><td>2</td></tr><tr><td>7418</td><td>ElizabethSmith</td><td>2014-02-02</td><td>El Paso</td><td>TX</td><td>COMPLETE</td><td>2014</td><td>2</td></tr><tr><td>7675</td><td>BrendaHiggins</td><td>2014-02-02</td><td>Laredo</td><td>TX</td><td>COMPLETE</td><td>2014</td><td>2</td></tr><tr><td>11988</td><td>JudySmith</td><td>2014-02-02</td><td>Round Rock</td><td>TX</td><td>COMPLETE</td><td>2014</td><td>2</td></tr><tr><td>11315</td><td>KimberlyCampos</td><td>2014-02-02</td><td>College Station</td><td>TX</td><td>COMPLETE</td><td>2014</td><td>2</td></tr><tr><td>5747</td><td>MaryMorrison</td><td>2014-02-01</td><td>San Benito</td><td>TX</td><td>COMPLETE</td><td>2014</td><td>2</td></tr><tr><td>8503</td><td>AmySmith</td><td>2014-01-31</td><td>Houston</td><td>TX</td><td>COMPLETE</td><td>2014</td><td>1</td></tr><tr><td>2497</td><td>WayneHardy</td><td>2014-01-31</td><td>Mesquite</td><td>TX</td><td>COMPLETE</td><td>2014</td><td>1</td></tr><tr><td>2010</td><td>MarySmith</td><td>2014-01-31</td><td>San Antonio</td><td>TX</td><td>COMPLETE</td><td>2014</td><td>1</td></tr><tr><td>1209</td><td>MaryWebb</td><td>2014-01-31</td><td>San Marcos</td><td>TX</td><td>COMPLETE</td><td>2014</td><td>1</td></tr><tr><td>5449</td><td>MarySmith</td><td>2014-01-31</td><td>Houston</td><td>TX</td><td>COMPLETE</td><td>2014</td><td>1</td></tr><tr><td>3786</td><td>MaryMoody</td><td>2014-01-30</td><td>Irving</td><td>TX</td><td>COMPLETE</td><td>2014</td><td>1</td></tr><tr><td>3850</td><td>ChristinaNelson</td><td>2014-01-30</td><td>El Paso</td><td>TX</td><td>COMPLETE</td><td>2014</td><td>1</td></tr><tr><td>1870</td><td>TiffanyGreer</td><td>2014-01-28</td><td>Amarillo</td><td>TX</td><td>COMPLETE</td><td>2014</td><td>1</td></tr><tr><td>7234</td><td>MaryBowers</td><td>2014-01-28</td><td>San Antonio</td><td>TX</td><td>COMPLETE</td><td>2014</td><td>1</td></tr><tr><td>9626</td><td>DorothyFrye</td><td>2014-01-27</td><td>El Paso</td><td>TX</td><td>COMPLETE</td><td>2014</td><td>1</td></tr><tr><td>10438</td><td>BarbaraJohnston</td><td>2014-01-27</td><td>North Richland Hills</td><td>TX</td><td>COMPLETE</td><td>2014</td><td>1</td></tr><tr><td>10889</td><td>SarahSmith</td><td>2014-01-27</td><td>Houston</td><td>TX</td><td>COMPLETE</td><td>2014</td><td>1</td></tr><tr><td>3911</td><td>MargaretMelton</td><td>2014-01-27</td><td>El Paso</td><td>TX</td><td>COMPLETE</td><td>2014</td><td>1</td></tr><tr><td>10301</td><td>JeremySmith</td><td>2014-01-26</td><td>Edinburg</td><td>TX</td><td>COMPLETE</td><td>2014</td><td>1</td></tr><tr><td>12103</td><td>MarySmith</td><td>2014-01-26</td><td>San Benito</td><td>TX</td><td>COMPLETE</td><td>2014</td><td>1</td></tr><tr><td>1702</td><td>MarySmith</td><td>2014-01-26</td><td>Austin</td><td>TX</td><td>COMPLETE</td><td>2014</td><td>1</td></tr><tr><td>5395</td><td>MaryBell</td><td>2014-01-25</td><td>San Antonio</td><td>TX</td><td>COMPLETE</td><td>2014</td><td>1</td></tr><tr><td>1683</td><td>ChristopherSloan</td><td>2014-01-25</td><td>Dallas</td><td>TX</td><td>COMPLETE</td><td>2014</td><td>1</td></tr><tr><td>1583</td><td>SeanSmith</td><td>2014-01-25</td><td>Sugar Land</td><td>TX</td><td>COMPLETE</td><td>2014</td><td>1</td></tr><tr><td>615</td><td>MarySmith</td><td>2014-01-25</td><td>El Paso</td><td>TX</td><td>COMPLETE</td><td>2014</td><td>1</td></tr><tr><td>12040</td><td>ThomasMoore</td><td>2014-01-24</td><td>Harlingen</td><td>TX</td><td>COMPLETE</td><td>2014</td><td>1</td></tr><tr><td>11475</td><td>MaryGarner</td><td>2014-01-23</td><td>Houston</td><td>TX</td><td>COMPLETE</td><td>2014</td><td>1</td></tr><tr><td>8071</td><td>GaryBaker</td><td>2014-01-23</td><td>Plano</td><td>TX</td><td>COMPLETE</td><td>2014</td><td>1</td></tr><tr><td>9127</td><td>MaryNolan</td><td>2014-01-22</td><td>Dallas</td><td>TX</td><td>COMPLETE</td><td>2014</td><td>1</td></tr><tr><td>9018</td><td>MarySmith</td><td>2014-01-22</td><td>Dallas</td><td>TX</td><td>COMPLETE</td><td>2014</td><td>1</td></tr><tr><td>8417</td><td>MarySmith</td><td>2014-01-21</td><td>Houston</td><td>TX</td><td>COMPLETE</td><td>2014</td><td>1</td></tr><tr><td>4318</td><td>MaryFletcher</td><td>2014-01-21</td><td>San Benito</td><td>TX</td><td>COMPLETE</td><td>2014</td><td>1</td></tr><tr><td>2545</td><td>LarryPatel</td><td>2014-01-21</td><td>Richardson</td><td>TX</td><td>COMPLETE</td><td>2014</td><td>1</td></tr><tr><td>3684</td><td>PatrickSmith</td><td>2014-01-20</td><td>Dallas</td><td>TX</td><td>COMPLETE</td><td>2014</td><td>1</td></tr><tr><td>4426</td><td>MarySmith</td><td>2014-01-18</td><td>Dallas</td><td>TX</td><td>COMPLETE</td><td>2014</td><td>1</td></tr><tr><td>2880</td><td>LindaWalters</td><td>2014-01-18</td><td>San Antonio</td><td>TX</td><td>COMPLETE</td><td>2014</td><td>1</td></tr><tr><td>8843</td><td>JuanSmith</td><td>2014-01-18</td><td>Houston</td><td>TX</td><td>COMPLETE</td><td>2014</td><td>1</td></tr><tr><td>3205</td><td>JulieSantiago</td><td>2014-01-18</td><td>Fort Worth</td><td>TX</td><td>COMPLETE</td><td>2014</td><td>1</td></tr><tr><td>1806</td><td>RogerSmith</td><td>2014-01-18</td><td>El Paso</td><td>TX</td><td>COMPLETE</td><td>2014</td><td>1</td></tr><tr><td>5749</td><td>MarySmith</td><td>2014-01-17</td><td>Houston</td><td>TX</td><td>COMPLETE</td><td>2014</td><td>1</td></tr><tr><td>8245</td><td>ThomasGray</td><td>2014-01-17</td><td>San Antonio</td><td>TX</td><td>COMPLETE</td><td>2014</td><td>1</td></tr><tr><td>7780</td><td>StevenSmith</td><td>2014-01-16</td><td>Richardson</td><td>TX</td><td>COMPLETE</td><td>2014</td><td>1</td></tr><tr><td>3108</td><td>MarySmith</td><td>2014-01-16</td><td>Houston</td><td>TX</td><td>COMPLETE</td><td>2014</td><td>1</td></tr><tr><td>4749</td><td>MichelleTerry</td><td>2014-01-15</td><td>Plano</td><td>TX</td><td>COMPLETE</td><td>2014</td><td>1</td></tr><tr><td>3108</td><td>MarySmith</td><td>2014-01-15</td><td>Houston</td><td>TX</td><td>COMPLETE</td><td>2014</td><td>1</td></tr><tr><td>3022</td><td>JoseSmith</td><td>2014-01-15</td><td>Dallas</td><td>TX</td><td>COMPLETE</td><td>2014</td><td>1</td></tr><tr><td>1498</td><td>PeterBray</td><td>2014-01-15</td><td>Houston</td><td>TX</td><td>COMPLETE</td><td>2014</td><td>1</td></tr><tr><td>6168</td><td>ArthurLi</td><td>2014-01-14</td><td>Pharr</td><td>TX</td><td>COMPLETE</td><td>2014</td><td>1</td></tr><tr><td>3828</td><td>JaniceCarpenter</td><td>2014-01-14</td><td>El Paso</td><td>TX</td><td>COMPLETE</td><td>2014</td><td>1</td></tr><tr><td>4956</td><td>MarySmith</td><td>2014-01-13</td><td>Austin</td><td>TX</td><td>COMPLETE</td><td>2014</td><td>1</td></tr><tr><td>699</td><td>RaymondRichards</td><td>2014-01-13</td><td>Houston</td><td>TX</td><td>COMPLETE</td><td>2014</td><td>1</td></tr><tr><td>10800</td><td>MaryDunn</td><td>2014-01-13</td><td>Arlington</td><td>TX</td><td>COMPLETE</td><td>2014</td><td>1</td></tr><tr><td>7205</td><td>MariaJordan</td><td>2014-01-13</td><td>Carrollton</td><td>TX</td><td>COMPLETE</td><td>2014</td><td>1</td></tr><tr><td>3783</td><td>AlbertSmith</td><td>2014-01-13</td><td>El Paso</td><td>TX</td><td>COMPLETE</td><td>2014</td><td>1</td></tr><tr><td>862</td><td>RichardSmith</td><td>2014-01-12</td><td>San Antonio</td><td>TX</td><td>COMPLETE</td><td>2014</td><td>1</td></tr><tr><td>9559</td><td>AustinSmith</td><td>2014-01-11</td><td>Dallas</td><td>TX</td><td>COMPLETE</td><td>2014</td><td>1</td></tr><tr><td>11475</td><td>MaryGarner</td><td>2014-01-11</td><td>Houston</td><td>TX</td><td>COMPLETE</td><td>2014</td><td>1</td></tr><tr><td>10026</td><td>MaryWilson</td><td>2014-01-10</td><td>Mcallen</td><td>TX</td><td>COMPLETE</td><td>2014</td><td>1</td></tr><tr><td>6561</td><td>JaneDay</td><td>2014-01-10</td><td>San Benito</td><td>TX</td><td>COMPLETE</td><td>2014</td><td>1</td></tr><tr><td>7244</td><td>JeremyWashington</td><td>2014-01-09</td><td>College Station</td><td>TX</td><td>COMPLETE</td><td>2014</td><td>1</td></tr><tr><td>10328</td><td>MarySmith</td><td>2014-01-07</td><td>Dallas</td><td>TX</td><td>COMPLETE</td><td>2014</td><td>1</td></tr><tr><td>9912</td><td>DavidPhillips</td><td>2014-01-07</td><td>Houston</td><td>TX</td><td>COMPLETE</td><td>2014</td><td>1</td></tr><tr><td>2895</td><td>DylanButler</td><td>2014-01-07</td><td>Houston</td><td>TX</td><td>COMPLETE</td><td>2014</td><td>1</td></tr><tr><td>5598</td><td>SharonSmith</td><td>2014-01-07</td><td>Houston</td><td>TX</td><td>COMPLETE</td><td>2014</td><td>1</td></tr><tr><td>2658</td><td>SaraCisneros</td><td>2014-01-07</td><td>Weslaco</td><td>TX</td><td>COMPLETE</td><td>2014</td><td>1</td></tr><tr><td>8975</td><td>NancyMata</td><td>2014-01-05</td><td>Fort Worth</td><td>TX</td><td>COMPLETE</td><td>2014</td><td>1</td></tr><tr><td>7979</td><td>MarySmith</td><td>2014-01-05</td><td>El Paso</td><td>TX</td><td>COMPLETE</td><td>2014</td><td>1</td></tr><tr><td>2010</td><td>MarySmith</td><td>2014-01-05</td><td>San Antonio</td><td>TX</td><td>COMPLETE</td><td>2014</td><td>1</td></tr><tr><td>2087</td><td>MaryBurton</td><td>2014-01-05</td><td>San Benito</td><td>TX</td><td>COMPLETE</td><td>2014</td><td>1</td></tr><tr><td>8088</td><td>MaryMorris</td><td>2014-01-05</td><td>San Marcos</td><td>TX</td><td>COMPLETE</td><td>2014</td><td>1</td></tr><tr><td>1782</td><td>RobertSmith</td><td>2014-01-03</td><td>Fort Worth</td><td>TX</td><td>COMPLETE</td><td>2014</td><td>1</td></tr><tr><td>6209</td><td>MaryLopez</td><td>2014-01-02</td><td>Houston</td><td>TX</td><td>COMPLETE</td><td>2014</td><td>1</td></tr><tr><td>9127</td><td>MaryNolan</td><td>2014-01-02</td><td>Dallas</td><td>TX</td><td>COMPLETE</td><td>2014</td><td>1</td></tr></tbody></table></div>"
      ]
     },
     "metadata": {
      "application/vnd.databricks.v1+output": {
       "addedWidgets": {},
       "aggData": [],
       "aggError": "",
       "aggOverflow": false,
       "aggSchema": [],
       "aggSeriesLimitReached": false,
       "aggType": "",
       "arguments": {},
       "columnCustomDisplayInfos": {},
       "data": [
        [
         "312",
         "JackSmith",
         "2014-06-04",
         "Houston",
         "TX",
         "COMPLETE",
         2014,
         6
        ],
        [
         "8451",
         "JaniceNovak",
         "2014-05-25",
         "Houston",
         "TX",
         "COMPLETE",
         2014,
         5
        ],
        [
         "2564",
         "PhillipSmith",
         "2014-04-05",
         "Amarillo",
         "TX",
         "COMPLETE",
         2014,
         4
        ],
        [
         "2163",
         "NicholasWright",
         "2014-07-10",
         "Irving",
         "TX",
         "COMPLETE",
         2014,
         7
        ],
        [
         "5259",
         "DennisSmith",
         "2014-06-27",
         "Houston",
         "TX",
         "COMPLETE",
         2014,
         6
        ],
        [
         "10433",
         "ElizabethBall",
         "2014-06-26",
         "Houston",
         "TX",
         "COMPLETE",
         2014,
         6
        ],
        [
         "8952",
         "JosephBrooks",
         "2014-06-11",
         "Mission",
         "TX",
         "COMPLETE",
         2014,
         6
        ],
        [
         "2202",
         "MarySmith",
         "2014-06-05",
         "Mesquite",
         "TX",
         "COMPLETE",
         2014,
         6
        ],
        [
         "9263",
         "JoeSmith",
         "2014-04-28",
         "Dallas",
         "TX",
         "COMPLETE",
         2014,
         4
        ],
        [
         "8391",
         "RobertSmith",
         "2014-04-21",
         "Amarillo",
         "TX",
         "COMPLETE",
         2014,
         4
        ],
        [
         "1392",
         "MaryHardy",
         "2014-04-04",
         "Amarillo",
         "TX",
         "COMPLETE",
         2014,
         4
        ],
        [
         "775",
         "DonnaBautista",
         "2014-03-28",
         "College Station",
         "TX",
         "COMPLETE",
         2014,
         3
        ],
        [
         "1498",
         "PeterBray",
         "2014-03-08",
         "Houston",
         "TX",
         "COMPLETE",
         2014,
         3
        ],
        [
         "7602",
         "BrianMitchell",
         "2014-02-15",
         "Harlingen",
         "TX",
         "COMPLETE",
         2014,
         2
        ],
        [
         "11094",
         "RoseWyatt",
         "2014-01-23",
         "Mission",
         "TX",
         "COMPLETE",
         2014,
         1
        ],
        [
         "5987",
         "MarySmith",
         "2014-01-23",
         "Houston",
         "TX",
         "COMPLETE",
         2014,
         1
        ],
        [
         "254",
         "DianaHale",
         "2014-01-20",
         "San Antonio",
         "TX",
         "COMPLETE",
         2014,
         1
        ],
        [
         "2641",
         "BettySpears",
         "2014-07-22",
         "Carrollton",
         "TX",
         "COMPLETE",
         2014,
         7
        ],
        [
         "2692",
         "MarySmith",
         "2014-07-21",
         "Pharr",
         "TX",
         "COMPLETE",
         2014,
         7
        ],
        [
         "7316",
         "MarilynWu",
         "2014-07-20",
         "Baytown",
         "TX",
         "COMPLETE",
         2014,
         7
        ],
        [
         "9798",
         "BrittanyFrench",
         "2014-07-18",
         "Houston",
         "TX",
         "COMPLETE",
         2014,
         7
        ],
        [
         "3887",
         "MaryBerry",
         "2014-07-17",
         "Garland",
         "TX",
         "COMPLETE",
         2014,
         7
        ],
        [
         "7071",
         "AmberAnderson",
         "2014-07-17",
         "North Richland Hills",
         "TX",
         "COMPLETE",
         2014,
         7
        ],
        [
         "10345",
         "ElizabethMcpherson",
         "2014-07-16",
         "Richmond",
         "TX",
         "COMPLETE",
         2014,
         7
        ],
        [
         "1870",
         "TiffanyGreer",
         "2014-07-15",
         "Amarillo",
         "TX",
         "COMPLETE",
         2014,
         7
        ],
        [
         "9798",
         "BrittanyFrench",
         "2014-07-13",
         "Houston",
         "TX",
         "COMPLETE",
         2014,
         7
        ],
        [
         "12302",
         "DonaldSampson",
         "2014-07-11",
         "Austin",
         "TX",
         "COMPLETE",
         2014,
         7
        ],
        [
         "549",
         "MarySmith",
         "2014-07-09",
         "Sugar Land",
         "TX",
         "COMPLETE",
         2014,
         7
        ],
        [
         "2308",
         "MaryMorgan",
         "2014-07-06",
         "Austin",
         "TX",
         "COMPLETE",
         2014,
         7
        ],
        [
         "5324",
         "MaryPatterson",
         "2014-07-06",
         "Houston",
         "TX",
         "COMPLETE",
         2014,
         7
        ],
        [
         "2592",
         "KyleEdwards",
         "2014-07-05",
         "San Marcos",
         "TX",
         "COMPLETE",
         2014,
         7
        ],
        [
         "11400",
         "FrancesHolmes",
         "2014-07-05",
         "Fort Worth",
         "TX",
         "COMPLETE",
         2014,
         7
        ],
        [
         "1561",
         "HaroldJohnson",
         "2014-07-04",
         "Lewisville",
         "TX",
         "COMPLETE",
         2014,
         7
        ],
        [
         "3783",
         "AlbertSmith",
         "2014-06-29",
         "El Paso",
         "TX",
         "COMPLETE",
         2014,
         6
        ],
        [
         "8727",
         "JamesColeman",
         "2014-06-25",
         "San Antonio",
         "TX",
         "COMPLETE",
         2014,
         6
        ],
        [
         "12150",
         "PaulHancock",
         "2014-06-23",
         "Dallas",
         "TX",
         "COMPLETE",
         2014,
         6
        ],
        [
         "7598",
         "MaryGonzalez",
         "2014-06-22",
         "San Benito",
         "TX",
         "COMPLETE",
         2014,
         6
        ],
        [
         "10433",
         "ElizabethBall",
         "2014-06-19",
         "Houston",
         "TX",
         "COMPLETE",
         2014,
         6
        ],
        [
         "4159",
         "MaryCastillo",
         "2014-06-04",
         "Laredo",
         "TX",
         "COMPLETE",
         2014,
         6
        ],
        [
         "10459",
         "JasonSmith",
         "2014-06-04",
         "El Paso",
         "TX",
         "COMPLETE",
         2014,
         6
        ],
        [
         "4022",
         "MaryHarding",
         "2014-06-02",
         "Garland",
         "TX",
         "COMPLETE",
         2014,
         6
        ],
        [
         "7476",
         "BenjaminCole",
         "2014-05-31",
         "Austin",
         "TX",
         "COMPLETE",
         2014,
         5
        ],
        [
         "8071",
         "GaryBaker",
         "2014-05-28",
         "Plano",
         "TX",
         "COMPLETE",
         2014,
         5
        ],
        [
         "6906",
         "RebeccaWatkins",
         "2014-05-23",
         "Dallas",
         "TX",
         "COMPLETE",
         2014,
         5
        ],
        [
         "3660",
         "RogerSmith",
         "2014-05-21",
         "Del Rio",
         "TX",
         "COMPLETE",
         2014,
         5
        ],
        [
         "3292",
         "RuthSmith",
         "2014-05-20",
         "Arlington",
         "TX",
         "COMPLETE",
         2014,
         5
        ],
        [
         "7645",
         "BrandonStephens",
         "2014-05-20",
         "Laredo",
         "TX",
         "COMPLETE",
         2014,
         5
        ],
        [
         "9756",
         "MaryWhite",
         "2014-05-17",
         "Dallas",
         "TX",
         "COMPLETE",
         2014,
         5
        ],
        [
         "8774",
         "FrancesSmith",
         "2014-05-16",
         "Dallas",
         "TX",
         "COMPLETE",
         2014,
         5
        ],
        [
         "12115",
         "LawrenceSmith",
         "2014-05-11",
         "Mission",
         "TX",
         "COMPLETE",
         2014,
         5
        ],
        [
         "996",
         "AmandaSmith",
         "2014-05-11",
         "Austin",
         "TX",
         "COMPLETE",
         2014,
         5
        ],
        [
         "11965",
         "EmmaNoble",
         "2014-05-11",
         "North Richland Hills",
         "TX",
         "COMPLETE",
         2014,
         5
        ],
        [
         "5369",
         "MaryShort",
         "2014-05-09",
         "North Richland Hills",
         "TX",
         "COMPLETE",
         2014,
         5
        ],
        [
         "3786",
         "MaryMoody",
         "2014-05-08",
         "Irving",
         "TX",
         "COMPLETE",
         2014,
         5
        ],
        [
         "4933",
         "MarySmith",
         "2014-05-04",
         "Laredo",
         "TX",
         "COMPLETE",
         2014,
         5
        ],
        [
         "8822",
         "DorothySmith",
         "2014-05-01",
         "Dallas",
         "TX",
         "COMPLETE",
         2014,
         5
        ],
        [
         "9849",
         "MarySmith",
         "2014-04-28",
         "Dallas",
         "TX",
         "COMPLETE",
         2014,
         4
        ],
        [
         "5658",
         "MichaelWiley",
         "2014-04-28",
         "Harlingen",
         "TX",
         "COMPLETE",
         2014,
         4
        ],
        [
         "7661",
         "LindaRojas",
         "2014-04-27",
         "Dallas",
         "TX",
         "COMPLETE",
         2014,
         4
        ],
        [
         "8538",
         "MaryNewman",
         "2014-04-23",
         "Laredo",
         "TX",
         "COMPLETE",
         2014,
         4
        ],
        [
         "9190",
         "AndrewRasmussen",
         "2014-04-22",
         "Dallas",
         "TX",
         "COMPLETE",
         2014,
         4
        ],
        [
         "1028",
         "VirginiaSanders",
         "2014-04-21",
         "Austin",
         "TX",
         "COMPLETE",
         2014,
         4
        ],
        [
         "10800",
         "MaryDunn",
         "2014-04-19",
         "Arlington",
         "TX",
         "COMPLETE",
         2014,
         4
        ],
        [
         "5031",
         "MaryGeorge",
         "2014-04-19",
         "San Antonio",
         "TX",
         "COMPLETE",
         2014,
         4
        ],
        [
         "2870",
         "RonaldSmith",
         "2014-04-15",
         "El Paso",
         "TX",
         "COMPLETE",
         2014,
         4
        ],
        [
         "9295",
         "JaneSmith",
         "2014-04-15",
         "College Station",
         "TX",
         "COMPLETE",
         2014,
         4
        ],
        [
         "8843",
         "JuanSmith",
         "2014-04-15",
         "Houston",
         "TX",
         "COMPLETE",
         2014,
         4
        ],
        [
         "1063",
         "MaryFriedman",
         "2014-04-13",
         "Dallas",
         "TX",
         "COMPLETE",
         2014,
         4
        ],
        [
         "12178",
         "MaryMcgee",
         "2014-04-11",
         "Irving",
         "TX",
         "COMPLETE",
         2014,
         4
        ],
        [
         "2591",
         "PatriciaSmith",
         "2014-04-10",
         "Dallas",
         "TX",
         "COMPLETE",
         2014,
         4
        ],
        [
         "8582",
         "EdwardSmith",
         "2014-04-09",
         "Houston",
         "TX",
         "COMPLETE",
         2014,
         4
        ],
        [
         "10816",
         "HenryTurner",
         "2014-04-07",
         "Dallas",
         "TX",
         "COMPLETE",
         2014,
         4
        ],
        [
         "2843",
         "MaryChung",
         "2014-04-06",
         "Sugar Land",
         "TX",
         "COMPLETE",
         2014,
         4
        ],
        [
         "371",
         "AdamMarquez",
         "2014-04-06",
         "San Antonio",
         "TX",
         "COMPLETE",
         2014,
         4
        ],
        [
         "9963",
         "RoyMerritt",
         "2014-04-05",
         "Brownsville",
         "TX",
         "COMPLETE",
         2014,
         4
        ],
        [
         "6945",
         "MarySmith",
         "2014-04-03",
         "Richmond",
         "TX",
         "COMPLETE",
         2014,
         4
        ],
        [
         "1028",
         "VirginiaSanders",
         "2014-04-02",
         "Austin",
         "TX",
         "COMPLETE",
         2014,
         4
        ],
        [
         "8382",
         "JoshuaMullins",
         "2014-04-01",
         "Fort Worth",
         "TX",
         "COMPLETE",
         2014,
         4
        ],
        [
         "9646",
         "MaryRoberts",
         "2014-03-31",
         "Laredo",
         "TX",
         "COMPLETE",
         2014,
         3
        ],
        [
         "7641",
         "StephenSmith",
         "2014-03-28",
         "Houston",
         "TX",
         "COMPLETE",
         2014,
         3
        ],
        [
         "4619",
         "MaryNelson",
         "2014-03-18",
         "Richmond",
         "TX",
         "COMPLETE",
         2014,
         3
        ],
        [
         "2292",
         "AshleySmith",
         "2014-03-12",
         "San Benito",
         "TX",
         "COMPLETE",
         2014,
         3
        ],
        [
         "12115",
         "LawrenceSmith",
         "2014-03-07",
         "Mission",
         "TX",
         "COMPLETE",
         2014,
         3
        ],
        [
         "312",
         "JackSmith",
         "2014-02-24",
         "Houston",
         "TX",
         "COMPLETE",
         2014,
         2
        ],
        [
         "583",
         "MaryWright",
         "2014-02-14",
         "San Marcos",
         "TX",
         "COMPLETE",
         2014,
         2
        ],
        [
         "6168",
         "ArthurLi",
         "2014-02-13",
         "Pharr",
         "TX",
         "COMPLETE",
         2014,
         2
        ],
        [
         "8727",
         "JamesColeman",
         "2014-02-12",
         "San Antonio",
         "TX",
         "COMPLETE",
         2014,
         2
        ],
        [
         "2200",
         "EvelynWilson",
         "2014-02-04",
         "Fort Worth",
         "TX",
         "COMPLETE",
         2014,
         2
        ],
        [
         "10776",
         "AmyCompton",
         "2014-02-04",
         "Fort Worth",
         "TX",
         "COMPLETE",
         2014,
         2
        ],
        [
         "6436",
         "MaryPayne",
         "2014-02-03",
         "Dallas",
         "TX",
         "COMPLETE",
         2014,
         2
        ],
        [
         "1806",
         "RogerSmith",
         "2014-02-03",
         "El Paso",
         "TX",
         "COMPLETE",
         2014,
         2
        ],
        [
         "7917",
         "AshleyPalmer",
         "2014-01-29",
         "Dallas",
         "TX",
         "COMPLETE",
         2014,
         1
        ],
        [
         "11376",
         "CharlesMason",
         "2014-01-29",
         "Houston",
         "TX",
         "COMPLETE",
         2014,
         1
        ],
        [
         "5960",
         "MargaretSmith",
         "2014-01-29",
         "Round Rock",
         "TX",
         "COMPLETE",
         2014,
         1
        ],
        [
         "11376",
         "CharlesMason",
         "2014-01-24",
         "Houston",
         "TX",
         "COMPLETE",
         2014,
         1
        ],
        [
         "2346",
         "MaryBishop",
         "2014-01-20",
         "Mesquite",
         "TX",
         "COMPLETE",
         2014,
         1
        ],
        [
         "2420",
         "MarySmith",
         "2014-01-19",
         "Weslaco",
         "TX",
         "COMPLETE",
         2014,
         1
        ],
        [
         "7661",
         "LindaRojas",
         "2014-01-15",
         "Dallas",
         "TX",
         "COMPLETE",
         2014,
         1
        ],
        [
         "5859",
         "RonaldWilson",
         "2014-01-09",
         "San Antonio",
         "TX",
         "COMPLETE",
         2014,
         1
        ],
        [
         "5658",
         "MichaelWiley",
         "2014-01-04",
         "Harlingen",
         "TX",
         "COMPLETE",
         2014,
         1
        ],
        [
         "5031",
         "MaryGeorge",
         "2014-01-01",
         "San Antonio",
         "TX",
         "COMPLETE",
         2014,
         1
        ],
        [
         "10152",
         "WalterHughes",
         "2014-01-01",
         "Houston",
         "TX",
         "COMPLETE",
         2014,
         1
        ],
        [
         "1249",
         "DonaldOdom",
         "2014-07-24",
         "San Antonio",
         "TX",
         "COMPLETE",
         2014,
         7
        ],
        [
         "2688",
         "MaryRoss",
         "2014-07-23",
         "Irving",
         "TX",
         "COMPLETE",
         2014,
         7
        ],
        [
         "7836",
         "MaryHerman",
         "2014-07-22",
         "College Station",
         "TX",
         "COMPLETE",
         2014,
         7
        ],
        [
         "9276",
         "MarySmith",
         "2014-07-22",
         "Dallas",
         "TX",
         "COMPLETE",
         2014,
         7
        ],
        [
         "9761",
         "HelenSmith",
         "2014-07-22",
         "Brownsville",
         "TX",
         "COMPLETE",
         2014,
         7
        ],
        [
         "9303",
         "MaryBentley",
         "2014-07-22",
         "Dallas",
         "TX",
         "COMPLETE",
         2014,
         7
        ],
        [
         "2692",
         "MarySmith",
         "2014-07-22",
         "Pharr",
         "TX",
         "COMPLETE",
         2014,
         7
        ],
        [
         "11896",
         "MarySmith",
         "2014-07-22",
         "San Antonio",
         "TX",
         "COMPLETE",
         2014,
         7
        ],
        [
         "9018",
         "MarySmith",
         "2014-07-22",
         "Dallas",
         "TX",
         "COMPLETE",
         2014,
         7
        ],
        [
         "2371",
         "BarbaraSmith",
         "2014-07-21",
         "Baytown",
         "TX",
         "COMPLETE",
         2014,
         7
        ],
        [
         "549",
         "MarySmith",
         "2014-07-21",
         "Sugar Land",
         "TX",
         "COMPLETE",
         2014,
         7
        ],
        [
         "312",
         "JackSmith",
         "2014-07-21",
         "Houston",
         "TX",
         "COMPLETE",
         2014,
         7
        ],
        [
         "6654",
         "MarySimmons",
         "2014-07-21",
         "Irving",
         "TX",
         "COMPLETE",
         2014,
         7
        ],
        [
         "4563",
         "MelissaPowell",
         "2014-07-21",
         "Dallas",
         "TX",
         "COMPLETE",
         2014,
         7
        ],
        [
         "2641",
         "BettySpears",
         "2014-07-21",
         "Carrollton",
         "TX",
         "COMPLETE",
         2014,
         7
        ],
        [
         "3051",
         "JohnJohnson",
         "2014-07-21",
         "Sugar Land",
         "TX",
         "COMPLETE",
         2014,
         7
        ],
        [
         "10108",
         "JoseSmith",
         "2014-07-21",
         "El Paso",
         "TX",
         "COMPLETE",
         2014,
         7
        ],
        [
         "6500",
         "JoyceLeblanc",
         "2014-07-20",
         "Mesquite",
         "TX",
         "COMPLETE",
         2014,
         7
        ],
        [
         "2592",
         "KyleEdwards",
         "2014-07-20",
         "San Marcos",
         "TX",
         "COMPLETE",
         2014,
         7
        ],
        [
         "7450",
         "MaryRobertson",
         "2014-07-20",
         "Pharr",
         "TX",
         "COMPLETE",
         2014,
         7
        ],
        [
         "8279",
         "JoseCasey",
         "2014-07-20",
         "Fort Worth",
         "TX",
         "COMPLETE",
         2014,
         7
        ],
        [
         "1675",
         "MaryMoore",
         "2014-07-20",
         "Sugar Land",
         "TX",
         "COMPLETE",
         2014,
         7
        ],
        [
         "3982",
         "RogerOliver",
         "2014-07-20",
         "Dallas",
         "TX",
         "COMPLETE",
         2014,
         7
        ],
        [
         "8261",
         "MarySmith",
         "2014-07-19",
         "Dallas",
         "TX",
         "COMPLETE",
         2014,
         7
        ],
        [
         "1209",
         "MaryWebb",
         "2014-07-19",
         "San Marcos",
         "TX",
         "COMPLETE",
         2014,
         7
        ],
        [
         "3322",
         "JoyceSmith",
         "2014-07-19",
         "Del Rio",
         "TX",
         "COMPLETE",
         2014,
         7
        ],
        [
         "5984",
         "JanetNorton",
         "2014-07-18",
         "Dallas",
         "TX",
         "COMPLETE",
         2014,
         7
        ],
        [
         "5324",
         "MaryPatterson",
         "2014-07-17",
         "Houston",
         "TX",
         "COMPLETE",
         2014,
         7
        ],
        [
         "7605",
         "HenryRoman",
         "2014-07-17",
         "San Marcos",
         "TX",
         "COMPLETE",
         2014,
         7
        ],
        [
         "7063",
         "MarySmith",
         "2014-07-17",
         "Brownsville",
         "TX",
         "COMPLETE",
         2014,
         7
        ],
        [
         "11554",
         "HannahMarshall",
         "2014-07-16",
         "San Benito",
         "TX",
         "COMPLETE",
         2014,
         7
        ],
        [
         "5754",
         "CarolSmith",
         "2014-07-16",
         "San Antonio",
         "TX",
         "COMPLETE",
         2014,
         7
        ],
        [
         "8192",
         "KathrynMarshall",
         "2014-07-16",
         "Houston",
         "TX",
         "COMPLETE",
         2014,
         7
        ],
        [
         "6168",
         "ArthurLi",
         "2014-07-15",
         "Pharr",
         "TX",
         "COMPLETE",
         2014,
         7
        ],
        [
         "10029",
         "MarySilva",
         "2014-07-15",
         "Carrollton",
         "TX",
         "COMPLETE",
         2014,
         7
        ],
        [
         "300",
         "MaryKey",
         "2014-07-15",
         "Plano",
         "TX",
         "COMPLETE",
         2014,
         7
        ],
        [
         "9692",
         "CarolynPrice",
         "2014-07-13",
         "Laredo",
         "TX",
         "COMPLETE",
         2014,
         7
        ],
        [
         "6180",
         "MarySmith",
         "2014-07-13",
         "North Richland Hills",
         "TX",
         "COMPLETE",
         2014,
         7
        ],
        [
         "12169",
         "MaryKrueger",
         "2014-07-13",
         "Mesquite",
         "TX",
         "COMPLETE",
         2014,
         7
        ],
        [
         "3234",
         "JacobSmith",
         "2014-07-13",
         "El Paso",
         "TX",
         "COMPLETE",
         2014,
         7
        ],
        [
         "1675",
         "MaryMoore",
         "2014-07-13",
         "Sugar Land",
         "TX",
         "COMPLETE",
         2014,
         7
        ],
        [
         "8765",
         "GarySmith",
         "2014-07-10",
         "College Station",
         "TX",
         "COMPLETE",
         2014,
         7
        ],
        [
         "4840",
         "MaryMarshall",
         "2014-07-10",
         "Irving",
         "TX",
         "COMPLETE",
         2014,
         7
        ],
        [
         "1702",
         "MarySmith",
         "2014-07-09",
         "Austin",
         "TX",
         "COMPLETE",
         2014,
         7
        ],
        [
         "632",
         "GeorgeSmith",
         "2014-07-09",
         "Grand Prairie",
         "TX",
         "COMPLETE",
         2014,
         7
        ],
        [
         "2015",
         "MarySmith",
         "2014-07-09",
         "San Antonio",
         "TX",
         "COMPLETE",
         2014,
         7
        ],
        [
         "3234",
         "JacobSmith",
         "2014-07-08",
         "El Paso",
         "TX",
         "COMPLETE",
         2014,
         7
        ],
        [
         "10116",
         "AshleySmith",
         "2014-07-08",
         "El Paso",
         "TX",
         "COMPLETE",
         2014,
         7
        ],
        [
         "8003",
         "DianeZimmerman",
         "2014-07-08",
         "El Paso",
         "TX",
         "COMPLETE",
         2014,
         7
        ],
        [
         "8279",
         "JoseCasey",
         "2014-07-08",
         "Fort Worth",
         "TX",
         "COMPLETE",
         2014,
         7
        ],
        [
         "1076",
         "TylerThompson",
         "2014-07-08",
         "Fort Worth",
         "TX",
         "COMPLETE",
         2014,
         7
        ],
        [
         "6907",
         "TimothySmith",
         "2014-07-08",
         "El Paso",
         "TX",
         "COMPLETE",
         2014,
         7
        ],
        [
         "996",
         "AmandaSmith",
         "2014-07-08",
         "Austin",
         "TX",
         "COMPLETE",
         2014,
         7
        ],
        [
         "8084",
         "MarySmith",
         "2014-07-07",
         "Houston",
         "TX",
         "COMPLETE",
         2014,
         7
        ],
        [
         "9276",
         "MarySmith",
         "2014-07-05",
         "Dallas",
         "TX",
         "COMPLETE",
         2014,
         7
        ],
        [
         "2346",
         "MaryBishop",
         "2014-07-04",
         "Mesquite",
         "TX",
         "COMPLETE",
         2014,
         7
        ],
        [
         "1561",
         "HaroldJohnson",
         "2014-07-04",
         "Lewisville",
         "TX",
         "COMPLETE",
         2014,
         7
        ],
        [
         "2351",
         "MaryFuller",
         "2014-07-04",
         "Houston",
         "TX",
         "COMPLETE",
         2014,
         7
        ],
        [
         "5658",
         "MichaelWiley",
         "2014-07-03",
         "Harlingen",
         "TX",
         "COMPLETE",
         2014,
         7
        ],
        [
         "10301",
         "JeremySmith",
         "2014-07-03",
         "Edinburg",
         "TX",
         "COMPLETE",
         2014,
         7
        ],
        [
         "5869",
         "MarySmith",
         "2014-07-03",
         "Plano",
         "TX",
         "COMPLETE",
         2014,
         7
        ],
        [
         "3631",
         "MarySmith",
         "2014-07-02",
         "Laredo",
         "TX",
         "COMPLETE",
         2014,
         7
        ],
        [
         "10326",
         "JoshuaSmith",
         "2014-07-02",
         "Grand Prairie",
         "TX",
         "COMPLETE",
         2014,
         7
        ],
        [
         "4798",
         "MarySmith",
         "2014-07-02",
         "Plano",
         "TX",
         "COMPLETE",
         2014,
         7
        ],
        [
         "6700",
         "VirginiaWalker",
         "2014-07-01",
         "Eagle Pass",
         "TX",
         "COMPLETE",
         2014,
         7
        ],
        [
         "10943",
         "MaryChapman",
         "2014-06-30",
         "Plano",
         "TX",
         "COMPLETE",
         2014,
         6
        ],
        [
         "1303",
         "MaryContreras",
         "2014-06-29",
         "Dallas",
         "TX",
         "COMPLETE",
         2014,
         6
        ],
        [
         "10135",
         "EdwardSmith",
         "2014-06-28",
         "Dallas",
         "TX",
         "COMPLETE",
         2014,
         6
        ],
        [
         "2337",
         "MarySmith",
         "2014-06-28",
         "El Paso",
         "TX",
         "COMPLETE",
         2014,
         6
        ],
        [
         "7902",
         "MarySmith",
         "2014-06-28",
         "El Paso",
         "TX",
         "COMPLETE",
         2014,
         6
        ],
        [
         "9997",
         "JohnFuentes",
         "2014-06-27",
         "Irving",
         "TX",
         "COMPLETE",
         2014,
         6
        ],
        [
         "7442",
         "BrendaEvans",
         "2014-06-27",
         "Denton",
         "TX",
         "COMPLETE",
         2014,
         6
        ],
        [
         "11315",
         "KimberlyCampos",
         "2014-06-27",
         "College Station",
         "TX",
         "COMPLETE",
         2014,
         6
        ],
        [
         "5829",
         "MarySmith",
         "2014-06-27",
         "Houston",
         "TX",
         "COMPLETE",
         2014,
         6
        ],
        [
         "10082",
         "AnnaSmith",
         "2014-06-27",
         "Brownsville",
         "TX",
         "COMPLETE",
         2014,
         6
        ],
        [
         "10033",
         "MaryGutierrez",
         "2014-06-26",
         "San Marcos",
         "TX",
         "COMPLETE",
         2014,
         6
        ],
        [
         "7928",
         "MadisonSmith",
         "2014-06-26",
         "Irving",
         "TX",
         "COMPLETE",
         2014,
         6
        ],
        [
         "1028",
         "VirginiaSanders",
         "2014-06-25",
         "Austin",
         "TX",
         "COMPLETE",
         2014,
         6
        ],
        [
         "151",
         "LisaShaw",
         "2014-06-22",
         "Richmond",
         "TX",
         "COMPLETE",
         2014,
         6
        ],
        [
         "6926",
         "AshleyPowell",
         "2014-06-22",
         "Harlingen",
         "TX",
         "COMPLETE",
         2014,
         6
        ],
        [
         "2420",
         "MarySmith",
         "2014-06-20",
         "Weslaco",
         "TX",
         "COMPLETE",
         2014,
         6
        ],
        [
         "4464",
         "MaryJohnson",
         "2014-06-20",
         "Amarillo",
         "TX",
         "COMPLETE",
         2014,
         6
        ],
        [
         "576",
         "ArthurFisher",
         "2014-06-20",
         "Houston",
         "TX",
         "COMPLETE",
         2014,
         6
        ],
        [
         "11632",
         "MarySmith",
         "2014-06-19",
         "San Antonio",
         "TX",
         "COMPLETE",
         2014,
         6
        ],
        [
         "10135",
         "EdwardSmith",
         "2014-06-19",
         "Dallas",
         "TX",
         "COMPLETE",
         2014,
         6
        ],
        [
         "10618",
         "MaryOrtega",
         "2014-06-19",
         "Dallas",
         "TX",
         "COMPLETE",
         2014,
         6
        ],
        [
         "3864",
         "DavidSmith",
         "2014-06-19",
         "Laredo",
         "TX",
         "COMPLETE",
         2014,
         6
        ],
        [
         "2308",
         "MaryMorgan",
         "2014-06-19",
         "Austin",
         "TX",
         "COMPLETE",
         2014,
         6
        ],
        [
         "480",
         "MarySmith",
         "2014-06-18",
         "Austin",
         "TX",
         "COMPLETE",
         2014,
         6
        ],
        [
         "7738",
         "MarySmith",
         "2014-06-18",
         "Pharr",
         "TX",
         "COMPLETE",
         2014,
         6
        ],
        [
         "189",
         "AngelaPeterson",
         "2014-06-18",
         "San Marcos",
         "TX",
         "COMPLETE",
         2014,
         6
        ],
        [
         "7836",
         "MaryHerman",
         "2014-06-17",
         "College Station",
         "TX",
         "COMPLETE",
         2014,
         6
        ],
        [
         "9609",
         "MaryLucero",
         "2014-06-17",
         "Houston",
         "TX",
         "COMPLETE",
         2014,
         6
        ],
        [
         "8192",
         "KathrynMarshall",
         "2014-06-16",
         "Houston",
         "TX",
         "COMPLETE",
         2014,
         6
        ],
        [
         "5168",
         "MarySmith",
         "2014-06-16",
         "Fort Worth",
         "TX",
         "COMPLETE",
         2014,
         6
        ],
        [
         "3406",
         "MarySmith",
         "2014-06-14",
         "El Paso",
         "TX",
         "COMPLETE",
         2014,
         6
        ],
        [
         "11457",
         "JonathanSmith",
         "2014-06-14",
         "San Benito",
         "TX",
         "COMPLETE",
         2014,
         6
        ],
        [
         "11708",
         "LauraSmith",
         "2014-06-14",
         "Plano",
         "TX",
         "COMPLETE",
         2014,
         6
        ],
        [
         "1733",
         "MargaretSmith",
         "2014-06-14",
         "Pharr",
         "TX",
         "COMPLETE",
         2014,
         6
        ],
        [
         "4159",
         "MaryCastillo",
         "2014-06-14",
         "Laredo",
         "TX",
         "COMPLETE",
         2014,
         6
        ],
        [
         "9609",
         "MaryLucero",
         "2014-06-13",
         "Houston",
         "TX",
         "COMPLETE",
         2014,
         6
        ],
        [
         "10108",
         "JoseSmith",
         "2014-06-12",
         "El Paso",
         "TX",
         "COMPLETE",
         2014,
         6
        ],
        [
         "4711",
         "RyanSmith",
         "2014-06-12",
         "Pharr",
         "TX",
         "COMPLETE",
         2014,
         6
        ],
        [
         "3571",
         "LauraSmith",
         "2014-06-12",
         "Harlingen",
         "TX",
         "COMPLETE",
         2014,
         6
        ],
        [
         "9303",
         "MaryBentley",
         "2014-06-12",
         "Dallas",
         "TX",
         "COMPLETE",
         2014,
         6
        ],
        [
         "8321",
         "KennethSmith",
         "2014-06-12",
         "Sugar Land",
         "TX",
         "COMPLETE",
         2014,
         6
        ],
        [
         "8235",
         "BruceHorton",
         "2014-06-12",
         "Sugar Land",
         "TX",
         "COMPLETE",
         2014,
         6
        ],
        [
         "9271",
         "ChristopherSmith",
         "2014-06-11",
         "Fort Worth",
         "TX",
         "COMPLETE",
         2014,
         6
        ],
        [
         "11475",
         "MaryGarner",
         "2014-06-11",
         "Houston",
         "TX",
         "COMPLETE",
         2014,
         6
        ],
        [
         "2010",
         "MarySmith",
         "2014-06-11",
         "San Antonio",
         "TX",
         "COMPLETE",
         2014,
         6
        ],
        [
         "252",
         "MaryFrazier",
         "2014-06-11",
         "Richardson",
         "TX",
         "COMPLETE",
         2014,
         6
        ],
        [
         "7637",
         "DouglasWashington",
         "2014-06-10",
         "Mesquite",
         "TX",
         "COMPLETE",
         2014,
         6
        ],
        [
         "1076",
         "TylerThompson",
         "2014-06-09",
         "Fort Worth",
         "TX",
         "COMPLETE",
         2014,
         6
        ],
        [
         "8835",
         "MarySmith",
         "2014-06-08",
         "Richmond",
         "TX",
         "COMPLETE",
         2014,
         6
        ],
        [
         "3430",
         "AliceRusso",
         "2014-06-08",
         "Houston",
         "TX",
         "COMPLETE",
         2014,
         6
        ],
        [
         "6658",
         "MarySmith",
         "2014-06-07",
         "Plano",
         "TX",
         "COMPLETE",
         2014,
         6
        ],
        [
         "5168",
         "MarySmith",
         "2014-06-07",
         "Fort Worth",
         "TX",
         "COMPLETE",
         2014,
         6
        ],
        [
         "7577",
         "MaryBauer",
         "2014-06-06",
         "North Richland Hills",
         "TX",
         "COMPLETE",
         2014,
         6
        ],
        [
         "9666",
         "MaryCollins",
         "2014-06-06",
         "College Station",
         "TX",
         "COMPLETE",
         2014,
         6
        ],
        [
         "11387",
         "LarrySmith",
         "2014-06-04",
         "San Antonio",
         "TX",
         "COMPLETE",
         2014,
         6
        ],
        [
         "5017",
         "JoyceSmith",
         "2014-06-03",
         "Dallas",
         "TX",
         "COMPLETE",
         2014,
         6
        ],
        [
         "4613",
         "AshleyGordon",
         "2014-06-02",
         "Richmond",
         "TX",
         "COMPLETE",
         2014,
         6
        ],
        [
         "7814",
         "NicolePowers",
         "2014-06-02",
         "Dallas",
         "TX",
         "COMPLETE",
         2014,
         6
        ],
        [
         "1590",
         "MarySmith",
         "2014-06-02",
         "Katy",
         "TX",
         "COMPLETE",
         2014,
         6
        ],
        [
         "4508",
         "EmmaCalderon",
         "2014-06-02",
         "Austin",
         "TX",
         "COMPLETE",
         2014,
         6
        ],
        [
         "3109",
         "JackJames",
         "2014-06-02",
         "Fort Worth",
         "TX",
         "COMPLETE",
         2014,
         6
        ],
        [
         "6500",
         "JoyceLeblanc",
         "2014-06-02",
         "Mesquite",
         "TX",
         "COMPLETE",
         2014,
         6
        ],
        [
         "8579",
         "MaryConrad",
         "2014-06-02",
         "Fort Worth",
         "TX",
         "COMPLETE",
         2014,
         6
        ],
        [
         "4014",
         "MarySmith",
         "2014-06-01",
         "Dallas",
         "TX",
         "COMPLETE",
         2014,
         6
        ],
        [
         "5307",
         "NicholasHerman",
         "2014-06-01",
         "New Braunfels",
         "TX",
         "COMPLETE",
         2014,
         6
        ],
        [
         "4159",
         "MaryCastillo",
         "2014-06-01",
         "Laredo",
         "TX",
         "COMPLETE",
         2014,
         6
        ],
        [
         "6168",
         "ArthurLi",
         "2014-06-01",
         "Pharr",
         "TX",
         "COMPLETE",
         2014,
         6
        ],
        [
         "2970",
         "KennethSmith",
         "2014-05-31",
         "Brownsville",
         "TX",
         "COMPLETE",
         2014,
         5
        ],
        [
         "3153",
         "MarySmith",
         "2014-05-31",
         "Grand Prairie",
         "TX",
         "COMPLETE",
         2014,
         5
        ],
        [
         "10029",
         "MarySilva",
         "2014-05-31",
         "Carrollton",
         "TX",
         "COMPLETE",
         2014,
         5
        ],
        [
         "7316",
         "MarilynWu",
         "2014-05-30",
         "Baytown",
         "TX",
         "COMPLETE",
         2014,
         5
        ],
        [
         "7244",
         "JeremyWashington",
         "2014-05-30",
         "College Station",
         "TX",
         "COMPLETE",
         2014,
         5
        ],
        [
         "4170",
         "DebraSmith",
         "2014-05-29",
         "Amarillo",
         "TX",
         "COMPLETE",
         2014,
         5
        ],
        [
         "1870",
         "TiffanyGreer",
         "2014-05-29",
         "Amarillo",
         "TX",
         "COMPLETE",
         2014,
         5
        ],
        [
         "12323",
         "StevenSmith",
         "2014-05-28",
         "San Antonio",
         "TX",
         "COMPLETE",
         2014,
         5
        ],
        [
         "340",
         "TheresaWiggins",
         "2014-05-28",
         "Denton",
         "TX",
         "COMPLETE",
         2014,
         5
        ],
        [
         "86",
         "JohnSmith",
         "2014-05-28",
         "Fort Worth",
         "TX",
         "COMPLETE",
         2014,
         5
        ],
        [
         "10776",
         "AmyCompton",
         "2014-05-28",
         "Fort Worth",
         "TX",
         "COMPLETE",
         2014,
         5
        ],
        [
         "8038",
         "DonaldSmith",
         "2014-05-28",
         "Denton",
         "TX",
         "COMPLETE",
         2014,
         5
        ],
        [
         "2497",
         "WayneHardy",
         "2014-05-27",
         "Mesquite",
         "TX",
         "COMPLETE",
         2014,
         5
        ],
        [
         "2321",
         "MaryPatel",
         "2014-05-26",
         "Houston",
         "TX",
         "COMPLETE",
         2014,
         5
        ],
        [
         "2292",
         "AshleySmith",
         "2014-05-26",
         "San Benito",
         "TX",
         "COMPLETE",
         2014,
         5
        ],
        [
         "5369",
         "MaryShort",
         "2014-05-26",
         "North Richland Hills",
         "TX",
         "COMPLETE",
         2014,
         5
        ],
        [
         "9263",
         "JoeSmith",
         "2014-05-26",
         "Dallas",
         "TX",
         "COMPLETE",
         2014,
         5
        ],
        [
         "6342",
         "KimberlyBlair",
         "2014-05-26",
         "El Paso",
         "TX",
         "COMPLETE",
         2014,
         5
        ],
        [
         "5259",
         "DennisSmith",
         "2014-05-25",
         "Houston",
         "TX",
         "COMPLETE",
         2014,
         5
        ],
        [
         "3153",
         "MarySmith",
         "2014-05-25",
         "Grand Prairie",
         "TX",
         "COMPLETE",
         2014,
         5
        ],
        [
         "4014",
         "MarySmith",
         "2014-05-25",
         "Dallas",
         "TX",
         "COMPLETE",
         2014,
         5
        ],
        [
         "2247",
         "AliceWerner",
         "2014-05-24",
         "Laredo",
         "TX",
         "COMPLETE",
         2014,
         5
        ],
        [
         "6948",
         "MarySmith",
         "2014-05-24",
         "Round Rock",
         "TX",
         "COMPLETE",
         2014,
         5
        ],
        [
         "2641",
         "BettySpears",
         "2014-05-24",
         "Carrollton",
         "TX",
         "COMPLETE",
         2014,
         5
        ],
        [
         "1836",
         "HowardLee",
         "2014-05-24",
         "Dallas",
         "TX",
         "COMPLETE",
         2014,
         5
        ],
        [
         "82",
         "JonathanCook",
         "2014-05-24",
         "San Antonio",
         "TX",
         "COMPLETE",
         2014,
         5
        ],
        [
         "5384",
         "ChristopherSmith",
         "2014-05-24",
         "Houston",
         "TX",
         "COMPLETE",
         2014,
         5
        ],
        [
         "10051",
         "KathrynSmith",
         "2014-05-23",
         "Weslaco",
         "TX",
         "COMPLETE",
         2014,
         5
        ],
        [
         "8391",
         "RobertSmith",
         "2014-05-23",
         "Amarillo",
         "TX",
         "COMPLETE",
         2014,
         5
        ],
        [
         "4531",
         "GaryShaffer",
         "2014-05-22",
         "Laredo",
         "TX",
         "COMPLETE",
         2014,
         5
        ],
        [
         "1716",
         "SandraSmith",
         "2014-05-22",
         "Houston",
         "TX",
         "COMPLETE",
         2014,
         5
        ],
        [
         "10256",
         "MaryLittle",
         "2014-05-21",
         "Dallas",
         "TX",
         "COMPLETE",
         2014,
         5
        ],
        [
         "11450",
         "DonaldNelson",
         "2014-05-21",
         "Laredo",
         "TX",
         "COMPLETE",
         2014,
         5
        ],
        [
         "126",
         "AustinSmith",
         "2014-05-20",
         "Amarillo",
         "TX",
         "COMPLETE",
         2014,
         5
        ],
        [
         "11554",
         "HannahMarshall",
         "2014-05-20",
         "San Benito",
         "TX",
         "COMPLETE",
         2014,
         5
        ],
        [
         "3982",
         "RogerOliver",
         "2014-05-20",
         "Dallas",
         "TX",
         "COMPLETE",
         2014,
         5
        ],
        [
         "10448",
         "NancyGilbert",
         "2014-05-20",
         "Dallas",
         "TX",
         "COMPLETE",
         2014,
         5
        ],
        [
         "4288",
         "MaryAvery",
         "2014-05-19",
         "Carrollton",
         "TX",
         "COMPLETE",
         2014,
         5
        ],
        [
         "10503",
         "JaniceSmith",
         "2014-05-19",
         "Dallas",
         "TX",
         "COMPLETE",
         2014,
         5
        ],
        [
         "940",
         "StevenSmith",
         "2014-05-18",
         "El Paso",
         "TX",
         "COMPLETE",
         2014,
         5
        ],
        [
         "12063",
         "LarryHenderson",
         "2014-05-18",
         "Fort Worth",
         "TX",
         "COMPLETE",
         2014,
         5
        ],
        [
         "2315",
         "PaulShelton",
         "2014-05-18",
         "Weslaco",
         "TX",
         "COMPLETE",
         2014,
         5
        ],
        [
         "2364",
         "ThomasWhitney",
         "2014-05-18",
         "Katy",
         "TX",
         "COMPLETE",
         2014,
         5
        ],
        [
         "9018",
         "MarySmith",
         "2014-05-17",
         "Dallas",
         "TX",
         "COMPLETE",
         2014,
         5
        ],
        [
         "6988",
         "WayneBryant",
         "2014-05-17",
         "Denton",
         "TX",
         "COMPLETE",
         2014,
         5
        ],
        [
         "7606",
         "MaryKhan",
         "2014-05-17",
         "San Antonio",
         "TX",
         "COMPLETE",
         2014,
         5
        ],
        [
         "9908",
         "BenjaminSmith",
         "2014-05-16",
         "Baytown",
         "TX",
         "COMPLETE",
         2014,
         5
        ],
        [
         "7623",
         "MatthewSmith",
         "2014-05-16",
         "San Antonio",
         "TX",
         "COMPLETE",
         2014,
         5
        ],
        [
         "4954",
         "MarySmith",
         "2014-05-16",
         "Houston",
         "TX",
         "COMPLETE",
         2014,
         5
        ],
        [
         "8238",
         "JesseSmith",
         "2014-05-16",
         "Mesquite",
         "TX",
         "COMPLETE",
         2014,
         5
        ],
        [
         "9626",
         "DorothyFrye",
         "2014-05-16",
         "El Paso",
         "TX",
         "COMPLETE",
         2014,
         5
        ],
        [
         "8001",
         "MarySmith",
         "2014-05-16",
         "Houston",
         "TX",
         "COMPLETE",
         2014,
         5
        ],
        [
         "7645",
         "BrandonStephens",
         "2014-05-16",
         "Laredo",
         "TX",
         "COMPLETE",
         2014,
         5
        ],
        [
         "1006",
         "MaryLittle",
         "2014-05-16",
         "Laredo",
         "TX",
         "COMPLETE",
         2014,
         5
        ],
        [
         "7606",
         "MaryKhan",
         "2014-05-15",
         "San Antonio",
         "TX",
         "COMPLETE",
         2014,
         5
        ],
        [
         "6090",
         "MarySmith",
         "2014-05-14",
         "Houston",
         "TX",
         "COMPLETE",
         2014,
         5
        ],
        [
         "9609",
         "MaryLucero",
         "2014-05-14",
         "Houston",
         "TX",
         "COMPLETE",
         2014,
         5
        ],
        [
         "7537",
         "StephenLee",
         "2014-05-14",
         "San Antonio",
         "TX",
         "COMPLETE",
         2014,
         5
        ],
        [
         "1985",
         "LisaHudson",
         "2014-05-13",
         "San Antonio",
         "TX",
         "COMPLETE",
         2014,
         5
        ],
        [
         "7606",
         "MaryKhan",
         "2014-05-12",
         "San Antonio",
         "TX",
         "COMPLETE",
         2014,
         5
        ],
        [
         "8582",
         "EdwardSmith",
         "2014-05-11",
         "Houston",
         "TX",
         "COMPLETE",
         2014,
         5
        ],
        [
         "7602",
         "BrianMitchell",
         "2014-05-11",
         "Harlingen",
         "TX",
         "COMPLETE",
         2014,
         5
        ],
        [
         "12169",
         "MaryKrueger",
         "2014-05-11",
         "Mesquite",
         "TX",
         "COMPLETE",
         2014,
         5
        ],
        [
         "6513",
         "MarySmith",
         "2014-05-11",
         "Sugar Land",
         "TX",
         "COMPLETE",
         2014,
         5
        ],
        [
         "4698",
         "MaryCollier",
         "2014-05-10",
         "College Station",
         "TX",
         "COMPLETE",
         2014,
         5
        ],
        [
         "11324",
         "MarthaBurnett",
         "2014-05-10",
         "Dallas",
         "TX",
         "COMPLETE",
         2014,
         5
        ],
        [
         "1343",
         "JuliaSmith",
         "2014-05-10",
         "Del Rio",
         "TX",
         "COMPLETE",
         2014,
         5
        ],
        [
         "7606",
         "MaryKhan",
         "2014-05-10",
         "San Antonio",
         "TX",
         "COMPLETE",
         2014,
         5
        ],
        [
         "7523",
         "MargaretVilla",
         "2014-05-09",
         "San Antonio",
         "TX",
         "COMPLETE",
         2014,
         5
        ],
        [
         "4963",
         "MarySmith",
         "2014-05-09",
         "Brownsville",
         "TX",
         "COMPLETE",
         2014,
         5
        ],
        [
         "7013",
         "AmberSmith",
         "2014-05-09",
         "Amarillo",
         "TX",
         "COMPLETE",
         2014,
         5
        ],
        [
         "11437",
         "JasonDalton",
         "2014-05-09",
         "Dallas",
         "TX",
         "COMPLETE",
         2014,
         5
        ],
        [
         "5987",
         "MarySmith",
         "2014-05-09",
         "Houston",
         "TX",
         "COMPLETE",
         2014,
         5
        ],
        [
         "11618",
         "TammySmith",
         "2014-05-09",
         "Houston",
         "TX",
         "COMPLETE",
         2014,
         5
        ],
        [
         "1258",
         "MaryDyer",
         "2014-05-08",
         "Houston",
         "TX",
         "COMPLETE",
         2014,
         5
        ],
        [
         "9692",
         "CarolynPrice",
         "2014-05-07",
         "Laredo",
         "TX",
         "COMPLETE",
         2014,
         5
        ],
        [
         "5303",
         "DianaShepherd",
         "2014-05-06",
         "Carrollton",
         "TX",
         "COMPLETE",
         2014,
         5
        ],
        [
         "2430",
         "MichelleSmith",
         "2014-05-06",
         "Dallas",
         "TX",
         "COMPLETE",
         2014,
         5
        ],
        [
         "12302",
         "DonaldSampson",
         "2014-05-06",
         "Austin",
         "TX",
         "COMPLETE",
         2014,
         5
        ],
        [
         "4945",
         "MaryMeza",
         "2014-05-06",
         "Brownsville",
         "TX",
         "COMPLETE",
         2014,
         5
        ],
        [
         "996",
         "AmandaSmith",
         "2014-05-06",
         "Austin",
         "TX",
         "COMPLETE",
         2014,
         5
        ],
        [
         "3404",
         "BillyThompson",
         "2014-05-05",
         "College Station",
         "TX",
         "COMPLETE",
         2014,
         5
        ],
        [
         "4413",
         "JamesSmith",
         "2014-05-05",
         "Sugar Land",
         "TX",
         "COMPLETE",
         2014,
         5
        ],
        [
         "7244",
         "JeremyWashington",
         "2014-05-05",
         "College Station",
         "TX",
         "COMPLETE",
         2014,
         5
        ],
        [
         "5829",
         "MarySmith",
         "2014-05-03",
         "Houston",
         "TX",
         "COMPLETE",
         2014,
         5
        ],
        [
         "7714",
         "CarolynSmith",
         "2014-05-03",
         "Houston",
         "TX",
         "COMPLETE",
         2014,
         5
        ],
        [
         "3430",
         "AliceRusso",
         "2014-05-03",
         "Houston",
         "TX",
         "COMPLETE",
         2014,
         5
        ],
        [
         "1756",
         "JasonDixon",
         "2014-05-03",
         "Dallas",
         "TX",
         "COMPLETE",
         2014,
         5
        ],
        [
         "7738",
         "MarySmith",
         "2014-05-02",
         "Pharr",
         "TX",
         "COMPLETE",
         2014,
         5
        ],
        [
         "7621",
         "JackSmith",
         "2014-05-02",
         "College Station",
         "TX",
         "COMPLETE",
         2014,
         5
        ],
        [
         "1168",
         "ElizabethMccann",
         "2014-05-02",
         "Edinburg",
         "TX",
         "COMPLETE",
         2014,
         5
        ],
        [
         "7905",
         "CynthiaGarcia",
         "2014-05-02",
         "Brownsville",
         "TX",
         "COMPLETE",
         2014,
         5
        ],
        [
         "5902",
         "MaryJones",
         "2014-05-02",
         "Mission",
         "TX",
         "COMPLETE",
         2014,
         5
        ],
        [
         "4500",
         "JesseFields",
         "2014-05-01",
         "Edinburg",
         "TX",
         "COMPLETE",
         2014,
         5
        ],
        [
         "5395",
         "MaryBell",
         "2014-05-01",
         "San Antonio",
         "TX",
         "COMPLETE",
         2014,
         5
        ],
        [
         "2532",
         "CharlesSmith",
         "2014-05-01",
         "Carrollton",
         "TX",
         "COMPLETE",
         2014,
         5
        ],
        [
         "1716",
         "SandraSmith",
         "2014-04-30",
         "Houston",
         "TX",
         "COMPLETE",
         2014,
         4
        ],
        [
         "8534",
         "MaryRose",
         "2014-04-29",
         "San Antonio",
         "TX",
         "COMPLETE",
         2014,
         4
        ],
        [
         "5749",
         "MarySmith",
         "2014-04-29",
         "Houston",
         "TX",
         "COMPLETE",
         2014,
         4
        ],
        [
         "7917",
         "AshleyPalmer",
         "2014-04-29",
         "Dallas",
         "TX",
         "COMPLETE",
         2014,
         4
        ],
        [
         "6342",
         "KimberlyBlair",
         "2014-04-29",
         "El Paso",
         "TX",
         "COMPLETE",
         2014,
         4
        ],
        [
         "766",
         "MarySmith",
         "2014-04-28",
         "Austin",
         "TX",
         "COMPLETE",
         2014,
         4
        ],
        [
         "2321",
         "MaryPatel",
         "2014-04-28",
         "Houston",
         "TX",
         "COMPLETE",
         2014,
         4
        ],
        [
         "1659",
         "MarySmith",
         "2014-04-28",
         "Weslaco",
         "TX",
         "COMPLETE",
         2014,
         4
        ],
        [
         "12103",
         "MarySmith",
         "2014-04-28",
         "San Benito",
         "TX",
         "COMPLETE",
         2014,
         4
        ],
        [
         "10641",
         "MaryHodges",
         "2014-04-26",
         "Irving",
         "TX",
         "COMPLETE",
         2014,
         4
        ],
        [
         "8221",
         "JanetSampson",
         "2014-04-26",
         "New Braunfels",
         "TX",
         "COMPLETE",
         2014,
         4
        ],
        [
         "6143",
         "DeborahBarber",
         "2014-04-26",
         "Irving",
         "TX",
         "COMPLETE",
         2014,
         4
        ],
        [
         "8975",
         "NancyMata",
         "2014-04-26",
         "Fort Worth",
         "TX",
         "COMPLETE",
         2014,
         4
        ],
        [
         "2247",
         "AliceWerner",
         "2014-04-25",
         "Laredo",
         "TX",
         "COMPLETE",
         2014,
         4
        ],
        [
         "8382",
         "JoshuaMullins",
         "2014-04-25",
         "Fort Worth",
         "TX",
         "COMPLETE",
         2014,
         4
        ],
        [
         "5324",
         "MaryPatterson",
         "2014-04-25",
         "Houston",
         "TX",
         "COMPLETE",
         2014,
         4
        ],
        [
         "5902",
         "MaryJones",
         "2014-04-25",
         "Mission",
         "TX",
         "COMPLETE",
         2014,
         4
        ],
        [
         "4563",
         "MelissaPowell",
         "2014-04-25",
         "Dallas",
         "TX",
         "COMPLETE",
         2014,
         4
        ],
        [
         "7212",
         "MaryHoward",
         "2014-04-25",
         "Fort Worth",
         "TX",
         "COMPLETE",
         2014,
         4
        ],
        [
         "2882",
         "MaryDecker",
         "2014-04-24",
         "Amarillo",
         "TX",
         "COMPLETE",
         2014,
         4
        ],
        [
         "7333",
         "JuliaSmith",
         "2014-04-24",
         "Richardson",
         "TX",
         "COMPLETE",
         2014,
         4
        ],
        [
         "11428",
         "RaymondSantana",
         "2014-04-23",
         "Fort Worth",
         "TX",
         "COMPLETE",
         2014,
         4
        ],
        [
         "854",
         "DanielSmith",
         "2014-04-23",
         "Del Rio",
         "TX",
         "COMPLETE",
         2014,
         4
        ],
        [
         "8811",
         "ChristineRodriguez",
         "2014-04-23",
         "Houston",
         "TX",
         "COMPLETE",
         2014,
         4
        ],
        [
         "3911",
         "MargaretMelton",
         "2014-04-23",
         "El Paso",
         "TX",
         "COMPLETE",
         2014,
         4
        ],
        [
         "4945",
         "MaryMeza",
         "2014-04-23",
         "Brownsville",
         "TX",
         "COMPLETE",
         2014,
         4
        ],
        [
         "6907",
         "TimothySmith",
         "2014-04-23",
         "El Paso",
         "TX",
         "COMPLETE",
         2014,
         4
        ],
        [
         "9849",
         "MarySmith",
         "2014-04-22",
         "Dallas",
         "TX",
         "COMPLETE",
         2014,
         4
        ],
        [
         "420",
         "JoseWright",
         "2014-04-22",
         "Round Rock",
         "TX",
         "COMPLETE",
         2014,
         4
        ],
        [
         "9532",
         "AnnSmith",
         "2014-04-22",
         "Amarillo",
         "TX",
         "COMPLETE",
         2014,
         4
        ],
        [
         "11632",
         "MarySmith",
         "2014-04-22",
         "San Antonio",
         "TX",
         "COMPLETE",
         2014,
         4
        ],
        [
         "808",
         "MarySmith",
         "2014-04-22",
         "San Benito",
         "TX",
         "COMPLETE",
         2014,
         4
        ],
        [
         "1731",
         "MichelleBennett",
         "2014-04-22",
         "Spring",
         "TX",
         "COMPLETE",
         2014,
         4
        ],
        [
         "2532",
         "CharlesSmith",
         "2014-04-22",
         "Carrollton",
         "TX",
         "COMPLETE",
         2014,
         4
        ],
        [
         "9585",
         "FrancesSmith",
         "2014-04-21",
         "Sugar Land",
         "TX",
         "COMPLETE",
         2014,
         4
        ],
        [
         "9761",
         "HelenSmith",
         "2014-04-21",
         "Brownsville",
         "TX",
         "COMPLETE",
         2014,
         4
        ],
        [
         "6168",
         "ArthurLi",
         "2014-04-21",
         "Pharr",
         "TX",
         "COMPLETE",
         2014,
         4
        ],
        [
         "2805",
         "WillieSmith",
         "2014-04-21",
         "Houston",
         "TX",
         "COMPLETE",
         2014,
         4
        ],
        [
         "9666",
         "MaryCollins",
         "2014-04-21",
         "College Station",
         "TX",
         "COMPLETE",
         2014,
         4
        ],
        [
         "9763",
         "MaryDean",
         "2014-04-21",
         "Irving",
         "TX",
         "COMPLETE",
         2014,
         4
        ],
        [
         "8534",
         "MaryRose",
         "2014-04-20",
         "San Antonio",
         "TX",
         "COMPLETE",
         2014,
         4
        ],
        [
         "1848",
         "MaryBrown",
         "2014-04-19",
         "Dallas",
         "TX",
         "COMPLETE",
         2014,
         4
        ],
        [
         "11565",
         "RosePena",
         "2014-04-18",
         "Harlingen",
         "TX",
         "COMPLETE",
         2014,
         4
        ],
        [
         "7947",
         "MaryAndrews",
         "2014-04-18",
         "Richardson",
         "TX",
         "COMPLETE",
         2014,
         4
        ],
        [
         "7645",
         "BrandonStephens",
         "2014-04-18",
         "Laredo",
         "TX",
         "COMPLETE",
         2014,
         4
        ],
        [
         "7431",
         "MaryFry",
         "2014-04-18",
         "Houston",
         "TX",
         "COMPLETE",
         2014,
         4
        ],
        [
         "12146",
         "MaryMitchell",
         "2014-04-18",
         "Houston",
         "TX",
         "COMPLETE",
         2014,
         4
        ],
        [
         "1119",
         "BryanRamos",
         "2014-04-17",
         "North Richland Hills",
         "TX",
         "COMPLETE",
         2014,
         4
        ],
        [
         "2195",
         "WalterSmith",
         "2014-04-17",
         "Dallas",
         "TX",
         "COMPLETE",
         2014,
         4
        ],
        [
         "7928",
         "MadisonSmith",
         "2014-04-16",
         "Irving",
         "TX",
         "COMPLETE",
         2014,
         4
        ],
        [
         "1806",
         "RogerSmith",
         "2014-04-16",
         "El Paso",
         "TX",
         "COMPLETE",
         2014,
         4
        ],
        [
         "2564",
         "PhillipSmith",
         "2014-04-15",
         "Amarillo",
         "TX",
         "COMPLETE",
         2014,
         4
        ],
        [
         "4694",
         "MaryRivera",
         "2014-04-15",
         "Del Rio",
         "TX",
         "COMPLETE",
         2014,
         4
        ],
        [
         "1076",
         "TylerThompson",
         "2014-04-14",
         "Fort Worth",
         "TX",
         "COMPLETE",
         2014,
         4
        ],
        [
         "3850",
         "ChristinaNelson",
         "2014-04-14",
         "El Paso",
         "TX",
         "COMPLETE",
         2014,
         4
        ],
        [
         "6075",
         "MarySmith",
         "2014-04-14",
         "Austin",
         "TX",
         "COMPLETE",
         2014,
         4
        ],
        [
         "12302",
         "DonaldSampson",
         "2014-04-14",
         "Austin",
         "TX",
         "COMPLETE",
         2014,
         4
        ],
        [
         "6387",
         "JohnJacobs",
         "2014-04-13",
         "San Benito",
         "TX",
         "COMPLETE",
         2014,
         4
        ],
        [
         "9681",
         "MarySweeney",
         "2014-04-13",
         "Dallas",
         "TX",
         "COMPLETE",
         2014,
         4
        ],
        [
         "4054",
         "MarySmith",
         "2014-04-12",
         "Austin",
         "TX",
         "COMPLETE",
         2014,
         4
        ],
        [
         "8141",
         "RoySmith",
         "2014-04-12",
         "Houston",
         "TX",
         "COMPLETE",
         2014,
         4
        ],
        [
         "248",
         "ChristinaWalsh",
         "2014-04-12",
         "Houston",
         "TX",
         "COMPLETE",
         2014,
         4
        ],
        [
         "1303",
         "MaryContreras",
         "2014-04-12",
         "Dallas",
         "TX",
         "COMPLETE",
         2014,
         4
        ],
        [
         "7105",
         "AngelaSmith",
         "2014-04-11",
         "El Paso",
         "TX",
         "COMPLETE",
         2014,
         4
        ],
        [
         "10082",
         "AnnaSmith",
         "2014-04-10",
         "Brownsville",
         "TX",
         "COMPLETE",
         2014,
         4
        ],
        [
         "12302",
         "DonaldSampson",
         "2014-04-10",
         "Austin",
         "TX",
         "COMPLETE",
         2014,
         4
        ],
        [
         "11632",
         "MarySmith",
         "2014-04-10",
         "San Antonio",
         "TX",
         "COMPLETE",
         2014,
         4
        ],
        [
         "11953",
         "WillieGalvan",
         "2014-04-10",
         "Mission",
         "TX",
         "COMPLETE",
         2014,
         4
        ],
        [
         "7638",
         "MarySmith",
         "2014-04-10",
         "El Paso",
         "TX",
         "COMPLETE",
         2014,
         4
        ],
        [
         "3850",
         "ChristinaNelson",
         "2014-04-10",
         "El Paso",
         "TX",
         "COMPLETE",
         2014,
         4
        ],
        [
         "386",
         "JanetWallace",
         "2014-04-09",
         "Richmond",
         "TX",
         "COMPLETE",
         2014,
         4
        ],
        [
         "8238",
         "JesseSmith",
         "2014-04-09",
         "Mesquite",
         "TX",
         "COMPLETE",
         2014,
         4
        ],
        [
         "5984",
         "JanetNorton",
         "2014-04-09",
         "Dallas",
         "TX",
         "COMPLETE",
         2014,
         4
        ],
        [
         "2351",
         "MaryFuller",
         "2014-04-08",
         "Houston",
         "TX",
         "COMPLETE",
         2014,
         4
        ],
        [
         "11148",
         "LisaKeith",
         "2014-04-08",
         "San Antonio",
         "TX",
         "COMPLETE",
         2014,
         4
        ],
        [
         "8074",
         "MaryHarris",
         "2014-04-08",
         "College Station",
         "TX",
         "COMPLETE",
         2014,
         4
        ],
        [
         "1932",
         "ShirleyPerez",
         "2014-04-07",
         "Irving",
         "TX",
         "COMPLETE",
         2014,
         4
        ],
        [
         "979",
         "MarySmith",
         "2014-04-06",
         "Austin",
         "TX",
         "COMPLETE",
         2014,
         4
        ],
        [
         "9367",
         "RyanSmith",
         "2014-04-06",
         "San Benito",
         "TX",
         "COMPLETE",
         2014,
         4
        ],
        [
         "2348",
         "MaryWelch",
         "2014-04-05",
         "El Paso",
         "TX",
         "COMPLETE",
         2014,
         4
        ],
        [
         "7602",
         "BrianMitchell",
         "2014-04-05",
         "Harlingen",
         "TX",
         "COMPLETE",
         2014,
         4
        ],
        [
         "7623",
         "MatthewSmith",
         "2014-04-05",
         "San Antonio",
         "TX",
         "COMPLETE",
         2014,
         4
        ],
        [
         "8417",
         "MarySmith",
         "2014-04-04",
         "Houston",
         "TX",
         "COMPLETE",
         2014,
         4
        ],
        [
         "6058",
         "LaurenSmith",
         "2014-04-03",
         "San Antonio",
         "TX",
         "COMPLETE",
         2014,
         4
        ],
        [
         "10405",
         "MaryDurham",
         "2014-04-03",
         "Houston",
         "TX",
         "COMPLETE",
         2014,
         4
        ],
        [
         "4014",
         "MarySmith",
         "2014-04-02",
         "Dallas",
         "TX",
         "COMPLETE",
         2014,
         4
        ],
        [
         "5778",
         "EvelynSmith",
         "2014-04-02",
         "Eagle Pass",
         "TX",
         "COMPLETE",
         2014,
         4
        ],
        [
         "86",
         "JohnSmith",
         "2014-04-02",
         "Fort Worth",
         "TX",
         "COMPLETE",
         2014,
         4
        ],
        [
         "1716",
         "SandraSmith",
         "2014-04-01",
         "Houston",
         "TX",
         "COMPLETE",
         2014,
         4
        ],
        [
         "2489",
         "AmandaSmith",
         "2014-04-01",
         "San Antonio",
         "TX",
         "COMPLETE",
         2014,
         4
        ],
        [
         "11457",
         "JonathanSmith",
         "2014-04-01",
         "San Benito",
         "TX",
         "COMPLETE",
         2014,
         4
        ],
        [
         "2154",
         "MaryAndrews",
         "2014-04-01",
         "Laredo",
         "TX",
         "COMPLETE",
         2014,
         4
        ],
        [
         "1716",
         "SandraSmith",
         "2014-03-31",
         "Houston",
         "TX",
         "COMPLETE",
         2014,
         3
        ],
        [
         "9658",
         "MaryJimenez",
         "2014-03-31",
         "Houston",
         "TX",
         "COMPLETE",
         2014,
         3
        ],
        [
         "252",
         "MaryFrazier",
         "2014-03-31",
         "Richardson",
         "TX",
         "COMPLETE",
         2014,
         3
        ],
        [
         "6561",
         "JaneDay",
         "2014-03-31",
         "San Benito",
         "TX",
         "COMPLETE",
         2014,
         3
        ],
        [
         "2970",
         "KennethSmith",
         "2014-03-31",
         "Brownsville",
         "TX",
         "COMPLETE",
         2014,
         3
        ],
        [
         "91",
         "AshleySmith",
         "2014-03-30",
         "Spring",
         "TX",
         "COMPLETE",
         2014,
         3
        ],
        [
         "7551",
         "RobertRichardson",
         "2014-03-30",
         "El Paso",
         "TX",
         "COMPLETE",
         2014,
         3
        ],
        [
         "7666",
         "CynthiaSmith",
         "2014-03-30",
         "Pharr",
         "TX",
         "COMPLETE",
         2014,
         3
        ],
        [
         "9127",
         "MaryNolan",
         "2014-03-30",
         "Dallas",
         "TX",
         "COMPLETE",
         2014,
         3
        ],
        [
         "1046",
         "MarySmith",
         "2014-03-30",
         "San Antonio",
         "TX",
         "COMPLETE",
         2014,
         3
        ],
        [
         "9798",
         "BrittanyFrench",
         "2014-03-30",
         "Houston",
         "TX",
         "COMPLETE",
         2014,
         3
        ],
        [
         "954",
         "BrandonFitzgerald",
         "2014-03-30",
         "Richmond",
         "TX",
         "COMPLETE",
         2014,
         3
        ],
        [
         "8003",
         "DianeZimmerman",
         "2014-03-29",
         "El Paso",
         "TX",
         "COMPLETE",
         2014,
         3
        ],
        [
         "6963",
         "MarySmith",
         "2014-03-29",
         "Harlingen",
         "TX",
         "COMPLETE",
         2014,
         3
        ],
        [
         "3489",
         "LarryWaller",
         "2014-03-29",
         "Austin",
         "TX",
         "COMPLETE",
         2014,
         3
        ],
        [
         "2130",
         "MarySmith",
         "2014-03-29",
         "Austin",
         "TX",
         "COMPLETE",
         2014,
         3
        ],
        [
         "8835",
         "MarySmith",
         "2014-03-29",
         "Richmond",
         "TX",
         "COMPLETE",
         2014,
         3
        ],
        [
         "2353",
         "MarySmith",
         "2014-03-27",
         "Dallas",
         "TX",
         "COMPLETE",
         2014,
         3
        ],
        [
         "3037",
         "ChristopherSmith",
         "2014-03-27",
         "Houston",
         "TX",
         "COMPLETE",
         2014,
         3
        ],
        [
         "11033",
         "MatthewFields",
         "2014-03-27",
         "Laredo",
         "TX",
         "COMPLETE",
         2014,
         3
        ],
        [
         "7414",
         "DorothySmith",
         "2014-03-27",
         "Laredo",
         "TX",
         "COMPLETE",
         2014,
         3
        ],
        [
         "4619",
         "MaryNelson",
         "2014-03-27",
         "Richmond",
         "TX",
         "COMPLETE",
         2014,
         3
        ],
        [
         "8221",
         "JanetSampson",
         "2014-03-27",
         "New Braunfels",
         "TX",
         "COMPLETE",
         2014,
         3
        ],
        [
         "4195",
         "KatherineLawrence",
         "2014-03-27",
         "Dallas",
         "TX",
         "COMPLETE",
         2014,
         3
        ],
        [
         "82",
         "JonathanCook",
         "2014-03-26",
         "San Antonio",
         "TX",
         "COMPLETE",
         2014,
         3
        ],
        [
         "3153",
         "MarySmith",
         "2014-03-26",
         "Grand Prairie",
         "TX",
         "COMPLETE",
         2014,
         3
        ],
        [
         "3149",
         "EdwardDennis",
         "2014-03-26",
         "Dallas",
         "TX",
         "COMPLETE",
         2014,
         3
        ],
        [
         "126",
         "AustinSmith",
         "2014-03-25",
         "Amarillo",
         "TX",
         "COMPLETE",
         2014,
         3
        ],
        [
         "1702",
         "MarySmith",
         "2014-03-24",
         "Austin",
         "TX",
         "COMPLETE",
         2014,
         3
        ],
        [
         "9622",
         "RoySmith",
         "2014-03-24",
         "Mission",
         "TX",
         "COMPLETE",
         2014,
         3
        ],
        [
         "11315",
         "KimberlyCampos",
         "2014-03-23",
         "College Station",
         "TX",
         "COMPLETE",
         2014,
         3
        ],
        [
         "8003",
         "DianeZimmerman",
         "2014-03-23",
         "El Paso",
         "TX",
         "COMPLETE",
         2014,
         3
        ],
        [
         "3651",
         "MarySanders",
         "2014-03-23",
         "San Antonio",
         "TX",
         "COMPLETE",
         2014,
         3
        ],
        [
         "6926",
         "AshleyPowell",
         "2014-03-22",
         "Harlingen",
         "TX",
         "COMPLETE",
         2014,
         3
        ],
        [
         "11708",
         "LauraSmith",
         "2014-03-22",
         "Plano",
         "TX",
         "COMPLETE",
         2014,
         3
        ],
        [
         "5369",
         "MaryShort",
         "2014-03-22",
         "North Richland Hills",
         "TX",
         "COMPLETE",
         2014,
         3
        ],
        [
         "3181",
         "MaryHopkins",
         "2014-03-22",
         "Del Rio",
         "TX",
         "COMPLETE",
         2014,
         3
        ],
        [
         "8321",
         "KennethSmith",
         "2014-03-21",
         "Sugar Land",
         "TX",
         "COMPLETE",
         2014,
         3
        ],
        [
         "7738",
         "MarySmith",
         "2014-03-20",
         "Pharr",
         "TX",
         "COMPLETE",
         2014,
         3
        ],
        [
         "12146",
         "MaryMitchell",
         "2014-03-20",
         "Houston",
         "TX",
         "COMPLETE",
         2014,
         3
        ],
        [
         "3322",
         "JoyceSmith",
         "2014-03-19",
         "Del Rio",
         "TX",
         "COMPLETE",
         2014,
         3
        ],
        [
         "9502",
         "MatthewLove",
         "2014-03-19",
         "El Paso",
         "TX",
         "COMPLETE",
         2014,
         3
        ],
        [
         "10943",
         "MaryChapman",
         "2014-03-18",
         "Plano",
         "TX",
         "COMPLETE",
         2014,
         3
        ],
        [
         "10256",
         "MaryLittle",
         "2014-03-18",
         "Dallas",
         "TX",
         "COMPLETE",
         2014,
         3
        ],
        [
         "10100",
         "SeanNavarro",
         "2014-03-18",
         "Sugar Land",
         "TX",
         "COMPLETE",
         2014,
         3
        ],
        [
         "1929",
         "KathrynSmith",
         "2014-03-17",
         "San Antonio",
         "TX",
         "COMPLETE",
         2014,
         3
        ],
        [
         "626",
         "MaryWeeks",
         "2014-03-16",
         "Dallas",
         "TX",
         "COMPLETE",
         2014,
         3
        ],
        [
         "2925",
         "MaryBaird",
         "2014-03-16",
         "Houston",
         "TX",
         "COMPLETE",
         2014,
         3
        ],
        [
         "2547",
         "WalterFuller",
         "2014-03-16",
         "North Richland Hills",
         "TX",
         "COMPLETE",
         2014,
         3
        ],
        [
         "2064",
         "DavidGarrison",
         "2014-03-16",
         "Dallas",
         "TX",
         "COMPLETE",
         2014,
         3
        ],
        [
         "9502",
         "MatthewLove",
         "2014-03-15",
         "El Paso",
         "TX",
         "COMPLETE",
         2014,
         3
        ],
        [
         "6513",
         "MarySmith",
         "2014-03-15",
         "Sugar Land",
         "TX",
         "COMPLETE",
         2014,
         3
        ],
        [
         "2688",
         "MaryRoss",
         "2014-03-14",
         "Irving",
         "TX",
         "COMPLETE",
         2014,
         3
        ],
        [
         "10212",
         "MaryWright",
         "2014-03-12",
         "Irving",
         "TX",
         "COMPLETE",
         2014,
         3
        ],
        [
         "12427",
         "MarySmith",
         "2014-03-12",
         "Plano",
         "TX",
         "COMPLETE",
         2014,
         3
        ],
        [
         "396",
         "DeborahSmith",
         "2014-03-11",
         "Richmond",
         "TX",
         "COMPLETE",
         2014,
         3
        ],
        [
         "2641",
         "BettySpears",
         "2014-03-11",
         "Carrollton",
         "TX",
         "COMPLETE",
         2014,
         3
        ],
        [
         "1249",
         "DonaldOdom",
         "2014-03-11",
         "San Antonio",
         "TX",
         "COMPLETE",
         2014,
         3
        ],
        [
         "10245",
         "MaryMclaughlin",
         "2014-03-11",
         "Dallas",
         "TX",
         "COMPLETE",
         2014,
         3
        ],
        [
         "2315",
         "PaulShelton",
         "2014-03-11",
         "Weslaco",
         "TX",
         "COMPLETE",
         2014,
         3
        ],
        [
         "358",
         "MeganLynch",
         "2014-03-10",
         "San Antonio",
         "TX",
         "COMPLETE",
         2014,
         3
        ],
        [
         "3153",
         "MarySmith",
         "2014-03-10",
         "Grand Prairie",
         "TX",
         "COMPLETE",
         2014,
         3
        ],
        [
         "12063",
         "LarryHenderson",
         "2014-03-10",
         "Fort Worth",
         "TX",
         "COMPLETE",
         2014,
         3
        ],
        [
         "12040",
         "ThomasMoore",
         "2014-03-10",
         "Harlingen",
         "TX",
         "COMPLETE",
         2014,
         3
        ],
        [
         "1165",
         "EdwardSmith",
         "2014-03-10",
         "Houston",
         "TX",
         "COMPLETE",
         2014,
         3
        ],
        [
         "9622",
         "RoySmith",
         "2014-03-10",
         "Mission",
         "TX",
         "COMPLETE",
         2014,
         3
        ],
        [
         "353",
         "MarySmith",
         "2014-03-10",
         "San Antonio",
         "TX",
         "COMPLETE",
         2014,
         3
        ],
        [
         "892",
         "LauraSmith",
         "2014-03-10",
         "Mesquite",
         "TX",
         "COMPLETE",
         2014,
         3
        ],
        [
         "5373",
         "PatriciaSerrano",
         "2014-03-08",
         "Houston",
         "TX",
         "COMPLETE",
         2014,
         3
        ],
        [
         "1087",
         "HeatherRomero",
         "2014-03-07",
         "Richardson",
         "TX",
         "COMPLETE",
         2014,
         3
        ],
        [
         "9271",
         "ChristopherSmith",
         "2014-03-06",
         "Fort Worth",
         "TX",
         "COMPLETE",
         2014,
         3
        ],
        [
         "151",
         "LisaShaw",
         "2014-03-06",
         "Richmond",
         "TX",
         "COMPLETE",
         2014,
         3
        ],
        [
         "9432",
         "HannahSmith",
         "2014-03-05",
         "Sugar Land",
         "TX",
         "COMPLETE",
         2014,
         3
        ],
        [
         "11287",
         "RichardRichmond",
         "2014-03-05",
         "Houston",
         "TX",
         "COMPLETE",
         2014,
         3
        ],
        [
         "1590",
         "MarySmith",
         "2014-03-05",
         "Katy",
         "TX",
         "COMPLETE",
         2014,
         3
        ],
        [
         "9646",
         "MaryRoberts",
         "2014-03-05",
         "Laredo",
         "TX",
         "COMPLETE",
         2014,
         3
        ],
        [
         "3864",
         "DavidSmith",
         "2014-03-05",
         "Laredo",
         "TX",
         "COMPLETE",
         2014,
         3
        ],
        [
         "11078",
         "DonnaHoover",
         "2014-03-04",
         "New Braunfels",
         "TX",
         "COMPLETE",
         2014,
         3
        ],
        [
         "1583",
         "SeanSmith",
         "2014-03-04",
         "Sugar Land",
         "TX",
         "COMPLETE",
         2014,
         3
        ],
        [
         "9018",
         "MarySmith",
         "2014-03-04",
         "Dallas",
         "TX",
         "COMPLETE",
         2014,
         3
        ],
        [
         "10245",
         "MaryMclaughlin",
         "2014-03-03",
         "Dallas",
         "TX",
         "COMPLETE",
         2014,
         3
        ],
        [
         "5233",
         "MarySandoval",
         "2014-03-03",
         "Houston",
         "TX",
         "COMPLETE",
         2014,
         3
        ],
        [
         "6561",
         "JaneDay",
         "2014-03-03",
         "San Benito",
         "TX",
         "COMPLETE",
         2014,
         3
        ],
        [
         "6075",
         "MarySmith",
         "2014-03-03",
         "Austin",
         "TX",
         "COMPLETE",
         2014,
         3
        ],
        [
         "6988",
         "WayneBryant",
         "2014-03-03",
         "Denton",
         "TX",
         "COMPLETE",
         2014,
         3
        ],
        [
         "4170",
         "DebraSmith",
         "2014-03-01",
         "Amarillo",
         "TX",
         "COMPLETE",
         2014,
         3
        ],
        [
         "1498",
         "PeterBray",
         "2014-03-01",
         "Houston",
         "TX",
         "COMPLETE",
         2014,
         3
        ],
        [
         "11704",
         "JohnSmith",
         "2014-03-01",
         "Katy",
         "TX",
         "COMPLETE",
         2014,
         3
        ],
        [
         "9692",
         "CarolynPrice",
         "2014-03-01",
         "Laredo",
         "TX",
         "COMPLETE",
         2014,
         3
        ],
        [
         "10618",
         "MaryOrtega",
         "2014-02-28",
         "Dallas",
         "TX",
         "COMPLETE",
         2014,
         2
        ],
        [
         "7113",
         "MaryShepherd",
         "2014-02-28",
         "North Richland Hills",
         "TX",
         "COMPLETE",
         2014,
         2
        ],
        [
         "6578",
         "RogerSmith",
         "2014-02-28",
         "Laredo",
         "TX",
         "COMPLETE",
         2014,
         2
        ],
        [
         "11471",
         "ChristopherSmith",
         "2014-02-28",
         "Round Rock",
         "TX",
         "COMPLETE",
         2014,
         2
        ],
        [
         "4963",
         "MarySmith",
         "2014-02-27",
         "Brownsville",
         "TX",
         "COMPLETE",
         2014,
         2
        ],
        [
         "2547",
         "WalterFuller",
         "2014-02-27",
         "North Richland Hills",
         "TX",
         "COMPLETE",
         2014,
         2
        ],
        [
         "6901",
         "MaryKaiser",
         "2014-02-27",
         "Garland",
         "TX",
         "COMPLETE",
         2014,
         2
        ],
        [
         "9564",
         "MaryGriffith",
         "2014-02-26",
         "Dallas",
         "TX",
         "COMPLETE",
         2014,
         2
        ],
        [
         "4023",
         "PhillipSmith",
         "2014-02-26",
         "Round Rock",
         "TX",
         "COMPLETE",
         2014,
         2
        ],
        [
         "8038",
         "DonaldSmith",
         "2014-02-26",
         "Denton",
         "TX",
         "COMPLETE",
         2014,
         2
        ],
        [
         "7248",
         "MarilynDiaz",
         "2014-02-25",
         "Houston",
         "TX",
         "COMPLETE",
         2014,
         2
        ],
        [
         "7738",
         "MarySmith",
         "2014-02-25",
         "Pharr",
         "TX",
         "COMPLETE",
         2014,
         2
        ],
        [
         "7476",
         "BenjaminCole",
         "2014-02-25",
         "Austin",
         "TX",
         "COMPLETE",
         2014,
         2
        ],
        [
         "7316",
         "MarilynWu",
         "2014-02-25",
         "Baytown",
         "TX",
         "COMPLETE",
         2014,
         2
        ],
        [
         "8307",
         "KimberlyIrwin",
         "2014-02-24",
         "Dallas",
         "TX",
         "COMPLETE",
         2014,
         2
        ],
        [
         "6143",
         "DeborahBarber",
         "2014-02-23",
         "Irving",
         "TX",
         "COMPLETE",
         2014,
         2
        ],
        [
         "5749",
         "MarySmith",
         "2014-02-23",
         "Houston",
         "TX",
         "COMPLETE",
         2014,
         2
        ],
        [
         "7248",
         "MarilynDiaz",
         "2014-02-23",
         "Houston",
         "TX",
         "COMPLETE",
         2014,
         2
        ],
        [
         "5373",
         "PatriciaSerrano",
         "2014-02-22",
         "Houston",
         "TX",
         "COMPLETE",
         2014,
         2
        ],
        [
         "2360",
         "DeniseSmith",
         "2014-02-22",
         "San Antonio",
         "TX",
         "COMPLETE",
         2014,
         2
        ],
        [
         "8538",
         "MaryNewman",
         "2014-02-22",
         "Laredo",
         "TX",
         "COMPLETE",
         2014,
         2
        ],
        [
         "8116",
         "MelissaSmith",
         "2014-02-22",
         "Dallas",
         "TX",
         "COMPLETE",
         2014,
         2
        ],
        [
         "7212",
         "MaryHoward",
         "2014-02-21",
         "Fort Worth",
         "TX",
         "COMPLETE",
         2014,
         2
        ],
        [
         "4950",
         "BrittanyHenry",
         "2014-02-21",
         "Amarillo",
         "TX",
         "COMPLETE",
         2014,
         2
        ],
        [
         "10503",
         "JaniceSmith",
         "2014-02-21",
         "Dallas",
         "TX",
         "COMPLETE",
         2014,
         2
        ],
        [
         "7414",
         "DorothySmith",
         "2014-02-21",
         "Laredo",
         "TX",
         "COMPLETE",
         2014,
         2
        ],
        [
         "7836",
         "MaryHerman",
         "2014-02-21",
         "College Station",
         "TX",
         "COMPLETE",
         2014,
         2
        ],
        [
         "8615",
         "MarySmith",
         "2014-02-20",
         "San Antonio",
         "TX",
         "COMPLETE",
         2014,
         2
        ],
        [
         "12115",
         "LawrenceSmith",
         "2014-02-20",
         "Mission",
         "TX",
         "COMPLETE",
         2014,
         2
        ],
        [
         "7928",
         "MadisonSmith",
         "2014-02-20",
         "Irving",
         "TX",
         "COMPLETE",
         2014,
         2
        ],
        [
         "3386",
         "JustinSmith",
         "2014-02-19",
         "Laredo",
         "TX",
         "COMPLETE",
         2014,
         2
        ],
        [
         "5324",
         "MaryPatterson",
         "2014-02-19",
         "Houston",
         "TX",
         "COMPLETE",
         2014,
         2
        ],
        [
         "1702",
         "MarySmith",
         "2014-02-19",
         "Austin",
         "TX",
         "COMPLETE",
         2014,
         2
        ],
        [
         "8382",
         "JoshuaMullins",
         "2014-02-19",
         "Fort Worth",
         "TX",
         "COMPLETE",
         2014,
         2
        ],
        [
         "10942",
         "DonaldSmith",
         "2014-02-19",
         "Brownsville",
         "TX",
         "COMPLETE",
         2014,
         2
        ],
        [
         "3181",
         "MaryHopkins",
         "2014-02-19",
         "Del Rio",
         "TX",
         "COMPLETE",
         2014,
         2
        ],
        [
         "7892",
         "MichaelHayes",
         "2014-02-19",
         "Dallas",
         "TX",
         "COMPLETE",
         2014,
         2
        ],
        [
         "8162",
         "PhillipSmith",
         "2014-02-19",
         "Fort Worth",
         "TX",
         "COMPLETE",
         2014,
         2
        ],
        [
         "10152",
         "WalterHughes",
         "2014-02-18",
         "Houston",
         "TX",
         "COMPLETE",
         2014,
         2
        ],
        [
         "4810",
         "MarySmith",
         "2014-02-18",
         "El Paso",
         "TX",
         "COMPLETE",
         2014,
         2
        ],
        [
         "12427",
         "MarySmith",
         "2014-02-18",
         "Plano",
         "TX",
         "COMPLETE",
         2014,
         2
        ],
        [
         "10459",
         "JasonSmith",
         "2014-02-17",
         "El Paso",
         "TX",
         "COMPLETE",
         2014,
         2
        ],
        [
         "9271",
         "ChristopherSmith",
         "2014-02-17",
         "Fort Worth",
         "TX",
         "COMPLETE",
         2014,
         2
        ],
        [
         "2159",
         "KimberlySweeney",
         "2014-02-16",
         "North Richland Hills",
         "TX",
         "COMPLETE",
         2014,
         2
        ],
        [
         "6963",
         "MarySmith",
         "2014-02-15",
         "Harlingen",
         "TX",
         "COMPLETE",
         2014,
         2
        ],
        [
         "8688",
         "MichelleRose",
         "2014-02-15",
         "Eagle Pass",
         "TX",
         "COMPLETE",
         2014,
         2
        ],
        [
         "1782",
         "RobertSmith",
         "2014-02-15",
         "Fort Worth",
         "TX",
         "COMPLETE",
         2014,
         2
        ],
        [
         "2351",
         "MaryFuller",
         "2014-02-15",
         "Houston",
         "TX",
         "COMPLETE",
         2014,
         2
        ],
        [
         "8235",
         "BruceHorton",
         "2014-02-15",
         "Sugar Land",
         "TX",
         "COMPLETE",
         2014,
         2
        ],
        [
         "12020",
         "DorothySmith",
         "2014-02-15",
         "Pharr",
         "TX",
         "COMPLETE",
         2014,
         2
        ],
        [
         "10405",
         "MaryDurham",
         "2014-02-15",
         "Houston",
         "TX",
         "COMPLETE",
         2014,
         2
        ],
        [
         "940",
         "StevenSmith",
         "2014-02-14",
         "El Paso",
         "TX",
         "COMPLETE",
         2014,
         2
        ],
        [
         "5080",
         "MarySmith",
         "2014-02-14",
         "Houston",
         "TX",
         "COMPLETE",
         2014,
         2
        ],
        [
         "3631",
         "MarySmith",
         "2014-02-14",
         "Laredo",
         "TX",
         "COMPLETE",
         2014,
         2
        ],
        [
         "1119",
         "BryanRamos",
         "2014-02-13",
         "North Richland Hills",
         "TX",
         "COMPLETE",
         2014,
         2
        ],
        [
         "5460",
         "LoriSmith",
         "2014-02-13",
         "Houston",
         "TX",
         "COMPLETE",
         2014,
         2
        ],
        [
         "11953",
         "WillieGalvan",
         "2014-02-12",
         "Mission",
         "TX",
         "COMPLETE",
         2014,
         2
        ],
        [
         "6839",
         "BobbyBean",
         "2014-02-12",
         "Austin",
         "TX",
         "COMPLETE",
         2014,
         2
        ],
        [
         "8071",
         "GaryBaker",
         "2014-02-12",
         "Plano",
         "TX",
         "COMPLETE",
         2014,
         2
        ],
        [
         "2351",
         "MaryFuller",
         "2014-02-12",
         "Houston",
         "TX",
         "COMPLETE",
         2014,
         2
        ],
        [
         "3783",
         "AlbertSmith",
         "2014-02-11",
         "El Paso",
         "TX",
         "COMPLETE",
         2014,
         2
        ],
        [
         "3633",
         "MaryBurch",
         "2014-02-11",
         "El Paso",
         "TX",
         "COMPLETE",
         2014,
         2
        ],
        [
         "6058",
         "LaurenSmith",
         "2014-02-11",
         "San Antonio",
         "TX",
         "COMPLETE",
         2014,
         2
        ],
        [
         "8084",
         "MarySmith",
         "2014-02-10",
         "Houston",
         "TX",
         "COMPLETE",
         2014,
         2
        ],
        [
         "2966",
         "ChristinaEwing",
         "2014-02-10",
         "Lewisville",
         "TX",
         "COMPLETE",
         2014,
         2
        ],
        [
         "8377",
         "JackChristian",
         "2014-02-10",
         "Irving",
         "TX",
         "COMPLETE",
         2014,
         2
        ],
        [
         "10026",
         "MaryWilson",
         "2014-02-09",
         "Mcallen",
         "TX",
         "COMPLETE",
         2014,
         2
        ],
        [
         "12060",
         "MaryRobinson",
         "2014-02-09",
         "San Antonio",
         "TX",
         "COMPLETE",
         2014,
         2
        ],
        [
         "8088",
         "MaryMorris",
         "2014-02-08",
         "San Marcos",
         "TX",
         "COMPLETE",
         2014,
         2
        ],
        [
         "10460",
         "MaryMorrison",
         "2014-02-08",
         "New Braunfels",
         "TX",
         "COMPLETE",
         2014,
         2
        ],
        [
         "9681",
         "MarySweeney",
         "2014-02-08",
         "Dallas",
         "TX",
         "COMPLETE",
         2014,
         2
        ],
        [
         "3406",
         "MarySmith",
         "2014-02-08",
         "El Paso",
         "TX",
         "COMPLETE",
         2014,
         2
        ],
        [
         "626",
         "MaryWeeks",
         "2014-02-08",
         "Dallas",
         "TX",
         "COMPLETE",
         2014,
         2
        ],
        [
         "7537",
         "StephenLee",
         "2014-02-08",
         "San Antonio",
         "TX",
         "COMPLETE",
         2014,
         2
        ],
        [
         "11439",
         "MatthewSmith",
         "2014-02-08",
         "El Paso",
         "TX",
         "COMPLETE",
         2014,
         2
        ],
        [
         "1249",
         "DonaldOdom",
         "2014-02-07",
         "San Antonio",
         "TX",
         "COMPLETE",
         2014,
         2
        ],
        [
         "5729",
         "LouisSmith",
         "2014-02-06",
         "Mission",
         "TX",
         "COMPLETE",
         2014,
         2
        ],
        [
         "1278",
         "MarySmith",
         "2014-02-06",
         "San Antonio",
         "TX",
         "COMPLETE",
         2014,
         2
        ],
        [
         "7212",
         "MaryHoward",
         "2014-02-06",
         "Fort Worth",
         "TX",
         "COMPLETE",
         2014,
         2
        ],
        [
         "7421",
         "MaryReyes",
         "2014-02-05",
         "Dallas",
         "TX",
         "COMPLETE",
         2014,
         2
        ],
        [
         "2360",
         "DeniseSmith",
         "2014-02-03",
         "San Antonio",
         "TX",
         "COMPLETE",
         2014,
         2
        ],
        [
         "2064",
         "DavidGarrison",
         "2014-02-03",
         "Dallas",
         "TX",
         "COMPLETE",
         2014,
         2
        ],
        [
         "8848",
         "MaryWatson",
         "2014-02-02",
         "Katy",
         "TX",
         "COMPLETE",
         2014,
         2
        ],
        [
         "7418",
         "ElizabethSmith",
         "2014-02-02",
         "El Paso",
         "TX",
         "COMPLETE",
         2014,
         2
        ],
        [
         "7675",
         "BrendaHiggins",
         "2014-02-02",
         "Laredo",
         "TX",
         "COMPLETE",
         2014,
         2
        ],
        [
         "11988",
         "JudySmith",
         "2014-02-02",
         "Round Rock",
         "TX",
         "COMPLETE",
         2014,
         2
        ],
        [
         "11315",
         "KimberlyCampos",
         "2014-02-02",
         "College Station",
         "TX",
         "COMPLETE",
         2014,
         2
        ],
        [
         "5747",
         "MaryMorrison",
         "2014-02-01",
         "San Benito",
         "TX",
         "COMPLETE",
         2014,
         2
        ],
        [
         "8503",
         "AmySmith",
         "2014-01-31",
         "Houston",
         "TX",
         "COMPLETE",
         2014,
         1
        ],
        [
         "2497",
         "WayneHardy",
         "2014-01-31",
         "Mesquite",
         "TX",
         "COMPLETE",
         2014,
         1
        ],
        [
         "2010",
         "MarySmith",
         "2014-01-31",
         "San Antonio",
         "TX",
         "COMPLETE",
         2014,
         1
        ],
        [
         "1209",
         "MaryWebb",
         "2014-01-31",
         "San Marcos",
         "TX",
         "COMPLETE",
         2014,
         1
        ],
        [
         "5449",
         "MarySmith",
         "2014-01-31",
         "Houston",
         "TX",
         "COMPLETE",
         2014,
         1
        ],
        [
         "3786",
         "MaryMoody",
         "2014-01-30",
         "Irving",
         "TX",
         "COMPLETE",
         2014,
         1
        ],
        [
         "3850",
         "ChristinaNelson",
         "2014-01-30",
         "El Paso",
         "TX",
         "COMPLETE",
         2014,
         1
        ],
        [
         "1870",
         "TiffanyGreer",
         "2014-01-28",
         "Amarillo",
         "TX",
         "COMPLETE",
         2014,
         1
        ],
        [
         "7234",
         "MaryBowers",
         "2014-01-28",
         "San Antonio",
         "TX",
         "COMPLETE",
         2014,
         1
        ],
        [
         "9626",
         "DorothyFrye",
         "2014-01-27",
         "El Paso",
         "TX",
         "COMPLETE",
         2014,
         1
        ],
        [
         "10438",
         "BarbaraJohnston",
         "2014-01-27",
         "North Richland Hills",
         "TX",
         "COMPLETE",
         2014,
         1
        ],
        [
         "10889",
         "SarahSmith",
         "2014-01-27",
         "Houston",
         "TX",
         "COMPLETE",
         2014,
         1
        ],
        [
         "3911",
         "MargaretMelton",
         "2014-01-27",
         "El Paso",
         "TX",
         "COMPLETE",
         2014,
         1
        ],
        [
         "10301",
         "JeremySmith",
         "2014-01-26",
         "Edinburg",
         "TX",
         "COMPLETE",
         2014,
         1
        ],
        [
         "12103",
         "MarySmith",
         "2014-01-26",
         "San Benito",
         "TX",
         "COMPLETE",
         2014,
         1
        ],
        [
         "1702",
         "MarySmith",
         "2014-01-26",
         "Austin",
         "TX",
         "COMPLETE",
         2014,
         1
        ],
        [
         "5395",
         "MaryBell",
         "2014-01-25",
         "San Antonio",
         "TX",
         "COMPLETE",
         2014,
         1
        ],
        [
         "1683",
         "ChristopherSloan",
         "2014-01-25",
         "Dallas",
         "TX",
         "COMPLETE",
         2014,
         1
        ],
        [
         "1583",
         "SeanSmith",
         "2014-01-25",
         "Sugar Land",
         "TX",
         "COMPLETE",
         2014,
         1
        ],
        [
         "615",
         "MarySmith",
         "2014-01-25",
         "El Paso",
         "TX",
         "COMPLETE",
         2014,
         1
        ],
        [
         "12040",
         "ThomasMoore",
         "2014-01-24",
         "Harlingen",
         "TX",
         "COMPLETE",
         2014,
         1
        ],
        [
         "11475",
         "MaryGarner",
         "2014-01-23",
         "Houston",
         "TX",
         "COMPLETE",
         2014,
         1
        ],
        [
         "8071",
         "GaryBaker",
         "2014-01-23",
         "Plano",
         "TX",
         "COMPLETE",
         2014,
         1
        ],
        [
         "9127",
         "MaryNolan",
         "2014-01-22",
         "Dallas",
         "TX",
         "COMPLETE",
         2014,
         1
        ],
        [
         "9018",
         "MarySmith",
         "2014-01-22",
         "Dallas",
         "TX",
         "COMPLETE",
         2014,
         1
        ],
        [
         "8417",
         "MarySmith",
         "2014-01-21",
         "Houston",
         "TX",
         "COMPLETE",
         2014,
         1
        ],
        [
         "4318",
         "MaryFletcher",
         "2014-01-21",
         "San Benito",
         "TX",
         "COMPLETE",
         2014,
         1
        ],
        [
         "2545",
         "LarryPatel",
         "2014-01-21",
         "Richardson",
         "TX",
         "COMPLETE",
         2014,
         1
        ],
        [
         "3684",
         "PatrickSmith",
         "2014-01-20",
         "Dallas",
         "TX",
         "COMPLETE",
         2014,
         1
        ],
        [
         "4426",
         "MarySmith",
         "2014-01-18",
         "Dallas",
         "TX",
         "COMPLETE",
         2014,
         1
        ],
        [
         "2880",
         "LindaWalters",
         "2014-01-18",
         "San Antonio",
         "TX",
         "COMPLETE",
         2014,
         1
        ],
        [
         "8843",
         "JuanSmith",
         "2014-01-18",
         "Houston",
         "TX",
         "COMPLETE",
         2014,
         1
        ],
        [
         "3205",
         "JulieSantiago",
         "2014-01-18",
         "Fort Worth",
         "TX",
         "COMPLETE",
         2014,
         1
        ],
        [
         "1806",
         "RogerSmith",
         "2014-01-18",
         "El Paso",
         "TX",
         "COMPLETE",
         2014,
         1
        ],
        [
         "5749",
         "MarySmith",
         "2014-01-17",
         "Houston",
         "TX",
         "COMPLETE",
         2014,
         1
        ],
        [
         "8245",
         "ThomasGray",
         "2014-01-17",
         "San Antonio",
         "TX",
         "COMPLETE",
         2014,
         1
        ],
        [
         "7780",
         "StevenSmith",
         "2014-01-16",
         "Richardson",
         "TX",
         "COMPLETE",
         2014,
         1
        ],
        [
         "3108",
         "MarySmith",
         "2014-01-16",
         "Houston",
         "TX",
         "COMPLETE",
         2014,
         1
        ],
        [
         "4749",
         "MichelleTerry",
         "2014-01-15",
         "Plano",
         "TX",
         "COMPLETE",
         2014,
         1
        ],
        [
         "3108",
         "MarySmith",
         "2014-01-15",
         "Houston",
         "TX",
         "COMPLETE",
         2014,
         1
        ],
        [
         "3022",
         "JoseSmith",
         "2014-01-15",
         "Dallas",
         "TX",
         "COMPLETE",
         2014,
         1
        ],
        [
         "1498",
         "PeterBray",
         "2014-01-15",
         "Houston",
         "TX",
         "COMPLETE",
         2014,
         1
        ],
        [
         "6168",
         "ArthurLi",
         "2014-01-14",
         "Pharr",
         "TX",
         "COMPLETE",
         2014,
         1
        ],
        [
         "3828",
         "JaniceCarpenter",
         "2014-01-14",
         "El Paso",
         "TX",
         "COMPLETE",
         2014,
         1
        ],
        [
         "4956",
         "MarySmith",
         "2014-01-13",
         "Austin",
         "TX",
         "COMPLETE",
         2014,
         1
        ],
        [
         "699",
         "RaymondRichards",
         "2014-01-13",
         "Houston",
         "TX",
         "COMPLETE",
         2014,
         1
        ],
        [
         "10800",
         "MaryDunn",
         "2014-01-13",
         "Arlington",
         "TX",
         "COMPLETE",
         2014,
         1
        ],
        [
         "7205",
         "MariaJordan",
         "2014-01-13",
         "Carrollton",
         "TX",
         "COMPLETE",
         2014,
         1
        ],
        [
         "3783",
         "AlbertSmith",
         "2014-01-13",
         "El Paso",
         "TX",
         "COMPLETE",
         2014,
         1
        ],
        [
         "862",
         "RichardSmith",
         "2014-01-12",
         "San Antonio",
         "TX",
         "COMPLETE",
         2014,
         1
        ],
        [
         "9559",
         "AustinSmith",
         "2014-01-11",
         "Dallas",
         "TX",
         "COMPLETE",
         2014,
         1
        ],
        [
         "11475",
         "MaryGarner",
         "2014-01-11",
         "Houston",
         "TX",
         "COMPLETE",
         2014,
         1
        ],
        [
         "10026",
         "MaryWilson",
         "2014-01-10",
         "Mcallen",
         "TX",
         "COMPLETE",
         2014,
         1
        ],
        [
         "6561",
         "JaneDay",
         "2014-01-10",
         "San Benito",
         "TX",
         "COMPLETE",
         2014,
         1
        ],
        [
         "7244",
         "JeremyWashington",
         "2014-01-09",
         "College Station",
         "TX",
         "COMPLETE",
         2014,
         1
        ],
        [
         "10328",
         "MarySmith",
         "2014-01-07",
         "Dallas",
         "TX",
         "COMPLETE",
         2014,
         1
        ],
        [
         "9912",
         "DavidPhillips",
         "2014-01-07",
         "Houston",
         "TX",
         "COMPLETE",
         2014,
         1
        ],
        [
         "2895",
         "DylanButler",
         "2014-01-07",
         "Houston",
         "TX",
         "COMPLETE",
         2014,
         1
        ],
        [
         "5598",
         "SharonSmith",
         "2014-01-07",
         "Houston",
         "TX",
         "COMPLETE",
         2014,
         1
        ],
        [
         "2658",
         "SaraCisneros",
         "2014-01-07",
         "Weslaco",
         "TX",
         "COMPLETE",
         2014,
         1
        ],
        [
         "8975",
         "NancyMata",
         "2014-01-05",
         "Fort Worth",
         "TX",
         "COMPLETE",
         2014,
         1
        ],
        [
         "7979",
         "MarySmith",
         "2014-01-05",
         "El Paso",
         "TX",
         "COMPLETE",
         2014,
         1
        ],
        [
         "2010",
         "MarySmith",
         "2014-01-05",
         "San Antonio",
         "TX",
         "COMPLETE",
         2014,
         1
        ],
        [
         "2087",
         "MaryBurton",
         "2014-01-05",
         "San Benito",
         "TX",
         "COMPLETE",
         2014,
         1
        ],
        [
         "8088",
         "MaryMorris",
         "2014-01-05",
         "San Marcos",
         "TX",
         "COMPLETE",
         2014,
         1
        ],
        [
         "1782",
         "RobertSmith",
         "2014-01-03",
         "Fort Worth",
         "TX",
         "COMPLETE",
         2014,
         1
        ],
        [
         "6209",
         "MaryLopez",
         "2014-01-02",
         "Houston",
         "TX",
         "COMPLETE",
         2014,
         1
        ],
        [
         "9127",
         "MaryNolan",
         "2014-01-02",
         "Dallas",
         "TX",
         "COMPLETE",
         2014,
         1
        ]
       ],
       "datasetInfos": [],
       "dbfsResultPath": null,
       "isJsonSchema": true,
       "metadata": {
        "dataframeName": "_sqldf",
        "executionCount": 50
       },
       "overflow": false,
       "plotOptions": {
        "customPlotOptions": {},
        "displayType": "table",
        "pivotAggregation": null,
        "pivotColumns": null,
        "xColumns": null,
        "yColumns": null
       },
       "removedWidgets": [],
       "schema": [
        {
         "metadata": "{}",
         "name": "customer_id",
         "type": "\"string\""
        },
        {
         "metadata": "{}",
         "name": "customer_name",
         "type": "\"string\""
        },
        {
         "metadata": "{}",
         "name": "order_date",
         "type": "\"date\""
        },
        {
         "metadata": "{}",
         "name": "customer_city",
         "type": "\"string\""
        },
        {
         "metadata": "{}",
         "name": "customer_state",
         "type": "\"string\""
        },
        {
         "metadata": "{}",
         "name": "order_status",
         "type": "\"string\""
        },
        {
         "metadata": "{}",
         "name": "order_year",
         "type": "\"integer\""
        },
        {
         "metadata": "{}",
         "name": "order_month",
         "type": "\"integer\""
        }
       ],
       "type": "table"
      }
     },
     "output_type": "display_data"
    }
   ],
   "source": [
    "%sql\n",
    "select * from order_cust_vw where customer_state='TX' AND order_status='COMPLETE' AND order_year='2014';\n"
   ]
  },
  {
   "cell_type": "code",
   "execution_count": 0,
   "metadata": {
    "application/vnd.databricks.v1+cell": {
     "cellMetadata": {
      "byteLimit": 2048000,
      "rowLimit": 10000
     },
     "inputWidgets": {},
     "nuid": "ebfffc71-9a05-480c-ad47-397323b51c67",
     "showTitle": false,
     "title": ""
    }
   },
   "outputs": [
    {
     "output_type": "display_data",
     "data": {
      "text/html": [
       "<div class = \"ansiout\"><b>dbutils.widgets</b> provides utilities for working with notebook widgets. You can create\n",
       "different types of widgets and get their bound value.\n",
       "\n",
       "For more info about a method, use <b>dbutils.widgets.help(\"methodName\")</b>.\n",
       "    <h3></h3><b>combobox(name: String, defaultValue: String, choices: Seq, label: String): void</b> -> Creates a combobox input widget with a given name, default value and choices<br /><b>dropdown(name: String, defaultValue: String, choices: Seq, label: String): void</b> -> Creates a dropdown input widget a with given name, default value and choices<br /><b>get(name: String): String</b> -> Retrieves current value of an input widget<br /><b>getArgument(name: String, optional: String): String</b> -> (DEPRECATED) Equivalent to get<br /><b>multiselect(name: String, defaultValue: String, choices: Seq, label: String): void</b> -> Creates a multiselect input widget with a given name, default value and choices<br /><b>remove(name: String): void</b> -> Removes an input widget from the notebook<br /><b>removeAll: void</b> -> Removes all widgets in the notebook<br /><b>text(name: String, defaultValue: String, label: String): void</b> -> Creates a text input widget with a given name and default value<br /><br /></div>"
      ]
     },
     "metadata": {},
     "output_type": "display_data"
    }
   ],
   "source": [
    "dbutils.widgets.help()"
   ]
  },
  {
   "cell_type": "code",
   "execution_count": 0,
   "metadata": {
    "application/vnd.databricks.v1+cell": {
     "cellMetadata": {
      "byteLimit": 2048000,
      "rowLimit": 10000
     },
     "inputWidgets": {},
     "nuid": "686ef8ec-464f-4884-9c11-470316615363",
     "showTitle": false,
     "title": ""
    }
   },
   "outputs": [],
   "source": [
    "dbutils.widgets.dropdown(name='state_input',defaultValue='TX',choices=['TX','NY','CA'],label=\"State:\")"
   ]
  },
  {
   "cell_type": "code",
   "execution_count": 0,
   "metadata": {
    "application/vnd.databricks.v1+cell": {
     "cellMetadata": {
      "byteLimit": 2048000,
      "rowLimit": 10000
     },
     "inputWidgets": {},
     "nuid": "46a38ac6-fe21-406e-ae35-9c787bced566",
     "showTitle": false,
     "title": ""
    }
   },
   "outputs": [],
   "source": [
    "dbutils.widgets.dropdown(name='status_input',defaultValue='COMPLETE',choices=['COMPLETE','PENDING_PAYMENT','CLOSED','PROCESSING'],label=\"Status:\")"
   ]
  },
  {
   "cell_type": "code",
   "execution_count": 0,
   "metadata": {
    "application/vnd.databricks.v1+cell": {
     "cellMetadata": {
      "byteLimit": 2048000,
      "rowLimit": 10000
     },
     "inputWidgets": {},
     "nuid": "c2fb5f16-6688-4d93-aa53-c1da77f326a5",
     "showTitle": false,
     "title": ""
    }
   },
   "outputs": [],
   "source": [
    "dbutils.widgets.text(name='year_input',defaultValue=\"2014\",label=\"Year:\")"
   ]
  },
  {
   "cell_type": "code",
   "execution_count": 0,
   "metadata": {
    "application/vnd.databricks.v1+cell": {
     "cellMetadata": {
      "byteLimit": 2048000,
      "rowLimit": 10000
     },
     "inputWidgets": {},
     "nuid": "1ccde954-7a39-4e01-96d0-235e728f1fd0",
     "showTitle": false,
     "title": ""
    }
   },
   "outputs": [],
   "source": [
    "state=dbutils.widgets.get('state_input')\n",
    "status=dbutils.widgets.get('status_input')\n",
    "year=dbutils.widgets.get('year_input')"
   ]
  },
  {
   "cell_type": "code",
   "execution_count": 0,
   "metadata": {
    "application/vnd.databricks.v1+cell": {
     "cellMetadata": {
      "byteLimit": 2048000,
      "rowLimit": 10000
     },
     "inputWidgets": {},
     "nuid": "829982fd-be60-499b-b56f-ad4b26a8b8e8",
     "showTitle": false,
     "title": ""
    }
   },
   "outputs": [
    {
     "output_type": "display_data",
     "data": {
      "text/html": [
       "<style scoped>\n",
       "  .table-result-container {\n",
       "    max-height: 300px;\n",
       "    overflow: auto;\n",
       "  }\n",
       "  table, th, td {\n",
       "    border: 1px solid black;\n",
       "    border-collapse: collapse;\n",
       "  }\n",
       "  th, td {\n",
       "    padding: 5px;\n",
       "  }\n",
       "  th {\n",
       "    text-align: left;\n",
       "  }\n",
       "</style><div class='table-result-container'><table class='table-result'><thead style='background-color: white'><tr><th>customer_name</th></tr></thead><tbody><tr><td>MichelleRose</td></tr><tr><td>StephenLee</td></tr><tr><td>KimberlySweeney</td></tr><tr><td>JohnFuentes</td></tr><tr><td>BenjaminSmith</td></tr><tr><td>RebeccaWatkins</td></tr><tr><td>LoriSmith</td></tr><tr><td>MaryJohnson</td></tr><tr><td>MargaretVilla</td></tr><tr><td>AlbertSmith</td></tr><tr><td>NicholasHerman</td></tr><tr><td>AmyCompton</td></tr><tr><td>JanetNorton</td></tr><tr><td>DennisSmith</td></tr><tr><td>MaryRoss</td></tr><tr><td>RogerOliver</td></tr><tr><td>JacobSmith</td></tr><tr><td>JesseSmith</td></tr><tr><td>MargaretMelton</td></tr><tr><td>MaryKey</td></tr><tr><td>RobertRichardson</td></tr><tr><td>MaryMclaughlin</td></tr><tr><td>ThomasWhitney</td></tr><tr><td>MaryRose</td></tr><tr><td>MaryKaiser</td></tr><tr><td>SandraSmith</td></tr><tr><td>PaulShelton</td></tr><tr><td>WayneBryant</td></tr><tr><td>MaryWelch</td></tr><tr><td>KyleEdwards</td></tr><tr><td>MaryMoody</td></tr><tr><td>MaryMarshall</td></tr><tr><td>AnnaSmith</td></tr><tr><td>JaniceSmith</td></tr><tr><td>DonaldSmith</td></tr><tr><td>MelissaSmith</td></tr><tr><td>WillieGalvan</td></tr><tr><td>MaryShort</td></tr><tr><td>HenryTurner</td></tr><tr><td>NancyMata</td></tr><tr><td>DouglasWashington</td></tr><tr><td>AngelaSmith</td></tr><tr><td>HeatherRomero</td></tr><tr><td>ChristinaEwing</td></tr><tr><td>BrendaEvans</td></tr><tr><td>BryanRamos</td></tr><tr><td>WalterSmith</td></tr><tr><td>JasonSmith</td></tr><tr><td>JamesSmith</td></tr><tr><td>JudySmith</td></tr><tr><td>BruceHorton</td></tr><tr><td>MaryCollins</td></tr><tr><td>BettySpears</td></tr><tr><td>HannahMarshall</td></tr><tr><td>MaryLucero</td></tr><tr><td>MaryGarner</td></tr><tr><td>VirginiaSanders</td></tr><tr><td>RoyMerritt</td></tr><tr><td>ArthurLi</td></tr><tr><td>LarryWaller</td></tr><tr><td>RaymondRichards</td></tr><tr><td>LisaHudson</td></tr><tr><td>AustinSmith</td></tr><tr><td>JanetSampson</td></tr><tr><td>MaryBrown</td></tr><tr><td>ElizabethBall</td></tr><tr><td>ElizabethMcpherson</td></tr><tr><td>AshleyGordon</td></tr><tr><td>JackJames</td></tr><tr><td>ChristineRodriguez</td></tr><tr><td>MaryDunn</td></tr><tr><td>JonathanCook</td></tr><tr><td>MaryFrazier</td></tr><tr><td>RichardRichmond</td></tr><tr><td>GeorgeSmith</td></tr><tr><td>BrittanyHenry</td></tr><tr><td>MaryBowers</td></tr><tr><td>DonaldOdom</td></tr><tr><td>GarySmith</td></tr><tr><td>DanielSmith</td></tr><tr><td>MaryMorris</td></tr><tr><td>MaryWatson</td></tr><tr><td>JeremySmith</td></tr><tr><td>JamesColeman</td></tr><tr><td>MarySilva</td></tr><tr><td>JackChristian</td></tr><tr><td>MaryBurch</td></tr><tr><td>JuanSmith</td></tr><tr><td>MaryAvery</td></tr><tr><td>MaryRivera</td></tr><tr><td>CynthiaGarcia</td></tr><tr><td>ChristinaNelson</td></tr><tr><td>MaryBaird</td></tr><tr><td>JohnSmith</td></tr><tr><td>WalterFuller</td></tr><tr><td>ChristopherSmith</td></tr><tr><td>MaryHopkins</td></tr><tr><td>DeniseSmith</td></tr><tr><td>MichaelWiley</td></tr><tr><td>AmberSmith</td></tr><tr><td>MaryMorgan</td></tr><tr><td>MarySimmons</td></tr><tr><td>NicolePowers</td></tr><tr><td>DebraSmith</td></tr><tr><td>MaryRoberts</td></tr><tr><td>TylerThompson</td></tr><tr><td>TiffanyGreer</td></tr><tr><td>MaryAndrews</td></tr><tr><td>JaneDay</td></tr><tr><td>RosePena</td></tr><tr><td>CarolynPrice</td></tr><tr><td>MaryFuller</td></tr><tr><td>EvelynSmith</td></tr><tr><td>JuliaSmith</td></tr><tr><td>JoshuaMullins</td></tr><tr><td>RogerSmith</td></tr><tr><td>JoyceSmith</td></tr><tr><td>MadisonSmith</td></tr><tr><td>MaryDyer</td></tr><tr><td>RonaldSmith</td></tr><tr><td>EmmaCalderon</td></tr><tr><td>SeanNavarro</td></tr><tr><td>LaurenSmith</td></tr><tr><td>AshleyPalmer</td></tr><tr><td>MaryDean</td></tr><tr><td>NicholasWright</td></tr><tr><td>AliceRusso</td></tr><tr><td>WayneHardy</td></tr><tr><td>KathrynSmith</td></tr><tr><td>MarySweeney</td></tr><tr><td>KatherineLawrence</td></tr><tr><td>GaryShaffer</td></tr><tr><td>MaryWright</td></tr><tr><td>HelenSmith</td></tr><tr><td>DylanButler</td></tr><tr><td>AmandaSmith</td></tr><tr><td>JaneSmith</td></tr><tr><td>MaryBishop</td></tr><tr><td>MaryBurton</td></tr><tr><td>BarbaraSmith</td></tr><tr><td>MarthaBurnett</td></tr><tr><td>SharonSmith</td></tr><tr><td>HenryRoman</td></tr><tr><td>MaryConrad</td></tr><tr><td>RoySmith</td></tr><tr><td>LindaRojas</td></tr><tr><td>TheresaWiggins</td></tr><tr><td>ChristinaWalsh</td></tr><tr><td>KimberlyBlair</td></tr><tr><td>MaryMoore</td></tr><tr><td>LarryHenderson</td></tr><tr><td>PatriciaSerrano</td></tr><tr><td>MaryLopez</td></tr><tr><td>MaryGriffith</td></tr><tr><td>JasonDixon</td></tr><tr><td>ChristopherSloan</td></tr><tr><td>CynthiaSmith</td></tr><tr><td>EdwardDennis</td></tr><tr><td>BobbyBean</td></tr><tr><td>RichardSmith</td></tr><tr><td>JulieSantiago</td></tr><tr><td>JeremyWashington</td></tr><tr><td>JanetWallace</td></tr><tr><td>MariaJordan</td></tr><tr><td>LawrenceSmith</td></tr><tr><td>JohnJacobs</td></tr><tr><td>LouisSmith</td></tr><tr><td>MarySmith</td></tr><tr><td>MargaretSmith</td></tr><tr><td>CarolSmith</td></tr><tr><td>MaryChapman</td></tr><tr><td>DorothySmith</td></tr><tr><td>JaniceCarpenter</td></tr><tr><td>JoyceLeblanc</td></tr><tr><td>MaryDecker</td></tr><tr><td>KennethSmith</td></tr><tr><td>MaryJimenez</td></tr><tr><td>BrittanyFrench</td></tr><tr><td>AngelaPeterson</td></tr><tr><td>MaryKrueger</td></tr><tr><td>ArthurFisher</td></tr><tr><td>BenjaminCole</td></tr><tr><td>BrandonFitzgerald</td></tr><tr><td>TimothySmith</td></tr><tr><td>MaryNewman</td></tr><tr><td>MaryMitchell</td></tr><tr><td>MaryRobinson</td></tr><tr><td>EdwardSmith</td></tr><tr><td>MaryGutierrez</td></tr><tr><td>MaryShepherd</td></tr><tr><td>JonathanSmith</td></tr><tr><td>BarbaraJohnston</td></tr><tr><td>JaniceNovak</td></tr><tr><td>RobertSmith</td></tr><tr><td>MarySandoval</td></tr><tr><td>MaryWilson</td></tr><tr><td>MaryChung</td></tr><tr><td>KimberlyIrwin</td></tr><tr><td>PeterBray</td></tr><tr><td>BrianMitchell</td></tr><tr><td>MaryPatterson</td></tr><tr><td>RuthSmith</td></tr><tr><td>KathrynMarshall</td></tr><tr><td>MaryLittle</td></tr><tr><td>MichelleTerry</td></tr><tr><td>MatthewLove</td></tr><tr><td>MeganLynch</td></tr><tr><td>AdamMarquez</td></tr><tr><td>ElizabethMccann</td></tr><tr><td>JohnJohnson</td></tr><tr><td>LarrySmith</td></tr><tr><td>BrendaHiggins</td></tr><tr><td>ThomasMoore</td></tr><tr><td>MarilynWu</td></tr><tr><td>RyanSmith</td></tr><tr><td>JoseWright</td></tr><tr><td>MaryOrtega</td></tr><tr><td>LisaKeith</td></tr><tr><td>MaryHoward</td></tr><tr><td>MaryFriedman</td></tr><tr><td>MaryMeza</td></tr><tr><td>BillyThompson</td></tr><tr><td>LarryPatel</td></tr><tr><td>WalterHughes</td></tr><tr><td>JasonDalton</td></tr><tr><td>MichelleSmith</td></tr><tr><td>JoseSmith</td></tr><tr><td>AmySmith</td></tr><tr><td>StevenSmith</td></tr><tr><td>MaryHerman</td></tr><tr><td>HowardLee</td></tr><tr><td>MaryCollier</td></tr><tr><td>DeborahSmith</td></tr><tr><td>MaryJones</td></tr><tr><td>RonaldWilson</td></tr><tr><td>MaryWebb</td></tr><tr><td>CarolynSmith</td></tr><tr><td>MaryWhite</td></tr><tr><td>MaryRobertson</td></tr><tr><td>AndrewRasmussen</td></tr><tr><td>MaryBentley</td></tr><tr><td>DavidSmith</td></tr><tr><td>MaryMorrison</td></tr><tr><td>MaryMcgee</td></tr><tr><td>MelissaPowell</td></tr><tr><td>MaryBauer</td></tr><tr><td>DavidGarrison</td></tr><tr><td>MaryBerry</td></tr><tr><td>AshleySmith</td></tr><tr><td>MaryHardy</td></tr><tr><td>AnnSmith</td></tr><tr><td>HaroldJohnson</td></tr><tr><td>CharlesMason</td></tr><tr><td>HannahSmith</td></tr><tr><td>SeanSmith</td></tr><tr><td>JoseCasey</td></tr><tr><td>PhillipSmith</td></tr><tr><td>DavidPhillips</td></tr><tr><td>KimberlyCampos</td></tr><tr><td>AliceWerner</td></tr><tr><td>LauraSmith</td></tr><tr><td>NancyGilbert</td></tr><tr><td>JackSmith</td></tr><tr><td>JosephBrooks</td></tr><tr><td>DianaShepherd</td></tr><tr><td>DonnaHoover</td></tr><tr><td>MaryFletcher</td></tr><tr><td>RaymondSantana</td></tr><tr><td>MaryHarding</td></tr><tr><td>PatriciaSmith</td></tr><tr><td>VirginiaWalker</td></tr><tr><td>MaryNolan</td></tr><tr><td>SarahSmith</td></tr><tr><td>MarilynDiaz</td></tr><tr><td>JoeSmith</td></tr><tr><td>MaryCastillo</td></tr><tr><td>AshleyPowell</td></tr><tr><td>DonaldSampson</td></tr><tr><td>DorothyFrye</td></tr><tr><td>DonnaBautista</td></tr><tr><td>MatthewSmith</td></tr><tr><td>DonaldNelson</td></tr><tr><td>MaryFry</td></tr><tr><td>MichaelHayes</td></tr><tr><td>ElizabethSmith</td></tr><tr><td>GaryBaker</td></tr><tr><td>MaryPayne</td></tr><tr><td>JoshuaSmith</td></tr><tr><td>FrancesHolmes</td></tr><tr><td>JesseFields</td></tr><tr><td>MichelleBennett</td></tr><tr><td>MatthewFields</td></tr><tr><td>LisaShaw</td></tr><tr><td>MaryKhan</td></tr><tr><td>CharlesSmith</td></tr><tr><td>MaryWeeks</td></tr><tr><td>BrandonStephens</td></tr><tr><td>WillieSmith</td></tr><tr><td>MaryNelson</td></tr><tr><td>MaryHodges</td></tr><tr><td>SaraCisneros</td></tr><tr><td>EmmaNoble</td></tr><tr><td>MaryPatel</td></tr><tr><td>MaryBell</td></tr><tr><td>MaryDurham</td></tr><tr><td>JustinSmith</td></tr><tr><td>AmberAnderson</td></tr><tr><td>MaryContreras</td></tr><tr><td>DeborahBarber</td></tr><tr><td>DianaHale</td></tr><tr><td>MaryGonzalez</td></tr><tr><td>MaryGeorge</td></tr><tr><td>ShirleyPerez</td></tr><tr><td>PatrickSmith</td></tr><tr><td>PaulHancock</td></tr><tr><td>DianeZimmerman</td></tr><tr><td>ThomasGray</td></tr><tr><td>RoseWyatt</td></tr><tr><td>TammySmith</td></tr><tr><td>FrancesSmith</td></tr><tr><td>MaryHarris</td></tr><tr><td>MarySanders</td></tr><tr><td>MaryReyes</td></tr><tr><td>StephenSmith</td></tr><tr><td>EvelynWilson</td></tr><tr><td>LindaWalters</td></tr></tbody></table></div>"
      ]
     },
     "metadata": {
      "application/vnd.databricks.v1+output": {
       "addedWidgets": {},
       "aggData": [],
       "aggError": "",
       "aggOverflow": false,
       "aggSchema": [],
       "aggSeriesLimitReached": false,
       "aggType": "",
       "arguments": {},
       "columnCustomDisplayInfos": {},
       "data": [
        [
         "MichelleRose"
        ],
        [
         "StephenLee"
        ],
        [
         "KimberlySweeney"
        ],
        [
         "JohnFuentes"
        ],
        [
         "BenjaminSmith"
        ],
        [
         "RebeccaWatkins"
        ],
        [
         "LoriSmith"
        ],
        [
         "MaryJohnson"
        ],
        [
         "MargaretVilla"
        ],
        [
         "AlbertSmith"
        ],
        [
         "NicholasHerman"
        ],
        [
         "AmyCompton"
        ],
        [
         "JanetNorton"
        ],
        [
         "DennisSmith"
        ],
        [
         "MaryRoss"
        ],
        [
         "RogerOliver"
        ],
        [
         "JacobSmith"
        ],
        [
         "JesseSmith"
        ],
        [
         "MargaretMelton"
        ],
        [
         "MaryKey"
        ],
        [
         "RobertRichardson"
        ],
        [
         "MaryMclaughlin"
        ],
        [
         "ThomasWhitney"
        ],
        [
         "MaryRose"
        ],
        [
         "MaryKaiser"
        ],
        [
         "SandraSmith"
        ],
        [
         "PaulShelton"
        ],
        [
         "WayneBryant"
        ],
        [
         "MaryWelch"
        ],
        [
         "KyleEdwards"
        ],
        [
         "MaryMoody"
        ],
        [
         "MaryMarshall"
        ],
        [
         "AnnaSmith"
        ],
        [
         "JaniceSmith"
        ],
        [
         "DonaldSmith"
        ],
        [
         "MelissaSmith"
        ],
        [
         "WillieGalvan"
        ],
        [
         "MaryShort"
        ],
        [
         "HenryTurner"
        ],
        [
         "NancyMata"
        ],
        [
         "DouglasWashington"
        ],
        [
         "AngelaSmith"
        ],
        [
         "HeatherRomero"
        ],
        [
         "ChristinaEwing"
        ],
        [
         "BrendaEvans"
        ],
        [
         "BryanRamos"
        ],
        [
         "WalterSmith"
        ],
        [
         "JasonSmith"
        ],
        [
         "JamesSmith"
        ],
        [
         "JudySmith"
        ],
        [
         "BruceHorton"
        ],
        [
         "MaryCollins"
        ],
        [
         "BettySpears"
        ],
        [
         "HannahMarshall"
        ],
        [
         "MaryLucero"
        ],
        [
         "MaryGarner"
        ],
        [
         "VirginiaSanders"
        ],
        [
         "RoyMerritt"
        ],
        [
         "ArthurLi"
        ],
        [
         "LarryWaller"
        ],
        [
         "RaymondRichards"
        ],
        [
         "LisaHudson"
        ],
        [
         "AustinSmith"
        ],
        [
         "JanetSampson"
        ],
        [
         "MaryBrown"
        ],
        [
         "ElizabethBall"
        ],
        [
         "ElizabethMcpherson"
        ],
        [
         "AshleyGordon"
        ],
        [
         "JackJames"
        ],
        [
         "ChristineRodriguez"
        ],
        [
         "MaryDunn"
        ],
        [
         "JonathanCook"
        ],
        [
         "MaryFrazier"
        ],
        [
         "RichardRichmond"
        ],
        [
         "GeorgeSmith"
        ],
        [
         "BrittanyHenry"
        ],
        [
         "MaryBowers"
        ],
        [
         "DonaldOdom"
        ],
        [
         "GarySmith"
        ],
        [
         "DanielSmith"
        ],
        [
         "MaryMorris"
        ],
        [
         "MaryWatson"
        ],
        [
         "JeremySmith"
        ],
        [
         "JamesColeman"
        ],
        [
         "MarySilva"
        ],
        [
         "JackChristian"
        ],
        [
         "MaryBurch"
        ],
        [
         "JuanSmith"
        ],
        [
         "MaryAvery"
        ],
        [
         "MaryRivera"
        ],
        [
         "CynthiaGarcia"
        ],
        [
         "ChristinaNelson"
        ],
        [
         "MaryBaird"
        ],
        [
         "JohnSmith"
        ],
        [
         "WalterFuller"
        ],
        [
         "ChristopherSmith"
        ],
        [
         "MaryHopkins"
        ],
        [
         "DeniseSmith"
        ],
        [
         "MichaelWiley"
        ],
        [
         "AmberSmith"
        ],
        [
         "MaryMorgan"
        ],
        [
         "MarySimmons"
        ],
        [
         "NicolePowers"
        ],
        [
         "DebraSmith"
        ],
        [
         "MaryRoberts"
        ],
        [
         "TylerThompson"
        ],
        [
         "TiffanyGreer"
        ],
        [
         "MaryAndrews"
        ],
        [
         "JaneDay"
        ],
        [
         "RosePena"
        ],
        [
         "CarolynPrice"
        ],
        [
         "MaryFuller"
        ],
        [
         "EvelynSmith"
        ],
        [
         "JuliaSmith"
        ],
        [
         "JoshuaMullins"
        ],
        [
         "RogerSmith"
        ],
        [
         "JoyceSmith"
        ],
        [
         "MadisonSmith"
        ],
        [
         "MaryDyer"
        ],
        [
         "RonaldSmith"
        ],
        [
         "EmmaCalderon"
        ],
        [
         "SeanNavarro"
        ],
        [
         "LaurenSmith"
        ],
        [
         "AshleyPalmer"
        ],
        [
         "MaryDean"
        ],
        [
         "NicholasWright"
        ],
        [
         "AliceRusso"
        ],
        [
         "WayneHardy"
        ],
        [
         "KathrynSmith"
        ],
        [
         "MarySweeney"
        ],
        [
         "KatherineLawrence"
        ],
        [
         "GaryShaffer"
        ],
        [
         "MaryWright"
        ],
        [
         "HelenSmith"
        ],
        [
         "DylanButler"
        ],
        [
         "AmandaSmith"
        ],
        [
         "JaneSmith"
        ],
        [
         "MaryBishop"
        ],
        [
         "MaryBurton"
        ],
        [
         "BarbaraSmith"
        ],
        [
         "MarthaBurnett"
        ],
        [
         "SharonSmith"
        ],
        [
         "HenryRoman"
        ],
        [
         "MaryConrad"
        ],
        [
         "RoySmith"
        ],
        [
         "LindaRojas"
        ],
        [
         "TheresaWiggins"
        ],
        [
         "ChristinaWalsh"
        ],
        [
         "KimberlyBlair"
        ],
        [
         "MaryMoore"
        ],
        [
         "LarryHenderson"
        ],
        [
         "PatriciaSerrano"
        ],
        [
         "MaryLopez"
        ],
        [
         "MaryGriffith"
        ],
        [
         "JasonDixon"
        ],
        [
         "ChristopherSloan"
        ],
        [
         "CynthiaSmith"
        ],
        [
         "EdwardDennis"
        ],
        [
         "BobbyBean"
        ],
        [
         "RichardSmith"
        ],
        [
         "JulieSantiago"
        ],
        [
         "JeremyWashington"
        ],
        [
         "JanetWallace"
        ],
        [
         "MariaJordan"
        ],
        [
         "LawrenceSmith"
        ],
        [
         "JohnJacobs"
        ],
        [
         "LouisSmith"
        ],
        [
         "MarySmith"
        ],
        [
         "MargaretSmith"
        ],
        [
         "CarolSmith"
        ],
        [
         "MaryChapman"
        ],
        [
         "DorothySmith"
        ],
        [
         "JaniceCarpenter"
        ],
        [
         "JoyceLeblanc"
        ],
        [
         "MaryDecker"
        ],
        [
         "KennethSmith"
        ],
        [
         "MaryJimenez"
        ],
        [
         "BrittanyFrench"
        ],
        [
         "AngelaPeterson"
        ],
        [
         "MaryKrueger"
        ],
        [
         "ArthurFisher"
        ],
        [
         "BenjaminCole"
        ],
        [
         "BrandonFitzgerald"
        ],
        [
         "TimothySmith"
        ],
        [
         "MaryNewman"
        ],
        [
         "MaryMitchell"
        ],
        [
         "MaryRobinson"
        ],
        [
         "EdwardSmith"
        ],
        [
         "MaryGutierrez"
        ],
        [
         "MaryShepherd"
        ],
        [
         "JonathanSmith"
        ],
        [
         "BarbaraJohnston"
        ],
        [
         "JaniceNovak"
        ],
        [
         "RobertSmith"
        ],
        [
         "MarySandoval"
        ],
        [
         "MaryWilson"
        ],
        [
         "MaryChung"
        ],
        [
         "KimberlyIrwin"
        ],
        [
         "PeterBray"
        ],
        [
         "BrianMitchell"
        ],
        [
         "MaryPatterson"
        ],
        [
         "RuthSmith"
        ],
        [
         "KathrynMarshall"
        ],
        [
         "MaryLittle"
        ],
        [
         "MichelleTerry"
        ],
        [
         "MatthewLove"
        ],
        [
         "MeganLynch"
        ],
        [
         "AdamMarquez"
        ],
        [
         "ElizabethMccann"
        ],
        [
         "JohnJohnson"
        ],
        [
         "LarrySmith"
        ],
        [
         "BrendaHiggins"
        ],
        [
         "ThomasMoore"
        ],
        [
         "MarilynWu"
        ],
        [
         "RyanSmith"
        ],
        [
         "JoseWright"
        ],
        [
         "MaryOrtega"
        ],
        [
         "LisaKeith"
        ],
        [
         "MaryHoward"
        ],
        [
         "MaryFriedman"
        ],
        [
         "MaryMeza"
        ],
        [
         "BillyThompson"
        ],
        [
         "LarryPatel"
        ],
        [
         "WalterHughes"
        ],
        [
         "JasonDalton"
        ],
        [
         "MichelleSmith"
        ],
        [
         "JoseSmith"
        ],
        [
         "AmySmith"
        ],
        [
         "StevenSmith"
        ],
        [
         "MaryHerman"
        ],
        [
         "HowardLee"
        ],
        [
         "MaryCollier"
        ],
        [
         "DeborahSmith"
        ],
        [
         "MaryJones"
        ],
        [
         "RonaldWilson"
        ],
        [
         "MaryWebb"
        ],
        [
         "CarolynSmith"
        ],
        [
         "MaryWhite"
        ],
        [
         "MaryRobertson"
        ],
        [
         "AndrewRasmussen"
        ],
        [
         "MaryBentley"
        ],
        [
         "DavidSmith"
        ],
        [
         "MaryMorrison"
        ],
        [
         "MaryMcgee"
        ],
        [
         "MelissaPowell"
        ],
        [
         "MaryBauer"
        ],
        [
         "DavidGarrison"
        ],
        [
         "MaryBerry"
        ],
        [
         "AshleySmith"
        ],
        [
         "MaryHardy"
        ],
        [
         "AnnSmith"
        ],
        [
         "HaroldJohnson"
        ],
        [
         "CharlesMason"
        ],
        [
         "HannahSmith"
        ],
        [
         "SeanSmith"
        ],
        [
         "JoseCasey"
        ],
        [
         "PhillipSmith"
        ],
        [
         "DavidPhillips"
        ],
        [
         "KimberlyCampos"
        ],
        [
         "AliceWerner"
        ],
        [
         "LauraSmith"
        ],
        [
         "NancyGilbert"
        ],
        [
         "JackSmith"
        ],
        [
         "JosephBrooks"
        ],
        [
         "DianaShepherd"
        ],
        [
         "DonnaHoover"
        ],
        [
         "MaryFletcher"
        ],
        [
         "RaymondSantana"
        ],
        [
         "MaryHarding"
        ],
        [
         "PatriciaSmith"
        ],
        [
         "VirginiaWalker"
        ],
        [
         "MaryNolan"
        ],
        [
         "SarahSmith"
        ],
        [
         "MarilynDiaz"
        ],
        [
         "JoeSmith"
        ],
        [
         "MaryCastillo"
        ],
        [
         "AshleyPowell"
        ],
        [
         "DonaldSampson"
        ],
        [
         "DorothyFrye"
        ],
        [
         "DonnaBautista"
        ],
        [
         "MatthewSmith"
        ],
        [
         "DonaldNelson"
        ],
        [
         "MaryFry"
        ],
        [
         "MichaelHayes"
        ],
        [
         "ElizabethSmith"
        ],
        [
         "GaryBaker"
        ],
        [
         "MaryPayne"
        ],
        [
         "JoshuaSmith"
        ],
        [
         "FrancesHolmes"
        ],
        [
         "JesseFields"
        ],
        [
         "MichelleBennett"
        ],
        [
         "MatthewFields"
        ],
        [
         "LisaShaw"
        ],
        [
         "MaryKhan"
        ],
        [
         "CharlesSmith"
        ],
        [
         "MaryWeeks"
        ],
        [
         "BrandonStephens"
        ],
        [
         "WillieSmith"
        ],
        [
         "MaryNelson"
        ],
        [
         "MaryHodges"
        ],
        [
         "SaraCisneros"
        ],
        [
         "EmmaNoble"
        ],
        [
         "MaryPatel"
        ],
        [
         "MaryBell"
        ],
        [
         "MaryDurham"
        ],
        [
         "JustinSmith"
        ],
        [
         "AmberAnderson"
        ],
        [
         "MaryContreras"
        ],
        [
         "DeborahBarber"
        ],
        [
         "DianaHale"
        ],
        [
         "MaryGonzalez"
        ],
        [
         "MaryGeorge"
        ],
        [
         "ShirleyPerez"
        ],
        [
         "PatrickSmith"
        ],
        [
         "PaulHancock"
        ],
        [
         "DianeZimmerman"
        ],
        [
         "ThomasGray"
        ],
        [
         "RoseWyatt"
        ],
        [
         "TammySmith"
        ],
        [
         "FrancesSmith"
        ],
        [
         "MaryHarris"
        ],
        [
         "MarySanders"
        ],
        [
         "MaryReyes"
        ],
        [
         "StephenSmith"
        ],
        [
         "EvelynWilson"
        ],
        [
         "LindaWalters"
        ]
       ],
       "datasetInfos": [],
       "dbfsResultPath": null,
       "isJsonSchema": true,
       "metadata": {},
       "overflow": false,
       "plotOptions": {
        "customPlotOptions": {},
        "displayType": "table",
        "pivotAggregation": null,
        "pivotColumns": null,
        "xColumns": null,
        "yColumns": null
       },
       "removedWidgets": [],
       "schema": [
        {
         "metadata": "{}",
         "name": "customer_name",
         "type": "\"string\""
        }
       ],
       "type": "table"
      }
     },
     "output_type": "display_data"
    }
   ],
   "source": [
    "display(spark.sql(f\"SELECT distinct customer_name FROM order_cust_vw WHERE customer_state='{state}'AND order_status='{status}' AND order_year={year}\"))\n"
   ]
  },
  {
   "cell_type": "code",
   "execution_count": 0,
   "metadata": {
    "application/vnd.databricks.v1+cell": {
     "cellMetadata": {
      "byteLimit": 2048000,
      "rowLimit": 10000
     },
     "inputWidgets": {},
     "nuid": "eff241cb-2dc5-4573-b70a-36304754756a",
     "showTitle": false,
     "title": ""
    }
   },
   "outputs": [],
   "source": [
    "dbutils.widgets.dropdown(\"month_input\",\"1\",[\"1\",\"2\",\"3\",\"4\",\"5\",\"6\",\"7\",\"8\",\"9\",\"10\",\"11\",\"12\"],\"Month:\")"
   ]
  },
  {
   "cell_type": "code",
   "execution_count": 0,
   "metadata": {
    "application/vnd.databricks.v1+cell": {
     "cellMetadata": {
      "byteLimit": 2048000,
      "rowLimit": 10000
     },
     "inputWidgets": {},
     "nuid": "74d4682e-09f3-4d3f-8ffd-e05e477ff6b8",
     "showTitle": false,
     "title": ""
    }
   },
   "outputs": [],
   "source": [
    "month=dbutils.widgets.get(\"month_input\")\n"
   ]
  },
  {
   "cell_type": "code",
   "execution_count": 0,
   "metadata": {
    "application/vnd.databricks.v1+cell": {
     "cellMetadata": {
      "byteLimit": 2048000,
      "rowLimit": 10000
     },
     "inputWidgets": {},
     "nuid": "1b3a1192-247d-4b70-b70f-bd6babe820ec",
     "showTitle": false,
     "title": ""
    }
   },
   "outputs": [
    {
     "output_type": "execute_result",
     "data": {
      "text/plain": [
       "DataFrame[count(customer_id): bigint]"
      ]
     },
     "execution_count": 67,
     "metadata": {},
     "output_type": "execute_result"
    }
   ],
   "source": [
    "spark.sql(f\"SELECT count(customer_id)FROM order_cust_vw WHERE customer_state='{state}' AND order_status='{status}'AND order_year={year} AND order_month={month}\")"
   ]
  },
  {
   "cell_type": "code",
   "execution_count": 0,
   "metadata": {
    "application/vnd.databricks.v1+cell": {
     "cellMetadata": {},
     "inputWidgets": {},
     "nuid": "57f15016-a8f9-460c-b8c5-06efad3040af",
     "showTitle": false,
     "title": ""
    }
   },
   "outputs": [],
   "source": []
  }
 ],
 "metadata": {
  "application/vnd.databricks.v1+notebook": {
   "dashboards": [],
   "language": "python",
   "notebookMetadata": {
    "mostRecentlyExecutedCommandWithImplicitDF": {
     "commandId": 3178365256526100,
     "dataframes": [
      "_sqldf"
     ]
    },
    "pythonIndentUnit": 4
   },
   "notebookName": "Assignemnt Tasks",
   "widgets": {
    "month_input": {
     "currentValue": "6",
     "nuid": "8c5d154e-7c17-4773-9415-d4edaf7488ce",
     "widgetInfo": {
      "widgetType": "dropdown",
      "defaultValue": "1",
      "label": "Month:",
      "name": "month_input",
      "options": {
       "widgetType": "dropdown",
       "autoCreated": null,
       "choices": [
        "1",
        "2",
        "3",
        "4",
        "5",
        "6",
        "7",
        "8",
        "9",
        "10",
        "11",
        "12"
       ]
      }
     }
    },
    "state_input": {
     "currentValue": "TX",
     "nuid": "f78ea09b-6dd2-4320-b5fa-33a553143679",
     "widgetInfo": {
      "widgetType": "dropdown",
      "defaultValue": "TX",
      "label": "State:",
      "name": "state_input",
      "options": {
       "widgetType": "dropdown",
       "autoCreated": null,
       "choices": [
        "TX",
        "NY",
        "CA"
       ]
      }
     }
    },
    "status_input": {
     "currentValue": "COMPLETE",
     "nuid": "01f03a27-a77a-498a-ae1b-b115e3d15f09",
     "widgetInfo": {
      "widgetType": "dropdown",
      "defaultValue": "COMPLETE",
      "label": "Status:",
      "name": "status_input",
      "options": {
       "widgetType": "dropdown",
       "autoCreated": null,
       "choices": [
        "COMPLETE",
        "PENDING_PAYMENT",
        "CLOSED",
        "PROCESSING"
       ]
      }
     }
    },
    "year_input": {
     "currentValue": "2014",
     "nuid": "83a22c3e-79c5-487c-b22b-662fb3b60a95",
     "widgetInfo": {
      "widgetType": "text",
      "defaultValue": "2014",
      "label": "Year:",
      "name": "year_input",
      "options": {
       "widgetType": "text",
       "autoCreated": null,
       "validationRegex": null
      }
     }
    }
   }
  }
 },
 "nbformat": 4,
 "nbformat_minor": 0
}
